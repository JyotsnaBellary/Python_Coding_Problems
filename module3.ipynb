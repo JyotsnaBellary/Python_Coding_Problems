{
 "cells": [
  {
   "cell_type": "markdown",
   "metadata": {},
   "source": [
    "# Given a point(x, y), Write Python Program to Find Whether it Lies in the First,Second, Third or Fourth Quadrant of x - y Plane"
   ]
  },
  {
   "cell_type": "code",
   "execution_count": 1,
   "metadata": {},
   "outputs": [
    {
     "name": "stdout",
     "output_type": "stream",
     "text": [
      "enter the 2 points:\n",
      "enetr the 1st point:4\n",
      "enter the 2nd point:3\n",
      "lies in 1st qudrant:\n"
     ]
    }
   ],
   "source": [
    "import math\n",
    "class point:\n",
    "    \"\"\"represent\"\"\"\n",
    "    \n",
    "def read_input(p):\n",
    "    p.x=float(input(\"enetr the 1st point:\"))\n",
    "    p.y=float(input(\"enter the 2nd point:\"))\n",
    "def compute(p1):\n",
    "    if(p1.x>0 and p1.y>0):\n",
    "        print(\"lies in 1st qudrant:\")\n",
    "    elif(p1.x<0 and p1.y>0):\n",
    "         print(\"lies in 2nd qudrant:\")\n",
    "    elif(p1.x<0 and p1.y<0):\n",
    "         print(\"lies in 3rd qudrant:\")\n",
    "    elif(p1.x>0 and p1.y<0):\n",
    "         print(\"lies in 4th qudrant:\")\n",
    "    elif(p1.x==0 and p1.y==0):\n",
    "        print(\"lies in origin:\")\n",
    "p1=point()\n",
    "print(\"enter the 2 points:\")\n",
    "read_input(p1)\n",
    "compute(p1)"
   ]
  },
  {
   "cell_type": "markdown",
   "metadata": {},
   "source": [
    "# Given Three Points (x1, y1), (x2, y2) and (x3, y3), Write a Python Program to Check If they are Collinear"
   ]
  },
  {
   "cell_type": "code",
   "execution_count": 15,
   "metadata": {},
   "outputs": [
    {
     "name": "stdout",
     "output_type": "stream",
     "text": [
      "enter the 3 points:\n",
      "enter x14\n",
      "enter y12\n",
      "enter x24\n",
      "enter y26\n",
      "enter x32\n",
      "enter y33\n",
      "it is not a collinear\n"
     ]
    },
    {
     "data": {
      "text/plain": [
       "'class point:\\n    \\ndef read(p):\\n    p.x = float(input(\"Enter x coordinate\"))\\n    p.y = float(input(\"Enter y coordinate\"))    \\n\\ndef calculate(p1,p2,p3):\\n    a = p1.x * (p2.y - p3.y) + p2.x * (p3.y - p1.y) + p3.x * (p1.y - p2.y)\\n    if a == 0:\\n        print(\"Yes\")\\n    else:\\n        print(\"No\")\\np1 = point()\\np2 = point()\\np3 = point()\\nprint(\"Enter coordinates of first point:\")\\nread(p1)\\nprint(\"Enter coordinates of second point:\")\\nread(p2)\\nprint(\"Enter coordinates of third point:\")\\nread(p3)\\n\\nprint(\"Are the points collinear?\")\\ncalculate(p1,p2,p3)'"
      ]
     },
     "execution_count": 15,
     "metadata": {},
     "output_type": "execute_result"
    }
   ],
   "source": [
    "class point:\n",
    "    \"\"\"repersent\"\"\"\n",
    "def read_input(p):\n",
    "    p1.x1=float(input(\"enter x1\"))\n",
    "    p1.y1=float(input(\"enter y1\"))\n",
    "    p1.x2=float(input(\"enter x2\"))\n",
    "    p1.y2=float(input(\"enter y2\"))\n",
    "    p1.x3=float(input(\"enter x3\"))\n",
    "    p1.y3=float(input(\"enter y3\"))\n",
    "def collinear(p1):\n",
    "    a = p1.x1 * (p1.y2 - p1.y3) + p1.x2 * (p1.y3 - p1.y1) + p1.x3 * (p1.y1 -p1.y2) \n",
    "\n",
    "    if(a==0):\n",
    "        print(\"it is a collinear\")\n",
    "    else:\n",
    "        print(\"it is not a collinear\")\n",
    "        \n",
    "p1=point()\n",
    "print(\"enter the 3 points:\")\n",
    "read_input(p1)\n",
    "collinear(p1)\n",
    "\n",
    "\n",
    "\n",
    "#or u can do it in\n",
    "\"\"\"class point:\n",
    "    \n",
    "def read(p):\n",
    "    p.x = float(input(\"Enter x coordinate\"))\n",
    "    p.y = float(input(\"Enter y coordinate\"))    \n",
    "\n",
    "def calculate(p1,p2,p3):\n",
    "    a = p1.x * (p2.y - p3.y) + p2.x * (p3.y - p1.y) + p3.x * (p1.y - p2.y)\n",
    "    if a == 0:\n",
    "        print(\"Yes\")\n",
    "    else:\n",
    "        print(\"No\")\n",
    "p1 = point()\n",
    "p2 = point()\n",
    "p3 = point()\n",
    "print(\"Enter coordinates of first point:\")\n",
    "read(p1)\n",
    "print(\"Enter coordinates of second point:\")\n",
    "read(p2)\n",
    "print(\"Enter coordinates of third point:\")\n",
    "read(p3)\n",
    "\n",
    "print(\"Are the points collinear?\")\n",
    "calculate(p1,p2,p3)\"\"\""
   ]
  },
  {
   "cell_type": "markdown",
   "metadata": {},
   "source": [
    "# Write Python Program to Calculate the Arc Length of an Angle by Assigning Values to the Radius and Angle Data Attributes of the class ArcLength"
   ]
  },
  {
   "cell_type": "code",
   "execution_count": 16,
   "metadata": {},
   "outputs": [
    {
     "name": "stdout",
     "output_type": "stream",
     "text": [
      "enter the diameter:4\n",
      "enter the angle:60\n",
      "the arc_length is: 2.0933333333333333\n"
     ]
    }
   ],
   "source": [
    "class angle:\n",
    "    \"\"\"represent\"\"\"\n",
    "def read_input(p):\n",
    "    p.diameter=int(input(\"enter the diameter:\"))\n",
    "    p.angle=int(input(\"enter the angle:\"))\n",
    "def compute(p1):\n",
    "    if p1.angle>360:\n",
    "        print(\"cannot compute,Enter angle less than 361\")\n",
    "        return\n",
    "    arc_length=(3.14*p1.diameter)*(p1.angle/360)\n",
    "    print(\"the arc_length is:\",arc_length)\n",
    "p1=angle()\n",
    "read_input(p1)\n",
    "compute(p1)"
   ]
  },
  {
   "cell_type": "markdown",
   "metadata": {},
   "source": [
    "# Write a class Rectangle containing numeric attributes width and height. This class should contain another attribute corner which is an instance of another class Point.\n",
    "#Implement following functions –\n",
    "\n",
    "#A function to print corner point as an ordered-pair\n",
    "\n",
    "#A function find_center() to compute center point of the rectangle\n",
    "\n",
    "#A function resize() to modify the size of rectangle"
   ]
  },
  {
   "cell_type": "code",
   "execution_count": 3,
   "metadata": {},
   "outputs": [
    {
     "name": "stdout",
     "output_type": "stream",
     "text": [
      "enter the width of rectangle:6\n",
      "enter the height of rectangle4\n",
      "enter the x point:2\n",
      "enter the y point:4\n",
      "the center of rectangle:(5,6)\n",
      "enter the resize width:7\n",
      "enetr the resize height:4\n",
      "the new width and height of rectangle:(13,8)\n",
      "enter the x point:2\n",
      "enter the y point:4\n",
      "the center of rectangle:(8.5,8)\n"
     ]
    }
   ],
   "source": [
    "class point:\n",
    "    \"\"\"represent\"\"\"\n",
    "class rectangle:\n",
    "    \"\"\"represent\"\"\"\n",
    "def read_input(p):\n",
    "    p.width=int(input(\"enter the width of rectangle:\"))\n",
    "    p.height=int(input(\"enter the height of rectangle\"))\n",
    "    \n",
    "def find_center(p):\n",
    "    p.corner=point()\n",
    "    p.corner.x=int(input(\"enter the x point:\"))\n",
    "    p.corner.y=int(input(\"enter the y point:\"))\n",
    "    p.x=p.corner.x+p.width/2\n",
    "    p.y=p.corner.y+p.height/2\n",
    "    \n",
    "def print_center(p):\n",
    "    print(\"the center of rectangle:\"\"(%g,%g)\"%(p.x,p.y))\n",
    "    \n",
    "    \n",
    "def grow_rectangle(p2,dwidth,dheight):\n",
    "    p2.width +=dwidth\n",
    "    p2.height += dheight\n",
    "    print(\"the new width and height of rectangle:\"\"(%g,%g)\"%(p2.width,p2.height))\n",
    "    find_center(p2)\n",
    "    print_center(p2)\n",
    "    \n",
    "p2=rectangle()\n",
    "read_input(p2)\n",
    "find_center(p2)\n",
    "print_center(p2)\n",
    "\n",
    "dwidth=int(input(\"enter the resize width:\"))\n",
    "dheight=int(input(\"enetr the resize height:\"))\n",
    "grow_rectangle(p2,dwidth,dheight)\n"
   ]
  },
  {
   "cell_type": "markdown",
   "metadata": {},
   "source": [
    "# Write a function named move_rectangle that takes a Rectangle and two numbers named dx and dy. It should change the location of the rectangle by adding dx to the x coordinate of corner and adding dy to the y coordinate of corner."
   ]
  },
  {
   "cell_type": "code",
   "execution_count": 5,
   "metadata": {},
   "outputs": [
    {
     "name": "stdout",
     "output_type": "stream",
     "text": [
      "Enter corner of rectangle:\n",
      "Enter x coordinate:4\n",
      "Enter y coordinate:6\n",
      "Enter width by how much rectangle should move:2\n",
      "Enter length by how much rectangle should move:2\n",
      "New location of rectangle:(6,8)\n"
     ]
    }
   ],
   "source": [
    "class point:\n",
    "    \"\"\"for point\"\"\"\n",
    "class rectangle:\n",
    "    \"\"\"for rectangle\"\"\"\n",
    "\n",
    "def read_corner(box):\n",
    "    box.p1 = point()\n",
    "    box.p1.x = float(input(\"Enter x coordinate:\")) \n",
    "    box.p1.y = float(input(\"Enter y coordinate:\"))\n",
    "\n",
    "def new_corner(box, dx, dy):\n",
    "    box.p1.x += dx\n",
    "    box.p1.y += dy\n",
    "    print(\"New location of rectangle:\" \"(%g,%g)\"%(box.p1.x,box.p1.y))\n",
    "box = rectangle()\n",
    "print(\"Enter corner of rectangle:\")\n",
    "read_corner(box)\n",
    "dx = float(input(\"Enter width by how much rectangle should move:\"))\n",
    "dy = float(input(\"Enter length by how much rectangle should move:\"))\n",
    "new_corner(box,dx,dy)"
   ]
  },
  {
   "cell_type": "markdown",
   "metadata": {},
   "source": [
    "# Print the sum, difference and product of two complex numbers by creating a class named 'Complex' with separate functions for each operation where the real and imaginary parts are entered by user."
   ]
  },
  {
   "cell_type": "code",
   "execution_count": 12,
   "metadata": {},
   "outputs": [
    {
     "name": "stdout",
     "output_type": "stream",
     "text": [
      "Enter the first complex no:\n",
      "enter a real part:2\n",
      "enetr the imaginary part:3\n",
      "Enter the second complex no:\n",
      "enter a real part:4\n",
      "enetr the imaginary part:1\n",
      "Sum=6+4i\n",
      "Difference=-2+2i\n",
      "Product=5+14i\n"
     ]
    }
   ],
   "source": [
    "class complex:\n",
    "    \"\"\"represent\"\"\"\n",
    "def read(num):\n",
    "    num.a=int(input(\"enter a real part:\"))\n",
    "    num.b=int(input(\"enetr the imaginary part:\"))\n",
    "def add(num1,num2):\n",
    "    add=complex()\n",
    "    add.a=num1.a+num2.a\n",
    "    add.b=num1.b+num2.b\n",
    "    return add\n",
    "\n",
    "def sub(num1,num2):\n",
    "    sub=complex()\n",
    "    sub.a=num1.a-num2.a\n",
    "    sub.b=num1.b-num2.b\n",
    "    return sub\n",
    "    \n",
    "def mul(num1,num2):\n",
    "    mul=complex()\n",
    "    mul.a=(num1.a*num2.a)-(num1.b*num2.b)\n",
    "    mul.b=(num1.a*num2.b)+(num1.b*num2.a)\n",
    "    return mul\n",
    "    \n",
    "def print_complex(num):\n",
    "    if(num.b>0):\n",
    "        print(\"%g+%gi\"%(num.a,num.b))\n",
    "    elif(num.b<0):\n",
    "        print(\"%g%gi\"%(num.a,num.b))\n",
    "    else:\n",
    "        print(\"%g\"%(num.a))\n",
    "\n",
    "num1=complex()\n",
    "print(\"Enter the first complex no:\")\n",
    "read(num1)\n",
    "\n",
    "num2=complex()\n",
    "print(\"Enter the second complex no:\")\n",
    "read(num2)\n",
    "\n",
    "add_res=add(num1,num2);\n",
    "print(\"Sum=\",end=\"\")\n",
    "print_complex(add_res)\n",
    "\n",
    "sub_res=sub(num1,num2);\n",
    "print(\"Difference=\",end=\"\")\n",
    "print_complex(sub_res)\n",
    "\n",
    "mul_res=mul(num1,num2);\n",
    "print(\"Product=\",end=\"\")\n",
    "print_complex(mul_res)\n",
    "\n",
    "#or u can write as\n",
    "\"\"\"class complex:\n",
    "    \"\"\"complex\"\"\"\n",
    "def add(c):\n",
    "    c.r = c.r1 + c.r2\n",
    "    c.i = c.i1 + c.i2\n",
    "    if c.i > 0:\n",
    "        print(\"The sum of the complex numbers is: %g + %gi\"%(c.r,c.i))\n",
    "    else:\n",
    "        print(\"The sum of the complex numbers is: %g - %gi\"%(c.r,c.i))\n",
    "        \n",
    "def subtract(c):\n",
    "    c.r = c.r1 - c.r2\n",
    "    c.i = c.i1 - c.i2\n",
    "    \n",
    "if c.i > 0:\n",
    "        print(\"The difference of the complex numbers is: %g + %gi\"%(c.r,c.i))\n",
    "    else:\n",
    "        print(\"The difference of the complex numbers is: %g - %gi\"%(c.r,c.i))\n",
    "    \n",
    "def multiply(c):\n",
    "    c.r = (c.r1*c.r2)-(c.i1*c.i2)\n",
    "    c.i=(c.r1*c.i2)+(c.i1*c.r2)\n",
    "    if c.i > 0:\n",
    "        print(\"The multiplication of the complex numbers is: %g + %gi\"%(c.r,c.i))\n",
    "    else:\n",
    "        print(\"The multiplication of the complex numbers is: %g - %gi\"%(c.r,c.i)\n",
    "c = complex()   \n",
    "print(\"Enter the first number:\")\n",
    "c.r1 = float(input(\"Enter the real part:\"))\n",
    "c.i1 = float(input(\"Enter the imaginary part:\"))\n",
    "print(\"Enter the second number:\")\n",
    "c.r2 = float(input(\"Enter the real part:\"))\n",
    "c.i2 = float(input(\"Enter the imaginary part:\"))\n",
    "add(c)\n",
    "subtract(c)\n",
    "multiply(c)\"\"\"\n",
    "    "
   ]
  },
  {
   "cell_type": "markdown",
   "metadata": {},
   "source": [
    "# Write a definition for a class named Circle with attributes center and radius, where center is a Point object and radius is a number. Instantiate a Circle object that represents a circle with its center at (150, 100) and radius 75. Write a function named point_in_circle that takes a Circle and a Point and returns True if the Point lies in or on the boundary of the circle."
   ]
  },
  {
   "cell_type": "code",
   "execution_count": 1,
   "metadata": {},
   "outputs": [
    {
     "name": "stdout",
     "output_type": "stream",
     "text": [
      "Enter the point:\n",
      "enter the x-coordinate:4\n",
      "enter the y-coordinate:2\n",
      "distance: 175.84083712266613\n",
      "Point does not lies inside the circle.\n"
     ]
    }
   ],
   "source": [
    "import math\n",
    "class Circle:\n",
    "    \"\"\"This is a class Circle Representing a circle with\n",
    "    Attributes:radius and center x and y\"\"\"\n",
    "\n",
    "class Point:\n",
    "    \"\"\"This is a class Point Representing a point with\n",
    "    Attributes:x and y\"\"\"\n",
    "    \n",
    "def read_point(p):\n",
    "    p.x=float(input(\"enter the x-coordinate:\"))\n",
    "    p.y=float(input(\"enter the y-coordinate:\"))\n",
    "\n",
    "def distance(p1,p2):\n",
    "    d=math.sqrt((p1.x-p2.x)**2+(p1.y-p2.y)**2)\n",
    "    return d\n",
    "\n",
    "def point_in_circle(c,c1):\n",
    "    \"\"\"returns true if point lies in the\n",
    "    boundary of the circle\"\"\"\n",
    "    d=distance(c.center,c1)\n",
    "    print(\"distance:\",d)\n",
    "    if(d<=c.radius):\n",
    "        return True\n",
    "    else:\n",
    "        return False\n",
    "\n",
    "c=Circle() #c is an instace/object of class Circle\n",
    "c.center=Point() #center is an attribute of object c\n",
    "c.center.x=150\n",
    "c.center.y=100\n",
    "c.radius=75\n",
    "\n",
    "c1=Point()\n",
    "print(\"Enter the point:\")\n",
    "read_point(c1)\n",
    "if(point_in_circle(c,c1)):\n",
    "    print(\"Point lies inside the circle.\")\n",
    "else:\n",
    "    print(\"Point does not lies inside the circle.\")"
   ]
  },
  {
   "cell_type": "markdown",
   "metadata": {},
   "source": [
    "# Write a function named rect_in_circle that takes a Circle and a Rectangle and returns True if the Rectangle lies entirely in or on the boundary of the circle."
   ]
  },
  {
   "cell_type": "code",
   "execution_count": 6,
   "metadata": {},
   "outputs": [
    {
     "name": "stdout",
     "output_type": "stream",
     "text": [
      "enter the radius of circle:5\n",
      "enter the x co-ordinate:2\n",
      "enter the y co-ordinate:2\n",
      "enter the lenght of rectangle:25\n",
      "enter the width of rectangle:10\n",
      "enter the 1stcorner point x of rectangle:4\n",
      "enter the 1stcorner point y of rectangle:2\n",
      "the rectangle lies outside the boundary \n"
     ]
    }
   ],
   "source": [
    "class point:\n",
    "    \"\"\"r\"\"\"\n",
    "class circle:\n",
    "    \"\"\"r\"\"\"\n",
    "class rectangle:\n",
    "    \"\"\"r\"\"\"\n",
    "def distance(c1,r1):\n",
    "    d=math.sqrt((c1.center.x-r1.point1.x)**2+(c1.center.y-r1.point1.y)**2)\n",
    "    d1=math.sqrt((c1.center.x-r1.point2.x)**2+(c1.center.y-r1.point2.y)**2)\n",
    "    rect_in_circle(d,d1,c1,r1)\n",
    "def corners(r):\n",
    "    r.point2=point()\n",
    "    r.point2.x=r.point1.x+r.width\n",
    "    r.point2.y=r.point1.y+r.length\n",
    "def rect_in_circle(d,d1,c,r):\n",
    "    if (d1==c.radius) and (d==c.radius):\n",
    "        print(\"the rectangle lies on the boundary\")\n",
    "    if (d1<c.radius) and (d<c.radius) or (d1==c.radius) and (d<c.radius) or (d1<c.radius) and (d==c.radius):\n",
    "        print(\"the rectangle lies inside the boundary\")\n",
    "    else:\n",
    "        print(\"the rectangle lies outside the boundary \")\n",
    "    \n",
    "    \n",
    "\n",
    "c1=circle()\n",
    "c1.radius=int(input(\"enter the radius of circle:\"))\n",
    "c1.center=point()\n",
    "c1.center.x=int(input(\"enter the x co-ordinate:\"))\n",
    "c1.center.y=int(input(\"enter the y co-ordinate:\"))\n",
    "\n",
    "r1=rectangle()\n",
    "r1.length=int(input(\"enter the lenght of rectangle:\"))\n",
    "r1.width=int(input(\"enter the width of rectangle:\"))\n",
    "r1.point1=point()\n",
    "r1.point1.x=int(input(\"enter the 1stcorner point x of rectangle:\"))\n",
    "r1.point1.y=int(input(\"enter the 1stcorner point y of rectangle:\"))\n",
    "corners(r1)\n",
    "distance(c1,r1)\n",
    "\n",
    "\n",
    "\n",
    "\n",
    "\n",
    "\n"
   ]
  },
  {
   "cell_type": "markdown",
   "metadata": {},
   "source": [
    "# Write a “pure” version of increment that creates and returns a new Time object rather than modifying the parameter."
   ]
  },
  {
   "cell_type": "code",
   "execution_count": 2,
   "metadata": {},
   "outputs": [
    {
     "name": "stdout",
     "output_type": "stream",
     "text": [
      "12:13:4\n"
     ]
    }
   ],
   "source": [
    "class Time:\n",
    "    pass\n",
    "def increment(time, seconds):\n",
    "    \n",
    "    time1.second = time.second+seconds\n",
    "\n",
    "    if time1.second >= 60:\n",
    "\n",
    "        time1.second -= 60\n",
    "\n",
    "        time.minute += 1\n",
    "\n",
    "    if time.minute >= 60:\n",
    "\n",
    "        time.minute -= 60\n",
    "\n",
    "        time.hour += 1\n",
    "        \n",
    "    return time1\n",
    "        \n",
    "def print_time(time):\n",
    "    print(\"%d:%d:%d\"%(time.hour,time.minute,time1.second))\n",
    "time=Time()\n",
    "time1=Time()\n",
    "time.hour=12\n",
    "time.second=60\n",
    "time.minute=12\n",
    "increment(time,4)\n",
    "print_time(time)\n"
   ]
  },
  {
   "cell_type": "markdown",
   "metadata": {},
   "source": [
    "# 8.Write a Program that creates a class called Time with attributes hour, minute and second. Write the following functions                                                      A function to read the attributes                                                                                 A function to print the time in format                                                                           A function to add 2 time objects"
   ]
  },
  {
   "cell_type": "code",
   "execution_count": 8,
   "metadata": {},
   "outputs": [
    {
     "name": "stdout",
     "output_type": "stream",
     "text": [
      "To add 2 time's:\n",
      "Enter the first time in format hh:mm:ss:\n",
      "Enter the time-2:30:00\n",
      "Enter the second time in format hh:mm:ss:\n",
      "Enter the time-3:30:00\n",
      "Total time=06:00:00\n"
     ]
    }
   ],
   "source": [
    "class Time():\n",
    "    \"\"\"Represents the time of day\n",
    "    attributes:hour,min,sec\"\"\"\n",
    "\n",
    "def read_time(time):\n",
    "    time.hour,time.minute,time.second=input(\"Enter the time-\").split(\":\")\n",
    "    time.hour,time.minute,time.second=int(time.hour),int(time.minute),int(time.second)\n",
    "\n",
    "def print_time(time):\n",
    "    print(\"%02d:%02d:%02d\"%(time.hour,time.minute,time.second))\n",
    "\n",
    "def time_to_int(time):\n",
    "    minutes = time.hour * 60 + time.minute\n",
    "    seconds = minutes * 60 + time.second\n",
    "    return seconds\n",
    "\n",
    "def int_to_time(seconds):\n",
    "    time = Time()\n",
    "    minutes, time.second = divmod(seconds, 60)\n",
    "    time.hour, time.minute = divmod(minutes, 60)\n",
    "    return time\n",
    "\n",
    "def add_time(t1,t2):\n",
    "    seconds = time_to_int(t1) + time_to_int(t2)\n",
    "    return int_to_time(seconds)\n",
    "\n",
    "print(\"To add 2 time's:\")\n",
    "time1,time2=Time(),Time()\n",
    "print(\"Enter the first time in format hh:mm:ss:\")\n",
    "read_time(time1)\n",
    "print(\"Enter the second time in format hh:mm:ss:\")\n",
    "read_time(time2)\n",
    "total_time=add_time(time1,time2)\n",
    "print(\"Total time=\",end=\"\")\n",
    "print_time(total_time)"
   ]
  },
  {
   "cell_type": "markdown",
   "metadata": {},
   "source": [
    "# 9.Write a Program that creates a class called Time with attributes hour, minute and second. Write the following\n",
    "#functions\n",
    "#A function to read the attributes\n",
    "#A function to print the time in format\n",
    "#A function to sub 2 time objects where the first object represents start of the event and second object\n",
    "#represents end of the event and finds the durtaion between them\n",
    "\n"
   ]
  },
  {
   "cell_type": "code",
   "execution_count": 10,
   "metadata": {},
   "outputs": [
    {
     "name": "stdout",
     "output_type": "stream",
     "text": [
      "To subtract 2 time's:\n",
      "Enter the start time in format hh:mm:ss:\n",
      "Enter the time-2:30:00\n",
      "Enter the end time in format hh:mm:ss:\n",
      "Enter the time-4:45:00\n",
      "Duration time=02:15:00\n"
     ]
    }
   ],
   "source": [
    "class Time():\n",
    "    \"\"\"Represents the time of day\n",
    "       attributes:hour,min,sec\"\"\"\n",
    "\n",
    "def read_time(time):\n",
    "    time.hour,time.minute,time.second=input(\"Enter the time-\").split(\":\")\n",
    "    time.hour,time.minute,time.second=int(time.hour),int(time.minute),int(time.second)\n",
    "\n",
    "def print_time(time):\n",
    "    print(\"%02d:%02d:%02d\"%(time.hour,time.minute,time.second))\n",
    "\n",
    "def time_to_int(time):\n",
    "    minutes = time.hour * 60 + time.minute\n",
    "    seconds = minutes * 60 + time.second\n",
    "    return seconds\n",
    "\n",
    "def int_to_time(seconds):\n",
    "    time = Time()\n",
    "    minutes, time.second = divmod(seconds, 60)\n",
    "    time.hour, time.minute = divmod(minutes, 60)\n",
    "    return time\n",
    "\n",
    "def sub_time(t2,t1):\n",
    "    seconds = time_to_int(t2) - time_to_int(t1)\n",
    "    return int_to_time(seconds)\n",
    "\n",
    "print(\"To subtract 2 time's:\")\n",
    "time1,time2=Time(),Time()\n",
    "print(\"Enter the start time in format hh:mm:ss:\")\n",
    "read_time(time1)\n",
    "print(\"Enter the end time in format hh:mm:ss:\")\n",
    "read_time(time2)\n",
    "duration_time=sub_time(time2,time1)\n",
    "print(\"Duration time=\",end=\"\")\n",
    "print_time(duration_time)"
   ]
  },
  {
   "cell_type": "markdown",
   "metadata": {},
   "source": [
    "# 10.Write a Program that creates a class called Time with attributes hour, minute and second. Write the following functions\n",
    "#A function to read the attributes\n",
    "#A function to print the time in format\n",
    "#Write a function called mul_time that takes a Time object and a number and returns a new Time object that\n",
    "#contains the product of the original Time and the number.\n",
    "\n",
    " \n"
   ]
  },
  {
   "cell_type": "code",
   "execution_count": 11,
   "metadata": {},
   "outputs": [
    {
     "name": "stdout",
     "output_type": "stream",
     "text": [
      "\n",
      "To multiply time by a give no.\n",
      "Enter the time in format hh:mm:ss:\n",
      "Enter the time-2:30:00\n",
      "Enter the additonal seconds:45\n",
      "New time after multiplication:16:30:00\n"
     ]
    }
   ],
   "source": [
    "import copy\n",
    "class Time():\n",
    "    \"\"\"Represents the time of day\n",
    "    attributes:hour,min,sec\"\"\"\n",
    "\n",
    "def read_time(time):\n",
    "    time.hour,time.minute,time.second=input(\"Enter the time-\").split(\":\")\n",
    "    time.hour,time.minute,time.second=int(time.hour),int(time.minute),int(time.second)\n",
    "\n",
    "def print_time(time):\n",
    "    print(\"%02d:%02d:%02d\"%(time.hour,time.minute,time.second))\n",
    "\n",
    "def time_to_int(time):\n",
    "    minutes = time.hour * 60 + time.minute\n",
    "    seconds = minutes * 60 + time.second\n",
    "    return seconds\n",
    "def int_to_time(seconds):\n",
    "    time = Time()\n",
    "    minutes, time.second = divmod(seconds, 60)\n",
    "    time.hour, time.minute = divmod(minutes, 60)\n",
    "    return time\n",
    "\n",
    "def mul_time(time,num):\n",
    "    time_int = time_to_int(time) * num\n",
    "    new_time = int_to_time(time_int)\n",
    "    if new_time.hour > 24:\n",
    "        new_time.hour = new_time.hour % 24\n",
    "    return new_time\n",
    "\n",
    "print(\"\\nTo multiply time by a give no.\")\n",
    "time=Time()\n",
    "print(\"Enter the time in format hh:mm:ss:\")\n",
    "read_time(time)\n",
    "secs=int(input(\"Enter the additonal seconds:\"))\n",
    "res=mul_time(time,secs)\n",
    "print(\"New time after multiplication:\",end=\"\")\n",
    "print_time(res)"
   ]
  },
  {
   "cell_type": "markdown",
   "metadata": {},
   "source": [
    "# 11.Write a Program that creates a class called Time with attributes hour, minute and second. Write the following functions\n",
    "#A function to read the attributes\n",
    "#A function to print the time in format\n",
    "#Write a boolean function called is_after that takes two Time objects, t1 and t2, and returns True if t1 follows\n",
    "#t2 chronologically and False otherwise."
   ]
  },
  {
   "cell_type": "code",
   "execution_count": 13,
   "metadata": {},
   "outputs": [
    {
     "name": "stdout",
     "output_type": "stream",
     "text": [
      "Enter the start time in format hh:mm:ss:\n",
      "Enter the time-12:30:45\n",
      "Enter the end time in format hh:mm:ss:\n",
      "Enter the time-11:30:00\n",
      "Time1 follows Time2\n"
     ]
    }
   ],
   "source": [
    "class Time():\n",
    "    \"\"\"Represents the time of day\n",
    "    attributes:hour,min,sec\"\"\"\n",
    "\n",
    "def read_time(time):\n",
    "    time.hour,time.minute,time.second=input(\"Enter the time-\").split(\":\")\n",
    "    time.hour,time.minute,time.second=int(time.hour),int(time.minute),int(time.second)\n",
    "\n",
    "def print_time(time):\n",
    "    print(\"%02d:%02d:%02d\"%(time.hour,time.minute,time.second))\n",
    "\n",
    "def time_to_int(time):\n",
    "    minutes = time.hour * 60 + time.minute\n",
    "    seconds = minutes * 60 + time.second\n",
    "    return seconds\n",
    "\n",
    "def int_to_time(seconds):\n",
    "    time = Time()\n",
    "    minutes, time.second = divmod(seconds, 60)\n",
    "    time.hour, time.minute = divmod(minutes, 60)\n",
    "    return time\n",
    "def is_after(t1,t2):\n",
    "    a=time_to_int(t1)\n",
    "    b=time_to_int(t2)\n",
    "    return a>b\n",
    "time1,time2=Time(),Time()\n",
    "print(\"Enter the start time in format hh:mm:ss:\")\n",
    "read_time(time1)\n",
    "print(\"Enter the end time in format hh:mm:ss:\")\n",
    "read_time(time2)\n",
    "if(is_after(time1,time2)):\n",
    "    print(\"Time1 follows Time2\")\n",
    "else:\n",
    "    print(\"Time2 follows Time1\")"
   ]
  },
  {
   "cell_type": "markdown",
   "metadata": {},
   "source": [
    "# 12.Write a Program that creates a class called Time with attributes hour, minute and second. Write the following functions\n",
    "#A function to read the attributes\n",
    "#A function to print the time in format\n",
    "#A modifier increment, which adds a given number of seconds to a Time object\n",
    "\n",
    " "
   ]
  },
  {
   "cell_type": "code",
   "execution_count": 14,
   "metadata": {},
   "outputs": [
    {
     "name": "stdout",
     "output_type": "stream",
     "text": [
      "Enter the time in format hh:mm:ss:\n",
      "Enter the time-12:30:45\n",
      "Enter the additional seconds::120\n",
      "12:32:45\n"
     ]
    }
   ],
   "source": [
    "class Time():\n",
    "    \"\"\"Represents the time of day\n",
    "    attributes:hour,min,sec\"\"\"\n",
    "\n",
    "def read_time(time):\n",
    "    time.hour,time.minute,time.second=input(\"Enter the time-\").split(\":\")\n",
    "    time.hour,time.minute,time.second=int(time.hour),int(time.minute),int(time.second)\n",
    "\n",
    "def print_time(time):\n",
    "    print(\"%02d:%02d:%02d\"%(time.hour,time.minute,time.second))\n",
    "\n",
    "def increment(t, seconds):\n",
    "    t.second += seconds\n",
    "    while t.second >= 60:\n",
    "        t.second -= 60\n",
    "        t.minute += 1\n",
    "    while t.minute >= 60:\n",
    "        t.minute -= 60\n",
    "        t.hour += 1\n",
    "time1=Time()\n",
    "print(\"Enter the time in format hh:mm:ss:\")\n",
    "read_time(time1)\n",
    "sec=int(input(\"Enter the additional seconds::\"))\n",
    "increment(time1,sec)\n",
    "print_time(time1)"
   ]
  },
  {
   "cell_type": "markdown",
   "metadata": {},
   "source": [
    "# Write a definition for a class named Kangaroo with the following methods: An init method that initializes an attribute named pouch_contents to an empty list. A method named put_in_pouch that takes an object of any type and adds it to pouch_contents. A str method that returns a string representation of the Kangaroo object and the contents of the pouch. Test your code by creating two Kangaroo objects, assigning them to variables named kanga and roo, and then adding roo to the contents of kanga’s pouch."
   ]
  },
  {
   "cell_type": "code",
   "execution_count": 17,
   "metadata": {},
   "outputs": [
    {
     "name": "stdout",
     "output_type": "stream",
     "text": [
      "pouch contents of kanga: [10, 20, 'wallet', 'car keys', 'roo']\n"
     ]
    }
   ],
   "source": [
    "class kangaroo:\n",
    "    def __init__(self,name=\"kangaroo\",content=[]):\n",
    "        self.name=name\n",
    "        self.pouch_contents=content\n",
    "    def put_in_pouch(self,item):\n",
    "        self.pouch_contents.append(item)\n",
    "    def __str__(self):\n",
    "        return str(self.pouch_contents)\n",
    "kanga=kangaroo(\"abc\",[10,20])\n",
    "roo=kangaroo(\"egf\")\n",
    "kanga.put_in_pouch(\"wallet\")\n",
    "kanga.put_in_pouch(\"car keys\")\n",
    "kanga.put_in_pouch(\"roo\")\n",
    "print(\"pouch contents of kanga:\",kanga)"
   ]
  },
  {
   "cell_type": "markdown",
   "metadata": {},
   "source": [
    "# write a python program to create a class called complex add and subtract 2 complex numbers.display the result by overloading + and - operator"
   ]
  },
  {
   "cell_type": "code",
   "execution_count": 18,
   "metadata": {},
   "outputs": [
    {
     "name": "stdout",
     "output_type": "stream",
     "text": [
      "sum: 3+1\n",
      "difference: 1-7i\n"
     ]
    }
   ],
   "source": [
    "class complex:\n",
    "    def __init__(self,a=0.0,b=0.0):\n",
    "        self.a=a\n",
    "        self.b=b\n",
    "    def __add__(self,other):\n",
    "        return complex(self.a + other.a, self.b+other.b)\n",
    "    def __sub__(self,other):\n",
    "        return complex(self.a - other.a, self.b-other.b)\n",
    "    def __str__(self):\n",
    "        if(self.b>0):\n",
    "            return '%g+%g'%(self.a,self.b)\n",
    "        elif(self.b==0):\n",
    "            return '%g'%self.a\n",
    "        else:\n",
    "            return '%g%gi'%(self.a,self.b)\n",
    "ob1=complex(2,-3)\n",
    "ob2=complex(1,4)\n",
    "ob3=ob1+ob2\n",
    "ob4=ob1-ob2\n",
    "print(\"sum:\",ob3)\n",
    "print(\"difference:\",ob4)"
   ]
  },
  {
   "cell_type": "markdown",
   "metadata": {},
   "source": [
    "# consider a class called rectangle and create 2 objects .this program has to check wether the area of 1st rectangle is greater than second by overloading > operator"
   ]
  },
  {
   "cell_type": "code",
   "execution_count": 19,
   "metadata": {},
   "outputs": [
    {
     "name": "stdout",
     "output_type": "stream",
     "text": [
      "area of ob1: 8\n",
      "area of ob1: 24\n",
      "ob2 is greater than ob1\n"
     ]
    }
   ],
   "source": [
    "class rectangle: \n",
    "    def __init__(self,l,b): \n",
    "        self.l=l\n",
    "        self.b=b\n",
    "        a=self.l*self.b\n",
    "        self.a=a\n",
    "        \n",
    "    def __gt__(self, other): \n",
    "        if(self.a>other.a): \n",
    "            return \"ob1 is greater than ob2\"\n",
    "        else: \n",
    "            return \"ob2 is greater than ob1\"\n",
    "    \n",
    "                  \n",
    "ob1 = rectangle(2,4)\n",
    "print(\"area of ob1:\",ob1.a)\n",
    "ob2 = rectangle(3,8)\n",
    "print(\"area of ob1:\",ob2.a)\n",
    "print(ob1 > ob2) \n",
    "  \n"
   ]
  },
  {
   "cell_type": "markdown",
   "metadata": {},
   "source": [
    "# create a class called quadratic where a,b,c are data attributes and the methods are init() to initalize data attributes and roots() to compute the quadratic equation"
   ]
  },
  {
   "cell_type": "code",
   "execution_count": 20,
   "metadata": {},
   "outputs": [
    {
     "name": "stdout",
     "output_type": "stream",
     "text": [
      "roots are complex -2.0 + 1.0 i , -2.0 - 1.0 i\n"
     ]
    }
   ],
   "source": [
    "import math\n",
    "class quadratic:\n",
    "    def __init__(self,a=0.0,b=0.0,c=0.0):\n",
    "        self.a,self.b,self.c=a,b,c\n",
    "    def roots(self):\n",
    "        d = self.b*self.b-4*self.a*self.c\n",
    "        if d>0:\n",
    "            print(\"roots are real and distinct\",(-self.b+math.sqrt(d))/(2*self.a),',',(-self.b-math.sqrt(d))/(2*self.a))\n",
    "        elif d==0:\n",
    "            print(\"roots are real and equal\",-self.b/(2*self.a))\n",
    "        else:\n",
    "            print(\"roots are complex\",-self.b/(2*self.a),'+',math.sqrt(-d)/(2*self.a),'i',',',-self.b/(2*self.a),'-',math.sqrt(-d)/(2*self.a),'i')\n",
    "eq1=quadratic(1,4,5) \n",
    "eq1.roots()"
   ]
  },
  {
   "cell_type": "markdown",
   "metadata": {},
   "source": [
    "# create a class called library with data attributes like acc_num,publisher,title and author.the methods of class should include\n",
    "a.read()-acc_num,title,author b. compute() to accept the number of days late,calculate and display the fine charged at the rate of$1.50 per day c. display the data"
   ]
  },
  {
   "cell_type": "code",
   "execution_count": 21,
   "metadata": {},
   "outputs": [
    {
     "name": "stdout",
     "output_type": "stream",
     "text": [
      "enter your details:\n",
      "enter account no:ab12\n",
      "enter publisher name:pooja\n",
      "enter title:wings\n",
      "enter author:harish\n",
      "enter no of days late:2\n",
      " pooja wings harish \n",
      "fine= 3.0\n"
     ]
    }
   ],
   "source": [
    "class library:\n",
    "    def __init__(self):\n",
    "        self.acc_num=''\n",
    "        self.pub=''\n",
    "        self.title=''\n",
    "        self.author=''\n",
    "        self.late=0\n",
    "    def read(self):\n",
    "        self.acc_number=input(\"enter account no:\")\n",
    "        self.pub=input(\"enter publisher name:\")\n",
    "        self.title=input(\"enter title:\")\n",
    "        self.author=input(\"enter author:\")\n",
    "        self.late=int(input(\"enter no of days late:\"))\n",
    "    def compute(self):\n",
    "        fine=self.late*1.50\n",
    "        return str(fine)\n",
    "    def __str__(self):\n",
    "        return '%s %s %s %s '%(self.acc_num,self.pub,self.title,self.author)\n",
    "s1=library()\n",
    "print(\"enter your details:\")\n",
    "s1.read()\n",
    "print(s1)\n",
    "print(\"fine=\",s1.compute())"
   ]
  },
  {
   "cell_type": "markdown",
   "metadata": {},
   "source": [
    "# Write an add method for Point that works with either a Point object or a tuple:                                                                                                                                        #If the second operand is a Point, the method should return a new Point whose x coordinate is the sum of the x coordinates of the operands, and likewise for the y coordinates.                                                                                                                                                                                                                                                  #If the second is a tuple the method should add the first element of the tuple to the x coordinate and the second element to the y coordinate, and return a new Point with the result.                                                                                                                                                                                                                                             #if the first operand is a tuple , the method should add the first element of the tuple to the x coordinate and the second element to the y coordinate, and return a new Point with the  result.\n"
   ]
  },
  {
   "cell_type": "code",
   "execution_count": 4,
   "metadata": {},
   "outputs": [
    {
     "name": "stdout",
     "output_type": "stream",
     "text": [
      "first co-ordinate: x=2, y=3\n",
      "second co-ordinate: x=3, y=4\n",
      "new co-ordinate: x=5.5, y=6\n"
     ]
    }
   ],
   "source": [
    "class point:\n",
    "    def __init__(self,x=0.0,y=0.0):\n",
    "        self.x=x\n",
    "        self.y=y\n",
    "        \n",
    "    def __add__(self,other):\n",
    "        if isinstance(other,point):\n",
    "            return self.addobj(other)\n",
    "        else:\n",
    "            return self.increment(other)\n",
    "        \n",
    "    def __radd__(self,other):\n",
    "        return self.__add__(other)\n",
    "    \n",
    "    def addobj(self,other):\n",
    "        p=point()\n",
    "        p.x=self.x+other.x\n",
    "        p.y=self.y+other.y\n",
    "        return p\n",
    "    \n",
    "    \n",
    "    def increment(self,other):\n",
    "        p=point()\n",
    "        p.x=self.x+other[0]\n",
    "        p.y=self.y+other[1]\n",
    "        return p\n",
    "    \n",
    "    def __str__(self):\n",
    "        return 'x=%s, y=%s'%(self.x,self.y)\n",
    "p1=point(2,3)\n",
    "p2=point(3,4)\n",
    "#p3=(2.5,2)+p2\n",
    "#p4=p1+(2,5)\n",
    "p5=p1+p2\n",
    "print('first co-ordinate:',p1)\n",
    "print('second co-ordinate:',p2)\n",
    "print('new co-ordinate:',p5)\n"
   ]
  },
  {
   "cell_type": "markdown",
   "metadata": {},
   "source": [
    "# inhertance problems"
   ]
  },
  {
   "cell_type": "markdown",
   "metadata": {},
   "source": [
    "# 1.Write a program to create the classes as shown below. Create instances of each derived classes. Invoke calculate() and print the new details."
   ]
  },
  {
   "cell_type": "code",
   "execution_count": null,
   "metadata": {},
   "outputs": [],
   "source": [
    "#base class\n",
    "#Person\n",
    "#Id, Name, Address, calculate() and print() method\n",
    "\n",
    "\n",
    "#derived class\n",
    "#Employee \n",
    "#Salary, Increment, calculate() method to compute new salary by adding increment,print() method to display the details\n",
    "\n",
    "#Student\n",
    "#Marks in 3 subjects, calculate() method tocompute the best of 2 test marks, print() method to display the details"
   ]
  },
  {
   "cell_type": "code",
   "execution_count": 7,
   "metadata": {},
   "outputs": [
    {
     "name": "stdout",
     "output_type": "stream",
     "text": [
      "enter the id:1\n",
      "enter the name:john\n",
      "enter the address:bangalore\n",
      "enter the salary:25000\n",
      "enter the increment :5000\n",
      "id= 1\n",
      "name= john\n",
      "address= bangalore\n",
      "the salary= 25000\n",
      "the increment= 5000\n",
      "the  new salary= 30000\n",
      "enter the id:2\n",
      "enter the name:mary\n",
      "enter the address:mysore\n",
      "enter the marks of test1:30\n",
      "enter the marks of test2 :20\n",
      "enter the marks of test3 :25\n",
      "id= 2\n",
      "name= mary\n",
      "address= mysore\n",
      "the test1 marks= 30.0\n",
      "the test2 marks= 20.0\n",
      "the test3 marks= 25.0\n",
      "the average of 2 bests test: 27.5\n"
     ]
    }
   ],
   "source": [
    "class Person:\n",
    "    def __init__(self):\n",
    "        self.id=input(\"enter the id:\")\n",
    "        self.name=input(\"enter the name:\")\n",
    "        self.address=input(\"enter the address:\")\n",
    "        \n",
    "    def eprint(self):\n",
    "        print(\"id=\",self.id)\n",
    "        print(\"name=\",self.name)\n",
    "        print(\"address=\",self.address)\n",
    "        \n",
    "        \n",
    "class Employee(Person):\n",
    "    def __init__(self):\n",
    "        super().__init__()\n",
    "        self.salary=int(input(\"enter the salary:\"))\n",
    "        self.increment=int(input(\"enter the increment :\"))\n",
    "        \n",
    "    def calculate(self):\n",
    "        self.add=self.salary+self.increment\n",
    "        \n",
    "    def eprint(self):\n",
    "        super().eprint()\n",
    "        print(\"the salary=\",self.salary)\n",
    "        print(\"the increment=\",self.increment)\n",
    "        print(\"the  new salary=\",self.add)\n",
    "        \n",
    "        \n",
    "class Student(Person):\n",
    "    def __init__(self):\n",
    "        super().__init__()\n",
    "        self.test1=float(input(\"enter the marks of test1:\"))\n",
    "        self.test2=float(input(\"enter the marks of test2 :\"))\n",
    "        self.test3=float(input(\"enter the marks of test3 :\"))\n",
    "        \n",
    "    def calculate(self):\n",
    "        self.avg1=(self.test1+self.test2)/ 2\n",
    "        self.avg2=(self.test1+self.test3)/ 2\n",
    "        self.avg3=(self.test2+self.test3)/ 2\n",
    "        self.avg=max(self.avg1,self.avg2,self.avg3)\n",
    "       \n",
    "        \n",
    "    def eprint(self):\n",
    "        super().eprint()\n",
    "        print(\"the test1 marks=\",self.test1)\n",
    "        print(\"the test2 marks=\",self.test2)\n",
    "        print(\"the test3 marks=\",self.test3)\n",
    "        print(\"the average of 2 bests test:\",self.avg)\n",
    "        \n",
    "            \n",
    "emp1=Employee()\n",
    "emp1.calculate()\n",
    "emp1.eprint()\n",
    "stu1=Student()\n",
    "stu1.calculate()\n",
    "stu1.eprint()\n",
    "\n",
    "    \n",
    "\n",
    "    \n",
    "        \n",
    "    \n",
    "    \n",
    "    \n",
    "    \n",
    "    \n",
    "        "
   ]
  },
  {
   "cell_type": "code",
   "execution_count": null,
   "metadata": {},
   "outputs": [],
   "source": []
  }
 ],
 "metadata": {
  "kernelspec": {
   "display_name": "Python 3",
   "language": "python",
   "name": "python3"
  },
  "language_info": {
   "codemirror_mode": {
    "name": "ipython",
    "version": 3
   },
   "file_extension": ".py",
   "mimetype": "text/x-python",
   "name": "python",
   "nbconvert_exporter": "python",
   "pygments_lexer": "ipython3",
   "version": "3.9.0"
  }
 },
 "nbformat": 4,
 "nbformat_minor": 4
}
