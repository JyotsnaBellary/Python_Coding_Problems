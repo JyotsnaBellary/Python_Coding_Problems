{
 "cells": [
  {
   "cell_type": "markdown",
   "metadata": {},
   "source": [
    "# Write a definition for a class named Kangaroo with the following methods:  An __init__ method that initializes an attribute named pouch_contents to an empty list.                                                                                                                     A method named put_in_pouch that takes an object of any type and adds it to pouch_contents.                                                                                                          A __str__ method that returns a string representation of the Kangaroo object and the contents of the pouch.                                                                                      Test your code by creating two Kangaroo objects, assigning them to variables named kanga and roo, and then adding roo to the contents of kanga’s pouch."
   ]
  },
  {
   "cell_type": "code",
   "execution_count": 12,
   "metadata": {},
   "outputs": [
    {
     "name": "stdout",
     "output_type": "stream",
     "text": [
      "pouch contents of kanga: [10, 20, 'wallet', 'car keys', 'roo']\n"
     ]
    }
   ],
   "source": [
    "class kangaroo:\n",
    "    def __init__(self,name=\"kangaroo\",content=[]):\n",
    "        self.name=name\n",
    "        self.pouch_contents=content\n",
    "    def put_in_pouch(self,item):\n",
    "        self.pouch_contents.append(item)\n",
    "    def __str__(self):\n",
    "        return str(self.pouch_contents)\n",
    "kanga=kangaroo(\"abc\",[10,20])\n",
    "roo=kangaroo(\"egf\")\n",
    "kanga.put_in_pouch(\"wallet\")\n",
    "kanga.put_in_pouch(\"car keys\")\n",
    "kanga.put_in_pouch(\"roo\")\n",
    "print(\"pouch contents of kanga:\",kanga)"
   ]
  },
  {
   "cell_type": "markdown",
   "metadata": {},
   "source": [
    "# write a python program to create a class called complex add and subtract 2 complex numbers.display the result by overloading + and - operator "
   ]
  },
  {
   "cell_type": "code",
   "execution_count": 2,
   "metadata": {},
   "outputs": [
    {
     "name": "stdout",
     "output_type": "stream",
     "text": [
      "(3, 5)\n"
     ]
    }
   ],
   "source": [
    "class complex:\n",
    "    def __init__(self,a,b):\n",
    "        self.a=a\n",
    "        self.b=b\n",
    "    def __add__(self,other):\n",
    "        return self.a + other.a, self.b+other.b\n",
    "    def __sub__(self,other):\n",
    "        return self.a - other.a, self.b-other.b\n",
    "ob1=complex(1,2)\n",
    "ob2=complex(2,3)\n",
    "ob3=ob1+ob2\n",
    "print(ob3)"
   ]
  },
  {
   "cell_type": "markdown",
   "metadata": {},
   "source": [
    "# consider a class called rectangle and create 2 objects .this program has to check wether the area of 1st rectangle is greater than second by overloading > operator"
   ]
  },
  {
   "cell_type": "code",
   "execution_count": 5,
   "metadata": {},
   "outputs": [
    {
     "name": "stdout",
     "output_type": "stream",
     "text": [
      "ob2 is greater than ob1\n"
     ]
    }
   ],
   "source": [
    "class rectangle: \n",
    "    def __init__(self,l,b): \n",
    "        self.l=l\n",
    "        self.b=b\n",
    "        a=self.l*self.b\n",
    "        self.a=a\n",
    "        \n",
    "    def __gt__(self, other): \n",
    "        if(self.a>other.a): \n",
    "            return \"ob1 is greater than ob2\"\n",
    "        else: \n",
    "            return \"ob2 is greater than ob1\"\n",
    "    \n",
    "                  \n",
    "ob1 = rectangle(2,4) \n",
    "ob2 = rectangle(3,6) \n",
    "print(ob1 > ob2) \n",
    "  \n"
   ]
  },
  {
   "cell_type": "markdown",
   "metadata": {},
   "source": [
    "# create a class called quadratic where a,b,c are  data attributes and the methods are                                                                                                               init() to initalize data attributes and                                                                             roots() to compute the quadratic equation"
   ]
  },
  {
   "cell_type": "code",
   "execution_count": null,
   "metadata": {},
   "outputs": [],
   "source": [
    "class quadratic:\n",
    "    def __init__(self,a,b,c)"
   ]
  },
  {
   "cell_type": "code",
   "execution_count": null,
   "metadata": {},
   "outputs": [],
   "source": []
  },
  {
   "cell_type": "code",
   "execution_count": null,
   "metadata": {},
   "outputs": [],
   "source": [
    "class library:\n",
    "    def __read__(self,acc_number,title,author):\n",
    "        self.acc_number=acc_number\n",
    "        self.title=title\n",
    "        self.author=author\n",
    "    def __compute__()"
   ]
  }
 ],
 "metadata": {
  "kernelspec": {
   "display_name": "Python 3",
   "language": "python",
   "name": "python3"
  },
  "language_info": {
   "codemirror_mode": {
    "name": "ipython",
    "version": 3
   },
   "file_extension": ".py",
   "mimetype": "text/x-python",
   "name": "python",
   "nbconvert_exporter": "python",
   "pygments_lexer": "ipython3",
   "version": "3.9.0"
  }
 },
 "nbformat": 4,
 "nbformat_minor": 4
}
