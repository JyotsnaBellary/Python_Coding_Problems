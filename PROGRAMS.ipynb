{
 "cells": [
  {
   "cell_type": "markdown",
   "metadata": {},
   "source": [
    "# Module-2\n"
   ]
  },
  {
   "cell_type": "code",
   "execution_count": null,
   "metadata": {},
   "outputs": [],
   "source": []
  },
  {
   "cell_type": "markdown",
   "metadata": {},
   "source": [
    "## 1)Write a python program to calculate the distance between two points"
   ]
  },
  {
   "cell_type": "code",
   "execution_count": 17,
   "metadata": {},
   "outputs": [
    {
     "name": "stdout",
     "output_type": "stream",
     "text": [
      "Enter x1:10\n",
      "Enter y1:9\n",
      "Enter x2:4\n",
      "Enter y2:1\n",
      "Distance= 10.0\n"
     ]
    }
   ],
   "source": [
    "x1= int( input(\"Enter x1:\"))\n",
    "y1= int( input(\"Enter y1:\"))\n",
    "x2= int( input(\"Enter x2:\"))\n",
    "y2= int( input(\"Enter y2:\"))\n",
    "result= ((x2-x1)**2+(y2-y1)**2)**0.5\n",
    "print(\"Distance= \"+str(result))"
   ]
  },
  {
   "cell_type": "markdown",
   "metadata": {},
   "source": [
    "## 2)To calculate area of a circle"
   ]
  },
  {
   "cell_type": "code",
   "execution_count": 16,
   "metadata": {},
   "outputs": [
    {
     "name": "stdout",
     "output_type": "stream",
     "text": [
      "Enter the radius:5\n",
      "The area of the circle with radius 5.0 is: 78.53981633974483\n"
     ]
    }
   ],
   "source": [
    "import math\n",
    "pi=math.pi\n",
    "r=float(input(\"Enter the radius:\"))\n",
    "area=pi*r*r\n",
    "print(\"The area of the circle with radius \"+str(r)+\" is: \"+str(area))"
   ]
  },
  {
   "cell_type": "markdown",
   "metadata": {},
   "source": [
    "## 3)Program to print the digit at one's place of a number"
   ]
  },
  {
   "cell_type": "code",
   "execution_count": 25,
   "metadata": {},
   "outputs": [
    {
     "name": "stdout",
     "output_type": "stream",
     "text": [
      "enter the number:45\n",
      "The last digit of  45  is: 5\n"
     ]
    }
   ],
   "source": [
    "n=int(input(\"enter the number:\"))\n",
    "print(\"The last digit of \",n,\" is:\",n%10)\n",
    "    "
   ]
  },
  {
   "cell_type": "markdown",
   "metadata": {},
   "source": [
    "## 4)Program to calculate area of the triangle using Heron's Formula"
   ]
  },
  {
   "cell_type": "code",
   "execution_count": 38,
   "metadata": {},
   "outputs": [
    {
     "name": "stdout",
     "output_type": "stream",
     "text": [
      "Enter a4\n",
      "Enter b5\n",
      "Enter c6\n",
      "Area of triangle:  9.921567416492215\n"
     ]
    }
   ],
   "source": [
    "\n",
    "a=int(input(\"Enter a\"))\n",
    "b=int(input(\"Enter b\"))\n",
    "c=int(input(\"Enter c\"))\n",
    "s=(a+b+c)/2\n",
    "area= (s*(s-a)*(s-b)*(s-c))**0.5\n",
    "print(\"Area of triangle:\",area)"
   ]
  },
  {
   "cell_type": "markdown",
   "metadata": {},
   "source": [
    "## 5)Program to find largest of three numbers"
   ]
  },
  {
   "cell_type": "code",
   "execution_count": 43,
   "metadata": {},
   "outputs": [
    {
     "name": "stdout",
     "output_type": "stream",
     "text": [
      "Enter tree numbers:1 200 250\n",
      "Max(1,200,250)=250\n"
     ]
    }
   ],
   "source": [
    "a,b,c=input(\"Enter tree numbers:\").split()\n",
    "print(\"Max(\"+a+\",\"+b+\",\"+c+\")=\"+max(a,b,c))"
   ]
  },
  {
   "cell_type": "code",
   "execution_count": 7,
   "metadata": {},
   "outputs": [
    {
     "name": "stdout",
     "output_type": "stream",
     "text": [
      "Enter n:3\n",
      "Enter element:1\n",
      "Enter element:2\n",
      "Enter element:3\n",
      "3\n",
      "2\n",
      "1\n"
     ]
    }
   ],
   "source": [
    "#6)program to create a list and print all the items in reverse index order.\n",
    "ls=[]\n",
    "n=int(input(\"Enter n:\"))\n",
    "for i in range(n):\n",
    "    w=int(input(\"Enter element:\"))\n",
    "    ls.insert(i,w)\n",
    "\n",
    "\n",
    "\n",
    "for i in range(n-1,-1,-1):\n",
    "    print(ls[i])"
   ]
  },
  {
   "cell_type": "code",
   "execution_count": 9,
   "metadata": {},
   "outputs": [
    {
     "name": "stdout",
     "output_type": "stream",
     "text": [
      "Enter the size of list-13\n",
      "Enter the size of list-23\n",
      "1\n",
      "2\n",
      "3\n",
      "4\n",
      "5\n",
      "6\n",
      "False\n"
     ]
    }
   ],
   "source": [
    "#7)Write a Python function that takes two lists and returns True if they have at least one common member.\n",
    "ls1=[]\n",
    "ls2=[]\n",
    "n1=int(input(\"Enter the size of list-1\"))\n",
    "n2=int(input(\"Enter the size of list-2\"))\n",
    "for i in range(0,n1):\n",
    "    ele=int(input())\n",
    "    ls1.append(ele)\n",
    "    \n",
    "for i in range(0,n2):\n",
    "    ele=int(input())\n",
    "    ls2.append(ele)\n",
    "\n",
    "result=False\n",
    "\n",
    "for x in ls1:\n",
    "    for y in ls2:\n",
    "        if(x==y):\n",
    "            result=True\n",
    "            break\n",
    "\n",
    "print(result)"
   ]
  },
  {
   "cell_type": "code",
   "execution_count": 20,
   "metadata": {},
   "outputs": [
    {
     "name": "stdout",
     "output_type": "stream",
     "text": [
      "Enter you choice: 1)Enqueue\n",
      " 2)Dequeue\n",
      "3)Display\n",
      " 4)Exit\n",
      "1\n",
      "Enter the element to be inserted2\n",
      "[2]\n",
      "Enter you choice: 1)Enqueue\n",
      " 2)Dequeue\n",
      "3)Display\n",
      " 4)Exit\n",
      "1\n",
      "Enter the element to be inserted4\n",
      "[2, 4]\n",
      "Enter you choice: 1)Enqueue\n",
      " 2)Dequeue\n",
      "3)Display\n",
      " 4)Exit\n",
      "1\n",
      "Enter the element to be inserted6\n",
      "[2, 4, 6]\n",
      "Enter you choice: 1)Enqueue\n",
      " 2)Dequeue\n",
      "3)Display\n",
      " 4)Exit\n",
      "1\n",
      "Enter the element to be inserted8\n",
      "[2, 4, 6, 8]\n",
      "Enter you choice: 1)Enqueue\n",
      " 2)Dequeue\n",
      "3)Display\n",
      " 4)Exit\n",
      "3\n",
      "[2, 4, 6, 8]\n",
      "Enter you choice: 1)Enqueue\n",
      " 2)Dequeue\n",
      "3)Display\n",
      " 4)Exit\n",
      "2\n",
      "element dequeued = 2\n",
      "Enter you choice: 1)Enqueue\n",
      " 2)Dequeue\n",
      "3)Display\n",
      " 4)Exit\n",
      "2\n",
      "element dequeued = 4\n",
      "Enter you choice: 1)Enqueue\n",
      " 2)Dequeue\n",
      "3)Display\n",
      " 4)Exit\n",
      "2\n",
      "element dequeued = 6\n",
      "Enter you choice: 1)Enqueue\n",
      " 2)Dequeue\n",
      "3)Display\n",
      " 4)Exit\n",
      "2\n",
      "element dequeued = 8\n",
      "Enter you choice: 1)Enqueue\n",
      " 2)Dequeue\n",
      "3)Display\n",
      " 4)Exit\n",
      "2\n",
      "Emty list\n",
      "Enter you choice: 1)Enqueue\n",
      " 2)Dequeue\n",
      "3)Display\n",
      " 4)Exit\n",
      "2\n",
      "Emty list\n",
      "Enter you choice: 1)Enqueue\n",
      " 2)Dequeue\n",
      "3)Display\n",
      " 4)Exit\n",
      "4\n"
     ]
    }
   ],
   "source": [
    "#8)Write a Python program to illustrate operations of queues using list\n",
    "def enqueue(queue,element):\n",
    "    queue.append(element)    #add the elemement to the end of the list\n",
    "    print(queue)             #print the queue\n",
    "\n",
    "def dequeue(queue):\n",
    "    try: \n",
    "        x=queue.pop(0)       #pop the first element of the queue\n",
    "        print(\"element dequeued =\",x)\n",
    "    except Exception:                   #if list is empty no element can be popped\n",
    "        print(\"Empty queue\")\n",
    "    \n",
    "queue=[]\n",
    "choice=0\n",
    "while(True):\n",
    "    print(\"Enter you choice: 1)Enqueue\\n 2)Dequeue\\n3)Display\\n 4)Exit\")\n",
    "    choice=int(input())\n",
    "    if(choice==1):    #enqueue\n",
    "        element=int(input('Enter the element to be inserted'))\n",
    "        enqueue(queue,element)\n",
    "\n",
    "    elif(choice==2):   #dequeue\n",
    "               dequeue(queue)\n",
    "    elif(choice==3):   #display\n",
    "               print(queue)\n",
    "    else:              #exit\n",
    "               break"
   ]
  },
  {
   "cell_type": "code",
   "execution_count": 23,
   "metadata": {},
   "outputs": [
    {
     "name": "stdout",
     "output_type": "stream",
     "text": [
      "Enter you choice: 1)Insert\n",
      " 2)Delete\n",
      "3)Display\n",
      " 4)Exit\n",
      "1\n",
      "Enter the element to be inserted2\n",
      "[2]\n",
      "Enter you choice: 1)Insert\n",
      " 2)Delete\n",
      "3)Display\n",
      " 4)Exit\n",
      "1\n",
      "Enter the element to be inserted4\n",
      "[2, 4]\n",
      "Enter you choice: 1)Insert\n",
      " 2)Delete\n",
      "3)Display\n",
      " 4)Exit\n",
      "1\n",
      "Enter the element to be inserted6\n",
      "[2, 4, 6]\n",
      "Enter you choice: 1)Insert\n",
      " 2)Delete\n",
      "3)Display\n",
      " 4)Exit\n",
      "1\n",
      "Enter the element to be inserted8\n",
      "[2, 4, 6, 8]\n",
      "Enter you choice: 1)Insert\n",
      " 2)Delete\n",
      "3)Display\n",
      " 4)Exit\n",
      "2\n",
      "element deleted = 8\n",
      "Enter you choice: 1)Insert\n",
      " 2)Delete\n",
      "3)Display\n",
      " 4)Exit\n",
      "2\n",
      "element deleted = 6\n",
      "Enter you choice: 1)Insert\n",
      " 2)Delete\n",
      "3)Display\n",
      " 4)Exit\n",
      "2\n",
      "element deleted = 4\n",
      "Enter you choice: 1)Insert\n",
      " 2)Delete\n",
      "3)Display\n",
      " 4)Exit\n",
      "2\n",
      "element deleted = 2\n",
      "Enter you choice: 1)Insert\n",
      " 2)Delete\n",
      "3)Display\n",
      " 4)Exit\n",
      "2\n",
      "Empty list\n",
      "Enter you choice: 1)Insert\n",
      " 2)Delete\n",
      "3)Display\n",
      " 4)Exit\n",
      "2\n",
      "Empty list\n",
      "Enter you choice: 1)Insert\n",
      " 2)Delete\n",
      "3)Display\n",
      " 4)Exit\n",
      "3\n",
      "[]\n",
      "Enter you choice: 1)Insert\n",
      " 2)Delete\n",
      "3)Display\n",
      " 4)Exit\n",
      "4\n"
     ]
    }
   ],
   "source": [
    "#Write a Python program to illustrate operations of stacks using list\n",
    "def insert(ls,element):\n",
    "    ls.append(element)    #add the elemement to the end of the list\n",
    "    print(ls)             #print the queue\n",
    "\n",
    "def delete(ls):\n",
    "    try: \n",
    "        x=ls.pop()       #pop the first element of the queue\n",
    "        print(\"element deleted =\",x)\n",
    "    except Exception:                   #if list is empty no element can be popped\n",
    "        print(\"Empty list\")\n",
    "    \n",
    "ls=[]\n",
    "choice=0\n",
    "while(True):\n",
    "    print(\"Enter you choice: 1)Insert\\n 2)Delete\\n3)Display\\n 4)Exit\")\n",
    "    choice=int(input())\n",
    "    if(choice==1):    #insert\n",
    "        element=int(input('Enter the element to be inserted'))\n",
    "        insert(ls,element)\n",
    "\n",
    "    elif(choice==2):   #delete\n",
    "               delete(ls)\n",
    "    elif(choice==3):   #display\n",
    "               print(ls)\n",
    "    else:              #exit\n",
    "               break"
   ]
  },
  {
   "cell_type": "code",
   "execution_count": 25,
   "metadata": {},
   "outputs": [
    {
     "name": "stdout",
     "output_type": "stream",
     "text": [
      "even= 0\n",
      "odd= 5\n"
     ]
    }
   ],
   "source": [
    "#Write a Python Program that finds the sum of all even numbers and odd numbers\n",
    "#in a predefined list\n",
    "ls=[1,2,3,4,5,-1,-2,-3,-4]\n",
    "sum_even=0\n",
    "sum_odd=0\n",
    "for item in ls:\n",
    "    if(item%2==0):\n",
    "        sum_even+=item\n",
    "    else:\n",
    "        sum_odd+=item\n",
    "print(\"even=\",sum_even)\n",
    "print(\"odd=\",sum_odd)"
   ]
  },
  {
   "cell_type": "code",
   "execution_count": 26,
   "metadata": {},
   "outputs": [
    {
     "name": "stdout",
     "output_type": "stream",
     "text": [
      "[2, 4, -2, -4]\n",
      "[1, 3, 5, -1, -3, -5]\n"
     ]
    }
   ],
   "source": [
    "#Write a Python Program that creates a list of 10 integers. \n",
    "#Then create two lists-Odd List and Even List that has all odd and\n",
    "#even values in the list respectively\n",
    "ls=[1,2,3,4,5,-1,-2,-3,-4,-5]\n",
    "oddls=[]\n",
    "evenls=[]\n",
    "\n",
    "for item in ls:\n",
    "    if(item%2==0):\n",
    "        evenls.append(item)\n",
    "    else:\n",
    "        oddls.append(item)\n",
    "print(evenls)\n",
    "print(oddls)"
   ]
  },
  {
   "cell_type": "code",
   "execution_count": 27,
   "metadata": {},
   "outputs": [
    {
     "name": "stdout",
     "output_type": "stream",
     "text": [
      "Enter 20 elements\n",
      "1\n",
      "2\n",
      "3\n",
      "4\n",
      "5\n",
      "6\n",
      "7\n",
      "8\n",
      "9\n",
      "10\n",
      "11\n",
      "12\n",
      "13\n",
      "14\n",
      "15\n",
      "16\n",
      "17\n",
      "18\n",
      "19\n",
      "20\n",
      "[3, 6, 9, 12, 15, 18]\n"
     ]
    }
   ],
   "source": [
    "#Write a Python Program that creates a list of 20 numbers \n",
    "#and then create a list that contains all the numbers from the original \n",
    "#list that are divisible by 3\n",
    "\n",
    "ls=[]\n",
    "print(\"Enter 20 elements\")\n",
    "for i in range(20):\n",
    "    w=int(input())\n",
    "    ls.append(w)\n",
    "    \n",
    "newls=[]\n",
    "for item in ls:\n",
    "    if(item%3==0):\n",
    "        newls.append(item)\n",
    "\n",
    "print(newls)"
   ]
  },
  {
   "cell_type": "code",
   "execution_count": 28,
   "metadata": {},
   "outputs": [
    {
     "name": "stdout",
     "output_type": "stream",
     "text": [
      "8\n"
     ]
    }
   ],
   "source": [
    "#Write a Python Program that counts the number of times a value appears\n",
    "#in the list without using built in function\n",
    "ls=[2,3,4,67,1,1,2,4,57,1,3,4,56,1,1,1,1,1]\n",
    "x=1\n",
    "count=0\n",
    "for item in ls:\n",
    "    if(x==item):\n",
    "        count+=1\n",
    "        \n",
    "print(count)"
   ]
  },
  {
   "cell_type": "code",
   "execution_count": 30,
   "metadata": {},
   "outputs": [
    {
     "name": "stdout",
     "output_type": "stream",
     "text": [
      "-2\n"
     ]
    }
   ],
   "source": [
    "#Python program to find smallest number from list\n",
    "ls=[3,2,-2,0,-1]\n",
    "x=ls[0]\n",
    "for item in ls:\n",
    "    if(item<x):\n",
    "        x=item\n",
    "print(x)"
   ]
  },
  {
   "cell_type": "code",
   "execution_count": 35,
   "metadata": {},
   "outputs": [
    {
     "name": "stdout",
     "output_type": "stream",
     "text": [
      "Enter a:3\n",
      "Enter b:4\n",
      "a= 4 b= 3\n"
     ]
    }
   ],
   "source": [
    "#Write Python program to swap two numbers using functions.\n",
    "#(Write without using intermediate/temporary variables).\n",
    "#Prompt the user for input.\n",
    "def swap(a,b):\n",
    "    a=a+b\n",
    "    b=a-b\n",
    "    a=a-b\n",
    "    return a,b\n",
    "\n",
    "a=int(input('Enter a:'))\n",
    "b=int(input('Enter b:'))\n",
    "a,b=swap(a,b)\n",
    "print('a=',a,'b=',b)"
   ]
  },
  {
   "cell_type": "code",
   "execution_count": null,
   "metadata": {},
   "outputs": [],
   "source": [
    "# Find the area and perimeter of a circle using functions.\n",
    "#Prompt the user for input.\n",
    "import math\n",
    "#pir*r-area\n",
    "#2pir-perimeter\n",
    "def area(r):\n",
    "    a=math.pi *r*r\n",
    "    return a\n",
    "def peri(r):\n",
    "    p=2*math.pi*r\n",
    "    return p\n",
    "\n",
    "r=int(input(\"Radius:\"))\n",
    "print(\"area=\",area(r))\n",
    "print(\"peri=\",peri(r))"
   ]
  },
  {
   "cell_type": "code",
   "execution_count": 51,
   "metadata": {},
   "outputs": [
    {
     "ename": "IndentationError",
     "evalue": "unindent does not match any outer indentation level (<tokenize>, line 13)",
     "output_type": "error",
     "traceback": [
      "\u001b[0;36m  File \u001b[0;32m\"<tokenize>\"\u001b[0;36m, line \u001b[0;32m13\u001b[0m\n\u001b[0;31m    else:\u001b[0m\n\u001b[0m    ^\u001b[0m\n\u001b[0;31mIndentationError\u001b[0m\u001b[0;31m:\u001b[0m unindent does not match any outer indentation level\n"
     ]
    }
   ],
   "source": [
    "#Write a Python Program to check whether the number is prime or not\n",
    "# Program to check if a number is prime or not\n",
    "\n",
    "num = int(input(\"Enter a number: \"))\n",
    "\n",
    "# prime numbers are greater than 1\n",
    "if num > 1:\n",
    "   # check for factors\n",
    "   for i in range(2,num):\n",
    "        if (num % i) == 0:\n",
    "            print(num,\"is not a prime number\")\n",
    "            break\n",
    "    else:\n",
    "        print(num,\"is a prime number\")\n",
    "\n",
    "else:\n",
    "    print(num,\"is not a prime number\")"
   ]
  },
  {
   "cell_type": "markdown",
   "metadata": {},
   "source": [
    "## 1)Write a Python Program that accepts a input from user a temperature in Fahrenheit and displays the equivalent temperature in Celsius"
   ]
  },
  {
   "cell_type": "code",
   "execution_count": 1,
   "metadata": {},
   "outputs": [
    {
     "name": "stdout",
     "output_type": "stream",
     "text": [
      "0\n",
      "0 C =  32.0 F\n"
     ]
    }
   ],
   "source": [
    "c=int(input())\n",
    "f=(c*(9/5))+32\n",
    "print(c,\"C = \",f,\"F\")"
   ]
  },
  {
   "cell_type": "markdown",
   "metadata": {},
   "source": [
    "## 2)Write a Python Program that accepts the value of ‘n’ from user and computes the expression 2^(2n)+1"
   ]
  },
  {
   "cell_type": "code",
   "execution_count": 2,
   "metadata": {},
   "outputs": [
    {
     "name": "stdout",
     "output_type": "stream",
     "text": [
      "5\n",
      "1025\n"
     ]
    }
   ],
   "source": [
    "n=int(input())\n",
    "res=2**(2*n)+1\n",
    "print(res)"
   ]
  },
  {
   "cell_type": "markdown",
   "metadata": {},
   "source": [
    "# Module-2 Assignment"
   ]
  },
  {
   "cell_type": "markdown",
   "metadata": {},
   "source": [
    "#### spam=['apples','bananas','tofu','cats']\n",
    "#### write a function that takes a list value as an argument ans returns a string with all the items separated by a comma and a space, with 'and' inserted before the last item."
   ]
  },
  {
   "cell_type": "code",
   "execution_count": 5,
   "metadata": {},
   "outputs": [
    {
     "name": "stdout",
     "output_type": "stream",
     "text": [
      "Enter the size of list:4\n",
      "Enter the words:\n",
      "apples\n",
      "bananas\n",
      "tofu\n",
      "cats\n",
      "apples,bananas,tofu and cats\n"
     ]
    }
   ],
   "source": [
    "def sentence(ls):\n",
    "    s=''\n",
    "    for i in range(len(ls)-2):\n",
    "        s+=ls[i]+\",\"\n",
    "        \n",
    "    s+=ls[-2]+' and '+ls[-1]\n",
    "    return s\n",
    "\n",
    "ls=[]\n",
    "n=int(input(\"Enter the size of list:\"))\n",
    "print(\"Enter the words:\")\n",
    "for i in range(n):\n",
    "    w=input()\n",
    "    ls.append(w)\n",
    "    \n",
    "sen=sentence(ls)\n",
    "print(sen)"
   ]
  },
  {
   "cell_type": "markdown",
   "metadata": {},
   "source": [
    "## write a function calculation() such that it can accept two variables and calaculate the addition and subtraction of it. And also it must return both addition and subtraction in a single call"
   ]
  },
  {
   "cell_type": "code",
   "execution_count": 8,
   "metadata": {},
   "outputs": [
    {
     "name": "stdout",
     "output_type": "stream",
     "text": [
      "Enter the two nos:5.5,1\n",
      "Sum= 6.5 \n",
      "difference= 4.5\n"
     ]
    }
   ],
   "source": [
    "def calculation(m,n):\n",
    "    return m+n,m-n\n",
    "\n",
    "m,n=input(\"Enter the two nos:\").split(\",\")\n",
    "m,n=float(m),float(n)\n",
    "sum,sub=calculation(m,n)\n",
    "print(\"Sum=\",sum,\"\\ndifference=\",sub)"
   ]
  },
  {
   "cell_type": "markdown",
   "metadata": {},
   "source": [
    "## to print the occurence of words in a sentence"
   ]
  },
  {
   "cell_type": "code",
   "execution_count": 9,
   "metadata": {},
   "outputs": [
    {
     "name": "stdout",
     "output_type": "stream",
     "text": [
      "Enter the string:orange blue red orange\n",
      "{'orange': 2, 'blue': 1, 'red': 1}\n"
     ]
    }
   ],
   "source": [
    "string=input(\"Enter the string:\").split()\n",
    "freq={}\n",
    "for word in string:\n",
    "    if word not in freq:\n",
    "        freq[word]=1\n",
    "    else:\n",
    "        freq[word]+=1\n",
    "        \n",
    "print(freq)"
   ]
  },
  {
   "cell_type": "markdown",
   "metadata": {},
   "source": [
    "## 27 Oct "
   ]
  },
  {
   "cell_type": "markdown",
   "metadata": {},
   "source": [
    "## 1) Consider the string 'brontosaurus'. Write a code that implements and return the functionality of histogram using dicitonaries for the given string."
   ]
  },
  {
   "cell_type": "code",
   "execution_count": 2,
   "metadata": {},
   "outputs": [
    {
     "name": "stdout",
     "output_type": "stream",
     "text": [
      "{'a': 1, 'b': 1, 'n': 1, 'o': 2, 'r': 2, 's': 2, 't': 1, 'u': 2}\n"
     ]
    }
   ],
   "source": [
    "import pprint\n",
    "string='brontosaurus'\n",
    "freq={}\n",
    "for ch in string:\n",
    "    if ch not in freq:\n",
    "        freq[ch]=1\n",
    "    else:\n",
    "        freq[ch]+=1\n",
    "        \n",
    "pprint.pprint(freq)"
   ]
  },
  {
   "cell_type": "markdown",
   "metadata": {},
   "source": [
    "## 2)Write a python program that has a dictionary of names of students and a list of marks in 4 subjscts. Create another dictionary from this dictionary that has the name of the students and their total marks. Find out the topper and his/her score."
   ]
  },
  {
   "cell_type": "code",
   "execution_count": 29,
   "metadata": {},
   "outputs": [
    {
     "name": "stdout",
     "output_type": "stream",
     "text": [
      "Enter the no of students:3\n",
      "Enter their details:\n",
      "ram\n",
      "1\n",
      "2\n",
      "3\n",
      "4\n",
      "sita\n",
      "4\n",
      "5\n",
      "6\n",
      "7\n",
      "geeta\n",
      "0\n",
      "1\n",
      "2\n",
      "1\n",
      "sita  is the topper with  22 Marks.\n",
      "Student_1= {'ram': [1, 2, 3, 4], 'sita': [4, 5, 6, 7], 'geeta': [0, 1, 2, 1]}\n",
      "Total= [10, 22, 4]\n",
      "Student_2= {'ram': 10, 'sita': 22, 'geeta': 4}\n"
     ]
    }
   ],
   "source": [
    "student1={} #will store names and their marks in 4 subjects\n",
    "student2={} #will store names and total marks\n",
    "n=int(input(\"Enter the no of students:\"))\n",
    "print('Enter their details:')\n",
    "total=[0]*n # will store total marks in 4 subject\n",
    "for i in range(n):\n",
    "    name=input() #name\n",
    "    marks=[0]*4  #list storing marks in 4 subjects\n",
    "    for j in range(4):\n",
    "        marks[j]=int(input())\n",
    "        total[i]+=marks[j]\n",
    "    student1[name]=marks\n",
    "    \n",
    "student2=dict.fromkeys(student1.keys(),0) #will store the keys in student1 to student2\n",
    "\n",
    "i=0\n",
    "for keys in student2:\n",
    "    student2[keys]=total[i]\n",
    "    i+=1\n",
    "    \n",
    "max_mark=0\n",
    "for key in student2:\n",
    "    if(student2[key]>max_mark):\n",
    "        max_mark=student2[key]\n",
    "        topper=key\n",
    "\n",
    "print(topper,\" is the topper with \",max_mark,\"Marks.\")\n",
    "print(\"Student_1=\",student1)\n",
    "print(\"Student_2=\",student2)\n"
   ]
  },
  {
   "cell_type": "markdown",
   "metadata": {},
   "source": [
    "## 3)Write a python program to get the maximum and minimum value in a dictionary."
   ]
  },
  {
   "cell_type": "code",
   "execution_count": 36,
   "metadata": {},
   "outputs": [
    {
     "name": "stdout",
     "output_type": "stream",
     "text": [
      "Cherry\n",
      "Kiwi\n"
     ]
    }
   ],
   "source": [
    "d={\"Apple\":10,\"Cherry\":50,\"Kiwi\":2,\"Orange\":25}\n",
    "maximum=max(d,key=d.get) #stores the key which has the maximum value in the dictionary\n",
    "minimum=min(d,key=d.get) #stores the key which has the minimum value in the dictionary\n",
    "print(maximum)\n",
    "print(minimum)"
   ]
  },
  {
   "cell_type": "code",
   "execution_count": 53,
   "metadata": {},
   "outputs": [
    {
     "name": "stdout",
     "output_type": "stream",
     "text": [
      "[('Kiwi', 2), ('Apple', 10), ('Orange', 25), ('Cherry', 50)]\n",
      "('Kiwi', 2)\n",
      "('Cherry', 50)\n"
     ]
    }
   ],
   "source": [
    "d={\"Apple\":10,\"Cherry\":50,\"Kiwi\":2,\"Orange\":25}\n",
    "d_sorted=sorted(d.items(),key=lambda x:x[1])\n",
    "print(d_sorted)\n",
    "print(d_sorted[0])\n",
    "print(d_sorted[len(d)-1])"
   ]
  },
  {
   "cell_type": "markdown",
   "metadata": {},
   "source": [
    "## 4) Write a python program to get the top 3 items in a shop"
   ]
  },
  {
   "cell_type": "code",
   "execution_count": 62,
   "metadata": {},
   "outputs": [
    {
     "name": "stdout",
     "output_type": "stream",
     "text": [
      "[('item4', 55), ('item1', 45.5), ('item3', 41.3), ('item2', 35), ('item5', 24)]\n",
      "('item4', 55)\n",
      "('item1', 45.5)\n",
      "('item3', 41.3)\n"
     ]
    }
   ],
   "source": [
    "shop={'item1':45.50,\"item2\":35,\"item3\":41.30,\"item4\":55,\"item5\":24}\n",
    "sorted_shop=sorted(shop.items(),key=lambda x:x[1],reverse=True)\n",
    "print(sorted_shop)\n",
    "for i in range(3):\n",
    "    print(sorted_shop[i])"
   ]
  },
  {
   "cell_type": "markdown",
   "metadata": {},
   "source": [
    "## 5)Write a python program to accept a sentence and build dictionary with letters,digits,uppercase,lowercase as keyvalues and their count in the sentences as values.\n",
    "- eg:Sentence=\"VTU@123.e-Learning\"\n",
    "- d={\"Letters\":12,\"DIGITS\":3,\"UPPERCASE\":4,\"LOWERCASE\":8}"
   ]
  },
  {
   "cell_type": "code",
   "execution_count": 1,
   "metadata": {},
   "outputs": [
    {
     "name": "stdout",
     "output_type": "stream",
     "text": [
      "Sentence:hello world\n",
      "{'Letters': 10, 'Digits': 0, 'UPPERCASE': 10, 'LOWERCASE': 0}\n"
     ]
    }
   ],
   "source": [
    "sen=input(\"Sentence:\")\n",
    "l=0\n",
    "d=0\n",
    "uc=0\n",
    "lc=0\n",
    "for i in range(len(sen)):\n",
    "    if(sen[i].islower()):\n",
    "        uc+=1\n",
    "    if(sen[i].isupper()):\n",
    "        lc+=1\n",
    "    if(sen[i].isdigit()):\n",
    "        d+=1\n",
    "    if(sen[i].isalpha()):\n",
    "        l+=1\n",
    "        \n",
    "d={\"Letters\":l,\"Digits\":d,\"UPPERCASE\":uc,\"LOWERCASE\":lc}\n",
    "print(d)"
   ]
  },
  {
   "cell_type": "markdown",
   "metadata": {},
   "source": [
    "## 29 oct"
   ]
  },
  {
   "cell_type": "code",
   "execution_count": 2,
   "metadata": {},
   "outputs": [
    {
     "name": "stdout",
     "output_type": "stream",
     "text": [
      "ShreEyYaA\n",
      "4\n"
     ]
    }
   ],
   "source": [
    "# program to count the no of vowels in a given string\n",
    "str=input()\n",
    "s=\"AaEeIiOoUu\"\n",
    "count=0\n",
    "for ch in str:\n",
    "    if(ch in s):\n",
    "        count+=1\n",
    "        \n",
    "print(count)"
   ]
  },
  {
   "cell_type": "code",
   "execution_count": 7,
   "metadata": {},
   "outputs": [
    {
     "name": "stdout",
     "output_type": "stream",
     "text": [
      "Anna\n",
      "anna\n",
      "Anna is palindrome.\n"
     ]
    }
   ],
   "source": [
    "#program to check if a string is palindrome or not\n",
    "str=input()\n",
    "str1=str.lower()\n",
    "rev=str1[::-1]\n",
    "if(str1==rev):\n",
    "    print(str+\" is palindrome.\")\n",
    "else:\n",
    "    print(str+\" is not palindrome.\")"
   ]
  },
  {
   "cell_type": "code",
   "execution_count": 21,
   "metadata": {},
   "outputs": [
    {
     "name": "stdout",
     "output_type": "stream",
     "text": [
      "hello world\n",
      "o\n",
      "2\n"
     ]
    }
   ],
   "source": [
    "#write a function that takes 2 arguments: string and a character which counts \n",
    "#the no of occurences of character in the string\n",
    "\n",
    "def occur(string,char):\n",
    "    count=0\n",
    "    for ch in string:\n",
    "        if(ch==char):\n",
    "            count+=1\n",
    "    return count\n",
    "        \n",
    "string=input()\n",
    "char=input()\n",
    "res=occur(string,char)\n",
    "\n",
    "print(res)"
   ]
  },
  {
   "cell_type": "code",
   "execution_count": 23,
   "metadata": {},
   "outputs": [
    {
     "name": "stdout",
     "output_type": "stream",
     "text": [
      "cat\n",
      "bat\n",
      "No\n"
     ]
    }
   ],
   "source": [
    "#write a function to check whether two strings are anagram or not\n",
    "\n",
    "def isAnagram(string_1,string_2):\n",
    "    if(sorted(string_1)==sorted(string_2)):\n",
    "        return True\n",
    "    else:\n",
    "        return False\n",
    "\n",
    "string_1=input()\n",
    "string_2=input()\n",
    "res=isAnagram(string_1,string_2)\n",
    "\n",
    "if(res):\n",
    "    print(\"Yes\")\n",
    "else:\n",
    "    print(\"No\")"
   ]
  },
  {
   "cell_type": "code",
   "execution_count": 29,
   "metadata": {},
   "outputs": [
    {
     "name": "stdout",
     "output_type": "stream",
     "text": [
      "hello\n",
      "helo\n"
     ]
    }
   ],
   "source": [
    "#write a program to remove all duplicate characters in a string and print the string with unique characters\n",
    "\n",
    "s=input()\n",
    "s1=''\n",
    "for ch in s:\n",
    "    if(ch not in s1):\n",
    "        s1+=ch\n",
    "print(s1)\n",
    "    "
   ]
  },
  {
   "cell_type": "markdown",
   "metadata": {},
   "source": [
    "## 30oct"
   ]
  },
  {
   "cell_type": "code",
   "execution_count": 10,
   "metadata": {},
   "outputs": [
    {
     "name": "stdout",
     "output_type": "stream",
     "text": [
      "Enter the string:hello\n",
      "uppercase: 0  lowercase: 5  digits: 0  space: 0\n"
     ]
    }
   ],
   "source": [
    "#program to read a string from the user and display the no of uppercase,lowercase,digits and space in the real string\n",
    "str=input(\"Enter the string:\")\n",
    "uc=0\n",
    "lc=0\n",
    "d=0\n",
    "s=0\n",
    "\n",
    "for i in range(len(str)):\n",
    "    if(str[i].isupper()):\n",
    "        uc+=1\n",
    "    if(str[i].islower()):\n",
    "        lc+=1\n",
    "    if(str[i].isdigit()):\n",
    "        d+=1\n",
    "    if(str[i].isspace()):\n",
    "        s+=1\n",
    "\n",
    "print(\"uppercase:\",uc,\" lowercase:\",lc,\" digits:\",d,\" space:\",s)"
   ]
  },
  {
   "cell_type": "code",
   "execution_count": 12,
   "metadata": {},
   "outputs": [
    {
     "name": "stdout",
     "output_type": "stream",
     "text": [
      "Hello\n",
      "hELLO\n"
     ]
    }
   ],
   "source": [
    "#swap the case of the read string without using inbuilt method\n",
    "str=input()\n",
    "str1=''\n",
    "for i in str:\n",
    "    if(i.islower()):\n",
    "        str1+=i.upper()\n",
    "    else:\n",
    "        str1+=i.lower()\n",
    "    \n",
    "print(str1)"
   ]
  },
  {
   "cell_type": "code",
   "execution_count": 6,
   "metadata": {},
   "outputs": [
    {
     "name": "stdout",
     "output_type": "stream",
     "text": [
      "Yes\n"
     ]
    }
   ],
   "source": [
    "#check whether a given sentence is pangram or not\n",
    "import string \n",
    "  \n",
    "def pangram(str): \n",
    "    alphabet = \"abcdefghijklmnopqrstuvwxyz\"\n",
    "    for char in alphabet: \n",
    "        if (char not in str.lower()): \n",
    "            return False\n",
    "    return True\n",
    "      \n",
    "\n",
    "string = 'The five boxing wizards jump quickly is a pangram'\n",
    "if(pangram(string) == True): \n",
    "    print(\"Yes\") \n",
    "else: \n",
    "    print(\"No\") "
   ]
  },
  {
   "cell_type": "code",
   "execution_count": 8,
   "metadata": {},
   "outputs": [
    {
     "name": "stdout",
     "output_type": "stream",
     "text": [
      "Yes\n"
     ]
    }
   ],
   "source": [
    "import string \n",
    "  \n",
    "alphabet = set(string.ascii_lowercase) \n",
    "  \n",
    "def pangram(string): \n",
    "    return set(string.lower()) >= alphabet \n",
    "      \n",
    "\n",
    "string = \"The five boxing wizards jump quickly is a pangram\"\n",
    "if(pangram(string) == True): \n",
    "    print(\"Yes\") \n",
    "else: \n",
    "    print(\"No\") "
   ]
  },
  {
   "cell_type": "code",
   "execution_count": 6,
   "metadata": {},
   "outputs": [
    {
     "name": "stdout",
     "output_type": "stream",
     "text": [
      "Enter your password:#Shreya123\n",
      "Passoword is Valid.\n"
     ]
    }
   ],
   "source": [
    "#to check the validity of a password \n",
    "# 1 letter between [a-z] and 1 from [A-Z]\n",
    "# 1 no from [0-9]\n",
    "# 1 character from [$#@]\n",
    "ch=['$','#','@']\n",
    "password=input(\"Enter your password:\")\n",
    "l,u,d,s=0,0,0,0\n",
    "\n",
    "if(len(password)>=6 and len(password)<=12):\n",
    "    for char in password:\n",
    "        if(char.islower()):\n",
    "            l+=1\n",
    "        if(char.isupper()):\n",
    "            u+=1\n",
    "        if(char.isdigit()):\n",
    "            d+=1\n",
    "        if(char in ch):\n",
    "            s+=1\n",
    "            \n",
    "if((l>=1) and (u>=1) and (d>=1) and (s>=1) and l+u+d+s==len(password)):\n",
    "    print(\"Passoword is Valid.\")\n",
    "else:\n",
    "    print(\"Password is not Valid.\")"
   ]
  },
  {
   "cell_type": "markdown",
   "metadata": {},
   "source": [
    "## 31 OCT\n"
   ]
  },
  {
   "cell_type": "code",
   "execution_count": 28,
   "metadata": {},
   "outputs": [
    {
     "name": "stdout",
     "output_type": "stream",
     "text": [
      "Enter the string:holy moly \n",
      "Enter the substring:goldy\n",
      "Substring not present\n"
     ]
    }
   ],
   "source": [
    "#to display the presence of a given substring in a main string\n",
    "string=input(\"Enter the string:\")\n",
    "sub=input(\"Enter the substring:\")\n",
    "if(string.find(sub) ==-1):\n",
    "    print(\"Substring not present\")\n",
    "else:\n",
    "    print(\"Substring is present.\")"
   ]
  },
  {
   "cell_type": "code",
   "execution_count": 31,
   "metadata": {},
   "outputs": [
    {
     "name": "stdout",
     "output_type": "stream",
     "text": [
      "Enter sentence:This word is longer than the previous\n",
      "The longest word is:previous\n",
      " Length:8\n"
     ]
    }
   ],
   "source": [
    "#to display the longest word in a sentence along with its length\n",
    "def longest(sen):\n",
    "    cur=0\n",
    "    long=''\n",
    "    for word in sen:\n",
    "        if(len(word)>cur):\n",
    "            cur=len(word)\n",
    "            long=word\n",
    "       \n",
    "    return long,cur\n",
    "        \n",
    "    \n",
    "sen=input('Enter sentence:').split()\n",
    "word,length=longest(sen)\n",
    "print(\"The longest word is:\"+word+\"\\nLength:\"+str(length))"
   ]
  },
  {
   "cell_type": "code",
   "execution_count": 39,
   "metadata": {},
   "outputs": [
    {
     "name": "stdout",
     "output_type": "stream",
     "text": [
      "Enter sentence: This word is longer than the previous\n",
      "Longest word is:  previous\n",
      "And its length is:  8\n"
     ]
    }
   ],
   "source": [
    "s= input(\"Enter sentence: \")\n",
    "l= max(s.split(), key=len)\n",
    "print(\"Longest word is:\",l)\n",
    "print(\"And its length is:\", len(l))"
   ]
  },
  {
   "cell_type": "code",
   "execution_count": 46,
   "metadata": {},
   "outputs": [
    {
     "name": "stdout",
     "output_type": "stream",
     "text": [
      "Enter the string:people\n",
      "peo$le\n"
     ]
    }
   ],
   "source": [
    "# program to get a string from a given string where all occurences of its first character have been \n",
    "# changed to \"$\" except the first character\n",
    "\n",
    "s=input(\"Enter the string:\")\n",
    "s1=s.replace(s[0],'$')\n",
    "print(s[0]+s1[1:])"
   ]
  },
  {
   "cell_type": "code",
   "execution_count": 1,
   "metadata": {},
   "outputs": [
    {
     "name": "stdout",
     "output_type": "stream",
     "text": [
      "Enter the string:sweep\n",
      "New string: sweeping\n"
     ]
    }
   ],
   "source": [
    "#program to add 'ing' at the end of a given string\n",
    "#if it ends with 'ing' then add 'ly'\n",
    "#is len(string)<3 , keep it unchanged\n",
    "\n",
    "string=input(\"Enter the string:\")\n",
    "if(len(string)>2):\n",
    "    if(string.endswith('ing')):\n",
    "        string+='ly'\n",
    "    else:\n",
    "        string+='ing'\n",
    "        \n",
    "print('New string:',string)"
   ]
  },
  {
   "cell_type": "code",
   "execution_count": 10,
   "metadata": {},
   "outputs": [
    {
     "name": "stdout",
     "output_type": "stream",
     "text": [
      "Enter the string:python quiz practice code.\n",
      "code. practice quiz python\n"
     ]
    }
   ],
   "source": [
    "#Write a Pyhton Program to Reverse words in a given String in Python.\n",
    "\n",
    "#[Input : str = “python quiz practice code.\" Output : str = \"code. practice\n",
    "#quiz python“]\n",
    "\n",
    "string=input(\"Enter the string:\").split()\n",
    "reverse=' '.join(reversed(string))\n",
    "print(reverse)\n",
    "    "
   ]
  },
  {
   "cell_type": "code",
   "execution_count": 16,
   "metadata": {},
   "outputs": [
    {
     "name": "stdout",
     "output_type": "stream",
     "text": [
      "Enter the message:Hello World\n",
      "Enter the no.of steps for shift:3\n",
      "Khoor Zruog\n"
     ]
    }
   ],
   "source": [
    "#Write a Python program to create a Caesar encryption.\n",
    "\n",
    "#Note: In cryptography, a Caesar cipher, It is a type of substitution cipher in\n",
    "#which each letter in the plaintext is replaced by a letter some fixed number of\n",
    "#positions down the alphabet. For example, with a shift of 3, A would be\n",
    "#replaced by D, B would become E, and so on.\n",
    "\n",
    "import string\n",
    " \n",
    "def caser(msg,step):\n",
    "    dict={}\n",
    "    code=''\n",
    "    for i in range(len(string.ascii_letters)):\n",
    "        dict[string.ascii_letters[i]]=string.ascii_letters[(i+step)%52]\n",
    "    for ch in msg:\n",
    "        if ch==\" \":\n",
    "            code+=\" \"\n",
    "        else:\n",
    "            code+=dict[ch]\n",
    "    return code\n",
    "            \n",
    "msg=input('Enter the message:')\n",
    "step=int(input(\"Enter the no.of steps for shift:\"))\n",
    "code=caser(msg,step)\n",
    "print(code)"
   ]
  },
  {
   "cell_type": "code",
   "execution_count": 18,
   "metadata": {},
   "outputs": [
    {
     "name": "stdout",
     "output_type": "stream",
     "text": [
      "Enter the number:25\n",
      "Left alligned:\n",
      "25        \n",
      "right alligned:\n",
      "        25\n",
      "center alligned:\n",
      "    25    \n"
     ]
    }
   ],
   "source": [
    "#Write a Python to display a number in left, right and center aligned of width 10\n",
    "n=input(\"Enter the number:\")\n",
    "print(\"Left alligned:\")\n",
    "print(n.ljust(10))\n",
    "print(\"right alligned:\")\n",
    "print(n.rjust(10))\n",
    "print(\"center alligned:\")\n",
    "print(n.center(10))"
   ]
  },
  {
   "cell_type": "markdown",
   "metadata": {},
   "source": [
    "## MODULE_4 Classes and Objects, Classes and Functions,Classes and Methods,and Inheritance"
   ]
  },
  {
   "cell_type": "markdown",
   "metadata": {},
   "source": [
    "### 1)Givenn a point(x,y), write a python program to find whether it lies in the first,second,third or fourth quadrant of x-y plane"
   ]
  },
  {
   "cell_type": "code",
   "execution_count": 7,
   "metadata": {},
   "outputs": [
    {
     "name": "stdout",
     "output_type": "stream",
     "text": [
      "Enter the coordinates (x,y):\n",
      "x-coordinate:0\n",
      "y-coordinate:0\n",
      "Origin\n"
     ]
    }
   ],
   "source": [
    "import math\n",
    "class Point:\n",
    "    \"\"\"this is a class point representing a coordinate point\"\"\"\n",
    "    \n",
    "def read_point(p):\n",
    "    p.x=float(input(\"x-coordinate:\")) #instance attributes\n",
    "    p.y=float(input(\"y-coordinate:\"))\n",
    "    \n",
    "def quadrant(p):\n",
    "    if(p.x>0 and p.y>0):\n",
    "        print(\"first\")\n",
    "    elif(p.x<0 and p.y>0):\n",
    "        print(\"second\")\n",
    "    elif(p.x<0 and p.y<0):\n",
    "        print(\"third\")\n",
    "    elif(p.x>0 and p.y<0):\n",
    "        print(\"Fourth\")\n",
    "    else:\n",
    "        print(\"Origin\")\n",
    "    \n",
    "p=Point()\n",
    "print(\"Enter the coordinates (x,y):\")\n",
    "read_point(p);\n",
    "\n",
    "quadrant(p);"
   ]
  },
  {
   "cell_type": "markdown",
   "metadata": {},
   "source": [
    "## 2) Given three points (x1,y1),(x2,y2),(x3,y3) write a python program to check if they are collinear."
   ]
  },
  {
   "cell_type": "code",
   "execution_count": 6,
   "metadata": {},
   "outputs": [
    {
     "name": "stdout",
     "output_type": "stream",
     "text": [
      "Enter the first point:\n",
      "x-coordinate:1\n",
      "y-coordinate:5\n",
      "Enter the second point:\n",
      "x-coordinate:2\n",
      "y-coordinate:5\n",
      "Enter the third point:\n",
      "x-coordinate:4\n",
      "y-coordinate:6\n",
      "No\n"
     ]
    }
   ],
   "source": [
    "class Point:\n",
    "    \"\"\"this is a class point representing a coordinate point\"\"\"\n",
    "    \n",
    "def read_point(p):\n",
    "    p.x=float(input(\"x-coordinate:\")) #instance attributes\n",
    "    p.y=float(input(\"y-coordinate:\"))\n",
    "    \n",
    "def collinear(p1,p2,p3):\n",
    "    res=p1.x * (p2.y - p3.y) + p2.x * (p3.y - p1.y) + p3.x * (p1.y - p2.y)\n",
    "    if(res==0):\n",
    "        return True\n",
    "    else:\n",
    "        return False\n",
    "\n",
    "\n",
    "p1=Point()\n",
    "print(\"Enter the first point:\")\n",
    "read_point(p1);\n",
    "p2=Point()\n",
    "print(\"Enter the second point:\")\n",
    "read_point(p2);\n",
    "p3=Point()\n",
    "print(\"Enter the third point:\")\n",
    "read_point(p3);\n",
    "\n",
    "res=collinear(p1,p2,p3);\n",
    "if(res):\n",
    "    print(\"Yes\")\n",
    "else:\n",
    "    print(\"No\")"
   ]
  },
  {
   "cell_type": "markdown",
   "metadata": {},
   "source": [
    "###  Python program to calculate the arc length of an angle by assigning values to the radius and angle data attributed of the class ArcLength"
   ]
  },
  {
   "cell_type": "code",
   "execution_count": 8,
   "metadata": {},
   "outputs": [
    {
     "name": "stdout",
     "output_type": "stream",
     "text": [
      " The length of arc is3\n",
      " The radius of arc is9\n",
      " length of arc is0.47123889803846897\n",
      "the arc length is  None\n"
     ]
    }
   ],
   "source": [
    "import math\n",
    "class ArcLength():\n",
    "    def __init__(self):\n",
    "        self.radius =0\n",
    "        self.length =0\n",
    "    def calculate_arc_length(self):\n",
    "        result =2* math.pi *self.radius *self.length /360\n",
    "        print(f\" length of arc is{result}\")\n",
    "\n",
    "AL = ArcLength()\n",
    "AL.radius = 9\n",
    "AL.length =3\n",
    "\n",
    "print (f\" The length of arc is{AL.length}\")\n",
    "print (f\" The radius of arc is{AL.radius}\")\n",
    "print (f\"the arc length is \", AL.calculate_arc_length())"
   ]
  },
  {
   "cell_type": "markdown",
   "metadata": {},
   "source": [
    "## write a function named move_rectagle that takes a Rectangle and two numbers named dx and dy. It should change the location of the rectangle by adding dx to the x coordinate of corner and adding dy to the y coordinate of corner."
   ]
  },
  {
   "cell_type": "code",
   "execution_count": 15,
   "metadata": {},
   "outputs": [
    {
     "name": "stdout",
     "output_type": "stream",
     "text": [
      "x-coordinate:2\n",
      "y-coordinate:3\n",
      "The original corner is:\n",
      "(2,3)\n",
      "dx:-1\n",
      "dy:2\n",
      "After changing the corner is:\n",
      "(1,5)\n"
     ]
    }
   ],
   "source": [
    "class Point:\n",
    "    \"\"\" This is a class Point representing coordinate point\"\"\"\n",
    "\n",
    "class Rectangle:\n",
    "    \"\"\" This is a class Rectangle. Attributes: width, height and Corner Point \"\"\"\n",
    "    \n",
    "def print_point(p):\n",
    "    print(\"(%g,%g)\"%(p.x, p.y))\n",
    "\n",
    "def move_rectangle(box,dx,dy):\n",
    "    box.corner.x+=dx\n",
    "    box.corner.y+=dy\n",
    "\n",
    "box=Rectangle() #create Rectangle object\n",
    "box.corner=Point() #define an attribute corner for box\n",
    "#box.width=int(input(\"width:\")) #set attribute width to box\n",
    "#box.height=int(input(\"height:\")) #set attribute height to box\n",
    "box.corner.x=int(input(\"x-coordinate:\")) \n",
    "box.corner.y=int(input(\"y-coordinate:\")) \n",
    "\n",
    "#print(\"Original Rectangle is:\")\n",
    "#print(\"width=%g, height=%g\"%(box.width, box.height))\n",
    "\n",
    "print(\"The original corner is:\")\n",
    "print_point(box.corner)\n",
    "\n",
    "dx=int(input(\"dx:\"))\n",
    "dy=int(input(\"dy:\"))\n",
    "move_rectangle(box,dx,dy);\n",
    "\n",
    "print(\"After changing the corner is:\")\n",
    "print_point(box.corner)"
   ]
  },
  {
   "cell_type": "markdown",
   "metadata": {},
   "source": [
    "## Print the sum,difference and product of two complex numbers by creating a class named 'Complex'  with separate functions for each operation where the real and imaginary parts are entered by the user"
   ]
  },
  {
   "cell_type": "code",
   "execution_count": 5,
   "metadata": {},
   "outputs": [
    {
     "name": "stdout",
     "output_type": "stream",
     "text": [
      "Enter the first complex no:\n",
      "real part:4\n",
      "imajinary part:5\n",
      "Enter the second complex no:\n",
      "real part:-7\n",
      "imajinary part:-8\n",
      "Sum=-3-3i\n",
      "Difference=11+13i\n",
      "Product=12-67i\n"
     ]
    }
   ],
   "source": [
    "class Complex():\n",
    "    \"\"\"This is is a class Complex represnting the real \n",
    "    and imaginary parts of a complex number\"\"\"\n",
    "    \n",
    "def read_complex(num):\n",
    "    num.a=float(input(\"real part:\"))\n",
    "    num.b=float(input(\"imajinary part:\"))\n",
    "\n",
    "def summ(num1,num2):\n",
    "    summ=Complex() #sum of 2 complex no is an object of class complex and is a complex no.\n",
    "    summ.a=(num1.a+num2.a)\n",
    "    summ.b=(num1.b+num2.b)\n",
    "    return(summ)\n",
    "\n",
    "def diff(num1,num2):\n",
    "    difff=Complex() #difference of 2 complex no is an object of class complex and is a complex no.\n",
    "    difff.a=(num1.a-num2.a)\n",
    "    difff.b=(num1.b-num2.b)\n",
    "    return(difff)\n",
    "\n",
    "def product(num1,num2):\n",
    "    pro=Complex() #product of 2 complex no is an object of class complex and is a complex no.\n",
    "    pro.a=(num1.a*num2.a)-(num1.b*num2.b)\n",
    "    pro.b=(num1.a*num2.b)+(num1.b*num2.a)\n",
    "    return(pro)\n",
    "\n",
    "def print_complex(num):\n",
    "    if(num.b>0):\n",
    "        print(\"%g+%gi\"%(num.a,num.b))\n",
    "    elif(num.b<0):\n",
    "        print(\"%g%gi\"%(num.a,num.b))\n",
    "    else:\n",
    "        print(\"%g\"%(num.a))\n",
    "        \n",
    "        \n",
    "num1=Complex() #num is an object of class Complex\n",
    "print(\"Enter the first complex no:\")\n",
    "read_complex(num1)\n",
    "num2=Complex()\n",
    "print(\"Enter the second complex no:\")\n",
    "read_complex(num2)\n",
    "\n",
    "sum_res=summ(num1,num2);\n",
    "print(\"Sum=\",end=\"\")\n",
    "print_complex(sum_res)\n",
    "\n",
    "diff_res=diff(num1,num2);\n",
    "print(\"Difference=\",end=\"\")\n",
    "print_complex(diff_res)\n",
    "\n",
    "pro_res=product(num1,num2);\n",
    "print(\"Product=\",end=\"\")\n",
    "print_complex(pro_res)\n",
    "\n"
   ]
  },
  {
   "cell_type": "markdown",
   "metadata": {},
   "source": [
    "## Write a definition for a class named Circle with attributes center and radius, where center is a Point and radius is a number. Instantiate a Circle object that represents a circle with its center at (150,100) and radius 75. Write a function named point_in_circle that takes a Circle and a Point and returns true if the Point lies in or on the boundary of the circle"
   ]
  },
  {
   "cell_type": "code",
   "execution_count": 8,
   "metadata": {},
   "outputs": [
    {
     "name": "stdout",
     "output_type": "stream",
     "text": [
      "Enter the point:\n",
      "enter the x-coordinate:300\n",
      "enter the y-coordinate:400\n",
      "distance: 335.4101966249685\n",
      "Point does not lies inside the circle.\n"
     ]
    }
   ],
   "source": [
    "import math\n",
    "\n",
    "class Point:\n",
    "    \"\"\"This is a class Point Representing  a point with \n",
    "     Attributes:x and y\"\"\"\n",
    "\n",
    "def read_point(p):\n",
    "    p.x=float(input(\"enter the x-coordinate:\"))\n",
    "    p.y=float(input(\"enter the y-coordinate:\"))\n",
    "    \n",
    "class Circle:\n",
    "    \"\"\"This is a class Circle Representing a circle with\n",
    "    Attributes:radius and center x and y\"\"\"\n",
    "\n",
    "def distance(p1,p2):\n",
    "    d=math.sqrt((p1.x-p2.x)**2+(p1.y-p2.y)**2)\n",
    "    return d\n",
    "\n",
    "def point_in_circle(c,c1):\n",
    "    \"\"\"returns true if point lies in the\n",
    "    boundary of the circle\"\"\"\n",
    " \n",
    "    d=distance(c.center,c1)\n",
    "    print(\"distance:\",d)\n",
    "    if(d<=c.radius):\n",
    "        return True\n",
    "    else:\n",
    "        return False\n",
    "\n",
    "    \n",
    "c=Circle()        #c is an instace/object of class Circle\n",
    "c.center=Point()  #center is an attribute of object c\n",
    "\n",
    "c.center.x=150   \n",
    "c.center.y=100\n",
    "c.radius=75\n",
    "\n",
    "    \n",
    "c1=Point() \n",
    "\n",
    "print(\"Enter the point:\")\n",
    "read_point(c1)\n",
    "\n",
    "if(point_in_circle(c,c1)):\n",
    "    print(\"Point lies inside the circle.\")\n",
    "else:\n",
    "    print(\"Point does not lies inside the circle.\")\n"
   ]
  },
  {
   "cell_type": "markdown",
   "metadata": {},
   "source": [
    "## write a function named rect_in_circle that takes a circle and a rectangle and returns True if the Rectangle lies entirely in or on the boundary of the circle."
   ]
  },
  {
   "cell_type": "markdown",
   "metadata": {},
   "source": [
    "## class Time() with attributes(hour,minute,second),with read and print functions.\n",
    "## Functions:\n",
    "- A pure function to add 2 time obj's and returnt the resultant time\n",
    "- A modifier called Increment- adds a given no of sec to a Time obj\n",
    "- Pure version of increment- creates an returns a new time obj rather than modifying the parameter.\n",
    "- pure function called mul_time- that takes a time obj and a number and returns a new time obj that contains the product of the original time and the number."
   ]
  },
  {
   "cell_type": "code",
   "execution_count": 8,
   "metadata": {},
   "outputs": [
    {
     "name": "stdout",
     "output_type": "stream",
     "text": [
      "Enter the time5:30:02\n",
      "Enter the time2:30:22\n",
      "08:00:24\n"
     ]
    }
   ],
   "source": [
    "class Time():\n",
    "    \"\"\"Represents the time of day\n",
    "    attributes:hour,min,sec\"\"\"\n",
    "\n",
    "def read_time(time):\n",
    "    time.hour,time.minute,time.second=input(\"Enter the time\").split(\":\")\n",
    "    time.hour,time.minute,time.second=int(time.hour),int(time.minute),int(time.second)\n",
    "    \n",
    "def print_time(time):\n",
    "     print(\"%02d:%02d:%02d\"%(time.hour,time.minute,time.second))\n",
    "\n",
    "def time_to_int(time):\n",
    "    minutes = time.hour * 60 + time.minute\n",
    "    seconds = minutes * 60 + time.second\n",
    "    return seconds\n",
    "def int_to_time(seconds):\n",
    "    time = Time()\n",
    "    minutes, time.second = divmod(seconds, 60)\n",
    "    time.hour, time.minute = divmod(minutes, 60)\n",
    "    return time\n",
    "\n",
    "def add_time(t1,t2):\n",
    "    seconds = time_to_int(t1) + time_to_int(t2)\n",
    "    return int_to_time(seconds)\n",
    "\n",
    "#new time obj\n",
    "time1=Time()\n",
    "read_time(time1)\n",
    "\n",
    "time2=Time()\n",
    "read_time(time2)\n",
    "\n",
    "sum_time=add_time(time1,time2)\n",
    "print_time(sum_time)"
   ]
  },
  {
   "cell_type": "code",
   "execution_count": 13,
   "metadata": {},
   "outputs": [
    {
     "name": "stdout",
     "output_type": "stream",
     "text": [
      "Enter the time05:30:00\n",
      "Enter the additonal seconds:60\n",
      "05:31:00\n"
     ]
    }
   ],
   "source": [
    "##modifier increment\n",
    "def increment(time, sec):\n",
    "    time.second += sec\n",
    "\n",
    "    extra_min, rem_sec = divmod(time.second, 60)\n",
    "    time.minute += extra_min\n",
    "    time.second = rem_sec\n",
    "\n",
    "    extra_hour, rem_min = divmod(time.minute, 60)\n",
    "    time.hour += extra_hour\n",
    "    time.minute = rem_min\n",
    "    \n",
    "time=Time()\n",
    "read_time(time)\n",
    "seconds=int(input(\"Enter the additonal seconds:\"))\n",
    "increment(time,seconds)\n",
    "print_time(time)"
   ]
  },
  {
   "cell_type": "code",
   "execution_count": 40,
   "metadata": {},
   "outputs": [
    {
     "name": "stdout",
     "output_type": "stream",
     "text": [
      "Enter the time-2:30:00\n",
      "Enter the additonal seconds:60\n",
      "02:31:00\n"
     ]
    }
   ],
   "source": [
    "##pure version of increment\n",
    "def pure_increment(time,sec):\n",
    "    ntime=Time()\n",
    "    ntime.second=time.second+sec\n",
    "    \n",
    "    extra_min, rem_sec = divmod(ntime.second, 60)\n",
    "    ntime.minute=time.minute+extra_min\n",
    "    ntime.second = rem_sec\n",
    "\n",
    "    extra_hour, rem_min = divmod(ntime.minute, 60)\n",
    "    ntime.hour=time.hour+extra_hour\n",
    "    ntime.minute = rem_min\n",
    "    \n",
    "    return ntime\n",
    "\n",
    "\n",
    "time=Time()\n",
    "read_time(time)\n",
    "seconds=int(input(\"Enter the additonal seconds:\"))\n",
    "increment(time,seconds)\n",
    "print_time(time)\n",
    "    "
   ]
  },
  {
   "cell_type": "code",
   "execution_count": 19,
   "metadata": {},
   "outputs": [
    {
     "name": "stdout",
     "output_type": "stream",
     "text": [
      "Enter the time11:80:00\n",
      "Enter a number:2\n",
      "24:40:00\n"
     ]
    }
   ],
   "source": [
    "##pure func mul_time():\n",
    "def mul_time(time,num):\n",
    "    new_time=Time()\n",
    "    new_time=(int_to_time((time_to_int(time)) * num))\n",
    "    return new_time\n",
    "\n",
    "time=Time()\n",
    "read_time(time)\n",
    "num=int(input(\"Enter a number:\"))\n",
    "print_time(mul_time(time,num))\n",
    "    "
   ]
  },
  {
   "cell_type": "markdown",
   "metadata": {},
   "source": [
    "##the entire function"
   ]
  },
  {
   "cell_type": "code",
   "execution_count": 42,
   "metadata": {},
   "outputs": [
    {
     "name": "stdout",
     "output_type": "stream",
     "text": [
      "To add 2 time's:\n",
      "Enter the time-2:30:0\n",
      "Enter the time-1:30:0\n",
      "Total time=04:00:00\n",
      "\n",
      "To increment time by sec:(Modifiers)\n",
      "Enter the time-2:30:0\n",
      "Enter the additional seconds:120\n",
      "After incrementing:02:32:00\n",
      "\n",
      "To increment time by sec:(Pure Function)\n",
      "Enter the time-2:30:0\n",
      "Enter the additional seconds:30\n",
      "After incrementing:02:30:30\n",
      "\n",
      "To multiply time by a give no.\n",
      "Enter the time-2:30:0\n",
      "Enter the additonal seconds:2\n",
      "new time:02:30:02\n"
     ]
    }
   ],
   "source": [
    "class Time():\n",
    "    \"\"\"Represents the time of day\n",
    "    attributes:hour,min,sec\"\"\"\n",
    "\n",
    "#function to read time\n",
    "def read_time(time):\n",
    "    time.hour,time.minute,time.second=input(\"Enter the time-\").split(\":\")\n",
    "    time.hour,time.minute,time.second=int(time.hour),int(time.minute),int(time.second)\n",
    "\n",
    "#function to print time\n",
    "def print_time(time):\n",
    "     print(\"%02d:%02d:%02d\"%(time.hour,time.minute,time.second))\n",
    "        \n",
    "#converts time to integer and returns the total time in sec\n",
    "def time_to_int(time):\n",
    "    minutes = time.hour * 60 + time.minute\n",
    "    seconds = minutes * 60 + time.second\n",
    "    return seconds\n",
    "\n",
    "#converts total seconds to time with 24h format\n",
    "def int_to_time(seconds):\n",
    "    time = Time()\n",
    "    minutes, time.second = divmod(seconds, 60)\n",
    "    time.hour, time.minute = divmod(minutes, 60)\n",
    "    return time\n",
    "\n",
    "#adds the two time\n",
    "def add_time(t1,t2):\n",
    "    seconds = time_to_int(t1) + time_to_int(t2)\n",
    "    return int_to_time(seconds)\n",
    "\n",
    "#modifier increment\n",
    "def increment(time, sec):\n",
    "    time.second += sec\n",
    "\n",
    "    extra_min, rem_sec = divmod(time.second, 60)\n",
    "    time.minute += extra_min\n",
    "    time.second = rem_sec\n",
    "\n",
    "    extra_hour, rem_min = divmod(time.minute, 60)\n",
    "    time.hour += extra_hour\n",
    "    time.minute = rem_min\n",
    "    \n",
    "\n",
    "#pure version of increment\n",
    "def pure_increment(time,sec):\n",
    "    ntime=Time()\n",
    "    ntime.second=time.second+sec\n",
    "    \n",
    "    extra_min, rem_sec = divmod(ntime.second, 60)\n",
    "    ntime.minute=time.minute+extra_min\n",
    "    ntime.second = rem_sec\n",
    "\n",
    "    extra_hour, rem_min = divmod(ntime.minute, 60)\n",
    "    ntime.hour=time.hour+extra_hour\n",
    "    ntime.minute = rem_min\n",
    "    \n",
    "    return ntime\n",
    "\n",
    "#pure func mul_time():\n",
    "def mul_time(time,num):\n",
    "    new_time=Time()\n",
    "    new_time=(int_to_time((time_to_int(time)) * num))\n",
    "    return new_time\n",
    "\n",
    "\n",
    "#to add two time\n",
    "print(\"To add 2 time's:\")\n",
    "time1,time2=Time(),Time()\n",
    "read_time(time1)\n",
    "read_time(time2)\n",
    "\n",
    "total_time=add_time(time1,time2)\n",
    "print(\"Total time=\",end=\"\")\n",
    "print_time(total_time)\n",
    "\n",
    "#to increment the seconds\n",
    "print(\"\\nTo increment time by sec:(Modifiers)\")\n",
    "inctime=Time()\n",
    "read_time(inctime)\n",
    "sec=int(input(\"Enter the additional seconds:\"))\n",
    "increment(inctime,sec)\n",
    "print(\"After incrementing:\",end=\"\")\n",
    "print_time(inctime)\n",
    "\n",
    "#to test the pure version of increment\n",
    "print(\"\\nTo increment time by sec:(Pure Function)\")\n",
    "ptime=Time()\n",
    "read_time(ptime)\n",
    "sec=int(input(\"Enter the additional seconds:\"))\n",
    "new_time=pure_increment(ptime,sec)\n",
    "print(\"After incrementing:\",end=\"\")\n",
    "print_time(new_time)\n",
    "\n",
    "#to multiply time by a number\n",
    "print(\"\\nTo multiply time by a give no.\")\n",
    "time=Time()\n",
    "read_time(time)\n",
    "seconds=int(input(\"Enter the additonal seconds:\"))\n",
    "increment(time,seconds)\n",
    "print(\"new time:\",end=\"\")\n",
    "print_time(time)"
   ]
  },
  {
   "cell_type": "code",
   "execution_count": null,
   "metadata": {},
   "outputs": [],
   "source": [
    "def pure_increment(time,sec):\n",
    "    ntime=Time()\n",
    "    ntime.second=time.second+sec\n",
    "    \n",
    "    extra_min, rem_sec = divmod(ntime.second, 60)\n",
    "    ntime.minute=time.minute+extra_min\n",
    "    ntime.second = rem_sec\n",
    "\n",
    "    extra_hour, rem_min = divmod(ntime.minute, 60)\n",
    "    ntime.hour=time.hour+extra_hour\n",
    "    ntime.minute = rem_min\n",
    "    \n",
    "    return ntime\n"
   ]
  }
 ],
 "metadata": {
  "kernelspec": {
   "display_name": "Python 3",
   "language": "python",
   "name": "python3"
  },
  "language_info": {
   "codemirror_mode": {
    "name": "ipython",
    "version": 3
   },
   "file_extension": ".py",
   "mimetype": "text/x-python",
   "name": "python",
   "nbconvert_exporter": "python",
   "pygments_lexer": "ipython3",
   "version": "3.9.0"
  }
 },
 "nbformat": 4,
 "nbformat_minor": 4
}
