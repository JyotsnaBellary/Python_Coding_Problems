{
 "cells": [
  {
   "cell_type": "markdown",
   "metadata": {},
   "source": [
    "# list and tuples module-2 programs"
   ]
  },
  {
   "cell_type": "code",
   "execution_count": 1,
   "metadata": {},
   "outputs": [
    {
     "name": "stdout",
     "output_type": "stream",
     "text": [
      "Enter the word:warm\n",
      "warming\n"
     ]
    }
   ],
   "source": [
    "#python Program to Add 'ing' at the end of a given string.\n",
    "\n",
    "def string_end (str):\n",
    "    length=len (str)\n",
    "    if length > 2:\n",
    "        if str.endswith('ing')==True:\n",
    "            str+='ly'\n",
    "        else:\n",
    "            str+='ing'\n",
    "\n",
    "    return str\n",
    "\n",
    "word=input(\"Enter the word:\")\n",
    "print(string_end(word))\n",
    "\n",
    "    "
   ]
  },
  {
   "cell_type": "code",
   "execution_count": 3,
   "metadata": {},
   "outputs": [
    {
     "name": "stdout",
     "output_type": "stream",
     "text": [
      "enetr the 1st string:listen\n",
      "enter the 2nd string:silent\n",
      "The two strings are anagrams of each other\n"
     ]
    }
   ],
   "source": [
    "#Write a Program to check whether a given sentence is anagram or not \n",
    "# anagram means one string should contain letters of another string but can form differnt words\n",
    "str1=input(\"enetr the 1st string:\")\n",
    "str2=input(\"enter the 2nd string:\")\n",
    "\n",
    "def areAnagram(str1, str2):\n",
    "    n1=len(str1)\n",
    "    n2=len(str2)\n",
    "    if (n1!=n2):\n",
    "        return 0\n",
    "    str1= sorted(str1)\n",
    "    str2= sorted (str2)\n",
    "\n",
    "    if (str1==str2):\n",
    "        return 1\n",
    "    else:\n",
    "        return 0\n",
    "\n",
    "if areAnagram(str1, str2):\n",
    "    print(\"The two strings are anagrams of each other\")\n",
    "else:\n",
    "    print (\"The two strings are not anagrams of each other\")\n"
   ]
  },
  {
   "cell_type": "code",
   "execution_count": 4,
   "metadata": {},
   "outputs": [
    {
     "name": "stdout",
     "output_type": "stream",
     "text": [
      "{'a': 1, 'b': 1, 'n': 1, 'o': 2, 'r': 2, 's': 2, 't': 1, 'u': 2}\n"
     ]
    }
   ],
   "source": [
    "#33. Consider the string „brontosaurus‟.\n",
    "#Write Pythonic code that implements and returns the functionality of histogram using dictionaries for the given string.\n",
    "import pprint\n",
    "string='brontosaurus'\n",
    "freq={}\n",
    "for ch in string:\n",
    "    if ch not in freq:\n",
    "        freq[ch]=1\n",
    "    else:\n",
    "        freq[ch]+=1\n",
    "        \n",
    "pprint.pprint(freq)\n"
   ]
  },
  {
   "cell_type": "code",
   "execution_count": 5,
   "metadata": {},
   "outputs": [
    {
     "name": "stdout",
     "output_type": "stream",
     "text": [
      "enter a text:hello world\n",
      "enter a step value:2\n",
      "['j', 'g', 'n', 'n', 'q', 'y', 'q', 't', 'n', 'f']\n"
     ]
    }
   ],
   "source": [
    "\"\"\"21. Write a Python program to create a Caesar encryption.\n",
    "Note: In cryptography, a Caesar cipher, It is a type of substitution cipher in which each\n",
    "letter in the plaintext is replaced by a letter some fixed number of positions down the\n",
    "alphabet. For example, with a shift of 3, A would be replaced by D, B would become E,\n",
    "and so on.\"\"\"\n",
    "realText=input(\"enter a text:\")\n",
    "step=int(input(\"enter a step value:\"))\n",
    "def caesar_encrypt(realText, step):\n",
    "\toutText = []\n",
    "\tcryptText = []\n",
    "\t\n",
    "\tuppercase = ['A', 'B', 'C', 'D', 'E', 'F', 'G', 'H', 'I', 'J', 'K', 'L', 'M', 'N', 'O', 'P', 'Q', 'R', 'S', 'T', 'U', 'V', 'W', 'X', 'Y', 'Z']\n",
    "\tlowercase = ['a', 'b', 'c', 'd', 'e', 'f', 'g', 'h', 'i', 'j', 'k', 'l', 'm', 'n', 'o', 'p', 'q', 'r', 's', 't', 'u', 'v', 'w', 'x', 'y', 'z']\n",
    "\n",
    "\tfor eachLetter in realText:\n",
    "\t\tif eachLetter in uppercase:\n",
    "\t\t\tindex = uppercase.index(eachLetter)\n",
    "\t\t\tcrypting = (index + step) % 26\n",
    "\t\t\tcryptText.append(crypting)\n",
    "\t\t\tnewLetter = uppercase[crypting]\n",
    "\t\t\toutText.append(newLetter)\n",
    "\t\telif eachLetter in lowercase:\n",
    "\t\t\tindex = lowercase.index(eachLetter)\n",
    "\t\t\tcrypting = (index + step) % 26\n",
    "\t\t\tcryptText.append(crypting)\n",
    "\t\t\tnewLetter = lowercase[crypting]\n",
    "\t\t\toutText.append(newLetter)\n",
    "\treturn outText\n",
    "\n",
    "code = caesar_encrypt(realText, step)\n",
    "print(code)\n",
    "\n"
   ]
  },
  {
   "cell_type": "code",
   "execution_count": 6,
   "metadata": {},
   "outputs": [
    {
     "name": "stdout",
     "output_type": "stream",
     "text": [
      "enter a string:hello\n",
      "HELLO\n"
     ]
    }
   ],
   "source": [
    "#swap the case of the read string without using inbuilt method\n",
    "\n",
    "str=input(\"enter a string:\")\n",
    "\n",
    "str1=\"\"\n",
    "\n",
    "for i in range(len(str)):\n",
    "    if(str[i].islower()):\n",
    "        str1+=str[i].upper()\n",
    "    else:\n",
    "        str1+=str[i].lower()\n",
    "print(str1)\n"
   ]
  },
  {
   "cell_type": "code",
   "execution_count": 8,
   "metadata": {},
   "outputs": [
    {
     "name": "stdout",
     "output_type": "stream",
     "text": [
      "enter a string:Welcome to Python class12\n",
      "uppercase: 2 lowercase: 18 digit: 2 space: 3\n"
     ]
    }
   ],
   "source": [
    "#16. Write a Program that reads a string from the user and displays the count of uppercase, lowercase letters, digits and spaces in the read string.\n",
    "\n",
    "str=input(\"enter a string:\")\n",
    "uc=0\n",
    "lc=0\n",
    "d=0\n",
    "s=0\n",
    "for i in range(len(str)):\n",
    "    if(str[i].isupper()):\n",
    "        uc+=1\n",
    "    if(str[i].islower()):\n",
    "        lc+=1\n",
    "    if(str[i].isdigit()):\n",
    "        d+=1\n",
    "    if(str[i].isspace()):\n",
    "        s+=1\n",
    "print(\"uppercase:\" ,uc, \"lowercase:\" ,lc, \"digit:\" ,d, \"space:\" ,s)\n"
   ]
  },
  {
   "cell_type": "code",
   "execution_count": 10,
   "metadata": {},
   "outputs": [
    {
     "name": "stdout",
     "output_type": "stream",
     "text": [
      "enter a string:welcome\n",
      "the number of vowels= 3\n"
     ]
    }
   ],
   "source": [
    "# program to count the no of vowels in a given string\n",
    "str=input(\"enter a string:\")\n",
    "s=\"AaEeIiOoUu\"\n",
    "count=0\n",
    "for ch in str:\n",
    "    if(ch in s):\n",
    "        count+=1\n",
    "        \n",
    "print(\"the number of vowels=\",count)\n",
    "\n"
   ]
  },
  {
   "cell_type": "code",
   "execution_count": 11,
   "metadata": {},
   "outputs": [
    {
     "name": "stdout",
     "output_type": "stream",
     "text": [
      "enter the even number of elements:4\n",
      "enter the element:1\n",
      "enter the element:2\n",
      "enter the element:3\n",
      "enter the element:4\n",
      "['1', '2']\n",
      "['3', '4']\n",
      "<class 'list'>\n"
     ]
    }
   ],
   "source": [
    "#Create two lists with first half and second half elements of a list\n",
    "ls1=[]\n",
    "ls2=[]\n",
    "ls=[]\n",
    "n=int(input(\"enter the even number of elements:\"))\n",
    "for i in range(0,n):\n",
    "    ele=input(\"enter the element:\")\n",
    "    ls.append(ele)\n",
    "for i in range(int(n/2)):\n",
    "    ls1.append(ls[i])\n",
    "for element in ls:\n",
    "    if element not in ls1:\n",
    "        ls2.append(element)\n",
    "print(ls1)\n",
    "print(ls2)\n",
    "print(type(ls1))\n",
    "\n"
   ]
  },
  {
   "cell_type": "code",
   "execution_count": 12,
   "metadata": {},
   "outputs": [
    {
     "name": "stdout",
     "output_type": "stream",
     "text": [
      "Enter a string:hello\n",
      "{'h': 1, 'e': 1, 'l': 2, 'o': 1}\n"
     ]
    }
   ],
   "source": [
    "#37. Write a python program to print the frequency of characters in a string. (Hit: Use adictionary with the character as keys and the counter as values.)\n",
    "\n",
    "s=input(\"Enter a string:\")\n",
    "\n",
    "d=dict()\n",
    "\n",
    "for ch in s:\n",
    "\n",
    "    d[ch]=d.get(ch,0)+1\n",
    "\n",
    "print(d)\n"
   ]
  },
  {
   "cell_type": "code",
   "execution_count": 13,
   "metadata": {},
   "outputs": [
    {
     "name": "stdout",
     "output_type": "stream",
     "text": [
      "Enter a word: malayalam\n",
      "malayalam\n",
      "Palindrome\n"
     ]
    }
   ],
   "source": [
    "#29. Write a Program that creates a function which checks whether the given string is palindrome or not\n",
    "def palindrome(word):\n",
    "    reverse=word[::-1] \n",
    "    print(reverse)\n",
    "    if word == reverse:\n",
    "        print(\"Palindrome\")\n",
    "    else:\n",
    "        print(\"Not a Palindrome\")\n",
    "word=input(\"Enter a word: \")\n",
    "palindrome (word)\n"
   ]
  },
  {
   "cell_type": "code",
   "execution_count": 14,
   "metadata": {},
   "outputs": [
    {
     "name": "stdout",
     "output_type": "stream",
     "text": [
      "Enter the number:22\n",
      "Left alligned:\n",
      "22        \n",
      "right alligned:\n",
      "        22\n",
      "center alligned:\n",
      "    22    \n"
     ]
    }
   ],
   "source": [
    "#Write a Python to display a number in left, right and center aligned of width 10\n",
    "n=input(\"Enter the number:\")\n",
    "print(\"Left alligned:\")\n",
    "print(n.ljust(10))\n",
    "print(\"right alligned:\")\n",
    "print(n.rjust(10))\n",
    "print(\"center alligned:\")\n",
    "print(n.center(10))\n"
   ]
  },
  {
   "cell_type": "code",
   "execution_count": 1,
   "metadata": {},
   "outputs": [
    {
     "name": "stdout",
     "output_type": "stream",
     "text": [
      "Enter a string: collinear\n",
      "Enter a character: l\n",
      "Number of times l is present in  collinear = 2\n"
     ]
    }
   ],
   "source": [
    "#30. Write a function that takes 2 arguments: string and a character, which counts the number of occurrences of character in the string\n",
    "\n",
    "def count_char(string,ch):\n",
    "    count=0\n",
    "    for i in string:\n",
    "        if(ch==i):\n",
    "            count=count+1\n",
    "        else:\n",
    "            continue\n",
    "    return count\n",
    "\n",
    "string=input (\"Enter a string: \")\n",
    "ch=input (\"Enter a character: \")\n",
    "\n",
    "res=count_char(string,ch)\n",
    "\n",
    "print(\"Number of times\", ch, \"is present in \", string, \"=\",res)\n"
   ]
  },
  {
   "cell_type": "code",
   "execution_count": 2,
   "metadata": {},
   "outputs": [
    {
     "name": "stdout",
     "output_type": "stream",
     "text": [
      "Enter the string:The five boxing wizards jump quickly is a pangram\n",
      "The five boxing wizards jump quickly is a pangram is pangram string\n"
     ]
    }
   ],
   "source": [
    "#18. Write a Program to check whether a given sentence is pangram or not [Example:The five boxing wizards jump quickly is a pangram]\n",
    "\n",
    "import string\n",
    "import sys\n",
    "\n",
    "s = input('Enter the string:')\n",
    "alphabets = list(string.ascii_lowercase)\n",
    "\n",
    "#pangarm is a string containing every letter of the alphabet\n",
    "for ch in alphabets:\n",
    "    if ch not in s.lower():\n",
    "        print (s,'is not pangram string') \n",
    "        sys.exit()\n",
    "\n",
    "print (s, 'is pangram string')\n"
   ]
  },
  {
   "cell_type": "code",
   "execution_count": 4,
   "metadata": {},
   "outputs": [
    {
     "name": "stdout",
     "output_type": "stream",
     "text": [
      "enter a password:Pooja@123\n",
      "Valid Password\n"
     ]
    }
   ],
   "source": [
    "\"\"\"19. Write a Python program to check the validity of a password (input from user). Validation :\n",
    " At least 1 letter between [a-z] and 1 letter between [A-Z].\n",
    " At least 1 number between [0-9].\n",
    " At least 1 character from [$#@].\n",
    " Minimum length 6 characters and Maximum length 16 characters.\"\"\"\n",
    "l, u, p, d = 0, 0, 0, 0\n",
    "s = input(\"enter a password:\")\n",
    "if (len(s) >= 6 and len(s) <= 16): \n",
    "    for i in s: \n",
    "  \n",
    "        # counting lowercase alphabets  \n",
    "        if (i.islower()): \n",
    "            l+=1            \n",
    "  \n",
    "        # counting uppercase alphabets \n",
    "        if (i.isupper()): \n",
    "            u+=1            \n",
    "  \n",
    "        # counting digits \n",
    "        if (i.isdigit()): \n",
    "            d+=1            \n",
    "  \n",
    "        # counting the mentioned special characters \n",
    "        if(i=='@'or i=='$' or i=='#'): \n",
    "            p+=1           \n",
    "if (l>=1 and u>=1 and p>=1 and d>=1 and l+p+u+d==len(s)): \n",
    "    print(\"Valid Password\") \n",
    "else: \n",
    "    print(\"Invalid Password\") \n"
   ]
  },
  {
   "cell_type": "code",
   "execution_count": 5,
   "metadata": {},
   "outputs": [
    {
     "name": "stdout",
     "output_type": "stream",
     "text": [
      "[('item4', 55), ('item1', 45.5), ('item3', 41.3), ('item2', 35), ('item5', 24)]\n",
      "top 3 items in shop: ('item4', 55)\n",
      "top 3 items in shop: ('item1', 45.5)\n",
      "top 3 items in shop: ('item3', 41.3)\n"
     ]
    }
   ],
   "source": [
    "#36) Write a python program to get the top 3 items in a shop\n",
    "\n",
    "shop={'item1':45.50,\"item2\":35,\"item3\":41.30,\"item4\":55,\"item5\":24}\n",
    "sorted_shop=sorted(shop.items(),key=lambda x:x[1],reverse=True)\n",
    "print(sorted_shop)\n",
    "for i in range(3):\n",
    "    print(\"top 3 items in shop:\",sorted_shop[i])\n"
   ]
  },
  {
   "cell_type": "code",
   "execution_count": 6,
   "metadata": {},
   "outputs": [
    {
     "name": "stdout",
     "output_type": "stream",
     "text": [
      "{'Jerry': 464467, 'Mickey': 5657, 'Tom': 3456}\n"
     ]
    }
   ],
   "source": [
    "#39. Consider a dictionary with strings as keys and numbers as values. Write a program to sort the elements of this dictionary based on keys.\n",
    "\n",
    "import pprint\n",
    "d={\"Tom\":3456,\"Jerry\":464467,\"Mickey\":5657}\n",
    "pprint.pprint(d)\n"
   ]
  },
  {
   "cell_type": "code",
   "execution_count": 7,
   "metadata": {},
   "outputs": [
    {
     "name": "stdout",
     "output_type": "stream",
     "text": [
      "enter the sentence:welcome to the magic world\n",
      "the longest word is welcome with length 7\n"
     ]
    }
   ],
   "source": [
    "#write a program to read a sentence from the user and display the longest word\n",
    "\n",
    "def longest_word(sentence):\n",
    "    ls=sentence.split()\n",
    "    longest= max(ls, key=len)\n",
    "    return longest,len(longest)\n",
    "\n",
    "sentence=input(\"enter the sentence:\")\n",
    "res1,res2=longest_word(sentence)\n",
    "print(\"the longest word is\", res1, \"with length\", res2)\n"
   ]
  },
  {
   "cell_type": "code",
   "execution_count": 8,
   "metadata": {},
   "outputs": [
    {
     "name": "stdout",
     "output_type": "stream",
     "text": [
      "enter the number of elements for list 1:4\n",
      "enter the elements:1\n",
      "enter the elements:2\n",
      "enter the elements:3\n",
      "enter the elements:4\n",
      "enter the number of elements for list 2:3\n",
      "enter the elements:1\n",
      "enter the elements:2\n",
      "enter the elements:3\n",
      "['1', '2', '3', '4', '1', '2', '3']\n"
     ]
    }
   ],
   "source": [
    "#sort 2 list and append it to another list\n",
    "ls1=[]\n",
    "ls2 = []\n",
    "ls = []\n",
    "n=int(input(\"enter the number of elements for list 1:\"))\n",
    "for i in range(n):\n",
    "    u=input(\"enter the elements:\")\n",
    "    ls1.append(u)\n",
    "\n",
    "n=int(input(\"enter the number of elements for list 2:\"))\n",
    "for i in range(n):\n",
    "    w=input(\"enter the elements:\")\n",
    "    ls2.append(w)\n",
    "\n",
    "ls1.sort()\n",
    "ls2.sort()\n",
    "ls = ls1 + ls2\n",
    "print(ls)\n"
   ]
  },
  {
   "cell_type": "code",
   "execution_count": null,
   "metadata": {},
   "outputs": [
    {
     "name": "stdout",
     "output_type": "stream",
     "text": [
      "Enter a name: (blank to quit)\n",
      "carol\n",
      "I do not have birthday information for  carol\n",
      "What is their birthday?\n",
      "mar 1\n",
      "Birthday database updated.\n",
      "{'Alice': 'Apr 1', 'Bob': 'Dec 12', 'Carol': 'Mar 4', 'carol': 'mar 1'}\n",
      "Enter a name: (blank to quit)\n"
     ]
    }
   ],
   "source": [
    "#38. Write a program to store data about your friends‟ birthdays.(Hit: Use a dictionary with the names as keys and the birthdays as values.)\n",
    "\n",
    "birthdays = {'Alice': 'Apr 1', 'Bob': 'Dec 12', 'Carol': 'Mar 4'} \n",
    "while True:\n",
    "    print('Enter a name: (blank to quit)')\n",
    "    name = input()\n",
    "    if name == ' ':\n",
    "        break\n",
    "    if name in birthdays:\n",
    "        print(birthdays[name] , ' is the birthday of ' , name)\n",
    "    else:\n",
    "        print('I do not have birthday information for ' , name)\n",
    "        print('What is their birthday?')\n",
    "        bday = input()\n",
    "        birthdays[name] = bday #add the information to the dictionary\n",
    "        print('Birthday database updated.')\n",
    "        print(birthdays)\n"
   ]
  },
  {
   "cell_type": "code",
   "execution_count": 2,
   "metadata": {},
   "outputs": [
    {
     "name": "stdout",
     "output_type": "stream",
     "text": [
      "Enter the string:hello hello\n",
      "hello $ello\n"
     ]
    }
   ],
   "source": [
    "# program to get a string from a given string where all occurences of its first character have been changed to \"$\" except the first character\n",
    "\n",
    "s=input(\"Enter the string:\")\n",
    "s1=s.replace(s[0],'$')\n",
    "print(s[0]+s1[1:])\n"
   ]
  },
  {
   "cell_type": "code",
   "execution_count": 3,
   "metadata": {},
   "outputs": [
    {
     "name": "stdout",
     "output_type": "stream",
     "text": [
      "enter the number of elements:4\n",
      "enter the element:1\n",
      "enter the element:2\n",
      "enter the element:3\n",
      "enter the element:4\n",
      "['4', '2', '3', '1']\n"
     ]
    }
   ],
   "source": [
    "#swap list\n",
    "ls=[]\n",
    "n=int(input(\"enter the number of elements:\"))\n",
    "for i in range(0,n):\n",
    "    ele=input(\"enter the element:\")\n",
    "    ls.append(ele)\n",
    "ls[0],ls[n-1]=ls[n-1],ls[0]\n",
    "print(ls)\n"
   ]
  },
  {
   "cell_type": "code",
   "execution_count": 4,
   "metadata": {},
   "outputs": [
    {
     "name": "stdout",
     "output_type": "stream",
     "text": [
      "enter the number of elements:4\n",
      "enter the elements:1\n",
      "enter the elements:4\n",
      "enter the elements:7\n",
      "enter the elements:2\n",
      "['4', '1', '2', '7']\n"
     ]
    }
   ],
   "source": [
    "#swap n and n+1\n",
    "ls=[]\n",
    "n=int(input(\"enter the number of elements:\"))\n",
    "for i in range(n):\n",
    "    w=input(\"enter the elements:\")\n",
    "    ls.append(w)\n",
    "\n",
    "if n % 2 != 0:\n",
    "    for i in range(n):\n",
    "        if i == n-1:\n",
    "            break\n",
    "        else:\n",
    "            if i%2 == 0:\n",
    "                a = ls[i]\n",
    "                ls[i] = ls[i+1]\n",
    "                ls[i+1] = a\n",
    "else:\n",
    "    for i in range(n):\n",
    "        if i%2 == 0:\n",
    "            a = ls[i]\n",
    "            ls[i] = ls[i+1]\n",
    "            ls[i+1] = a\n",
    "    \n",
    "print(ls)\n"
   ]
  },
  {
   "cell_type": "code",
   "execution_count": 5,
   "metadata": {},
   "outputs": [
    {
     "name": "stdout",
     "output_type": "stream",
     "text": [
      "Enter the string:hello world\n",
      "Enter the substring:hello\n",
      "Substring is present.\n"
     ]
    }
   ],
   "source": [
    "#to display the presence of a given substring in a main string\n",
    "\n",
    "string=input(\"Enter the string:\")\n",
    "sub=input(\"Enter the substring:\")\n",
    "if(string.find(sub) ==-1):\n",
    "    print(\"Substring not present\")\n",
    "else:\n",
    "    print(\"Substring is present.\")\n",
    "\n"
   ]
  },
  {
   "cell_type": "code",
   "execution_count": 6,
   "metadata": {},
   "outputs": [
    {
     "name": "stdout",
     "output_type": "stream",
     "text": [
      "maximum: mango\n",
      "minimum: strawberries\n",
      "[('Kiwi', 2), ('Apple', 10), ('Orange', 25), ('Cherry', 50)]\n",
      "('Kiwi', 2)\n",
      "('Cherry', 50)\n"
     ]
    }
   ],
   "source": [
    "#35. Write a Python program to get the maximum and minimum value in a dictionary.\n",
    "\n",
    "d={\"berry\":20,\"mango\":30,\"banana\":10,\"strawberries\":5}\n",
    "maximum=max(d,key=d.get) #stores the key which has the maximum value in the dictionary\n",
    "minimum=min(d,key=d.get) #stores the key which has the minimum value in the dictionary\n",
    "print(\"maximum:\",maximum)\n",
    "print(\"minimum:\",minimum)\n",
    "\n",
    "\n",
    "d={\"Apple\":10,\"Cherry\":50,\"Kiwi\":2,\"Orange\":25}\n",
    "d_sorted=sorted(d.items(),key=lambda x:x[1])\n",
    "print(d_sorted)\n",
    "print(d_sorted[0])\n",
    "print(d_sorted[len(d)-1])\n",
    "\n"
   ]
  },
  {
   "cell_type": "code",
   "execution_count": 7,
   "metadata": {},
   "outputs": [
    {
     "name": "stdout",
     "output_type": "stream",
     "text": [
      "Enter the no of students:4\n",
      "Enter their names and marks scored in 4 subjects:\n",
      "pooja\n",
      "20\n",
      "10\n",
      "10\n",
      "20\n",
      "jyo\n",
      "20\n",
      "20\n",
      "10\n",
      "10\n",
      "srima\n",
      "30\n",
      "10\n",
      "20\n",
      "30\n",
      "vaish\n",
      "20\n",
      "30\n",
      "30\n",
      "20\n",
      "vaish  is the topper with  100 Marks.\n",
      "Student_1= {'pooja': [20, 10, 10, 20], 'jyo': [20, 20, 10, 10], 'srima': [30, 10, 20, 30], 'vaish': [20, 30, 30, 20]}\n",
      "Student_2= {'pooja': 60, 'jyo': 60, 'srima': 90, 'vaish': 100}\n"
     ]
    }
   ],
   "source": [
    "#34. Write a Program that has a dictionary of names of students and a list of marks in 4 subjects. Create another dictionary from this dictionary that has the name of the students\n",
    "#and their total marks. Find out the topper and his/her score\n",
    "\n",
    "student1={} #will store names and their marks in 4 subjects\n",
    "student2={} #will store names and total marks\n",
    "n=int(input(\"Enter the no of students:\"))\n",
    "print(\"Enter their names and marks scored in 4 subjects:\")\n",
    "total=[0]*n # will store total marks in 4 subject\n",
    "for i in range(n):\n",
    "    name=input() #name\n",
    "    marks=[0]*4  #list storing marks in 4 subjects\n",
    "    for j in range(4):\n",
    "        marks[j]=int(input())\n",
    "        total[i]+=marks[j]\n",
    "    student1[name]=marks\n",
    "    \n",
    "student2=dict.fromkeys(student1.keys(),0) #will store the keys in student1 to student2\n",
    "\n",
    "i=0\n",
    "for keys in student2:\n",
    "    student2[keys]=total[i]\n",
    "    i+=1\n",
    "    \n",
    "max_mark=0\n",
    "for key in student2:\n",
    "    if(student2[key]>max_mark):\n",
    "        max_mark=student2[key]\n",
    "        topper=key\n",
    "\n",
    "print(topper,\" is the topper with \",max_mark,\"Marks.\")\n",
    "print(\"Student_1=\",student1)\n",
    "print(\"Student_2=\",student2)\n"
   ]
  },
  {
   "cell_type": "code",
   "execution_count": 8,
   "metadata": {},
   "outputs": [
    {
     "name": "stdout",
     "output_type": "stream",
     "text": [
      "Enter a string: hello pooja\n",
      "The unique string is: helo pja\n"
     ]
    }
   ],
   "source": [
    "#32. Write a Program to remove all duplicate characters in a string and prints the string with unique characters\n",
    "\n",
    "original_string=input(\"Enter a string: \")\n",
    "\n",
    "unique_str=\"\"\n",
    "\n",
    "for i in original_string:\n",
    "    if(i not in unique_str):\n",
    "        unique_str+=i\n",
    "    else:\n",
    "        continue\n",
    "print(\"The unique string is:\" ,unique_str)\n",
    "\n"
   ]
  },
  {
   "cell_type": "code",
   "execution_count": 10,
   "metadata": {},
   "outputs": [
    {
     "name": "stdout",
     "output_type": "stream",
     "text": [
      "enter the number of elements:4\n",
      "enter the elements:1\n",
      "enter the elements:1\n",
      "enter the elements:2\n",
      "enter the elements:2\n",
      "['1', '1', '2', '2']\n",
      "['1', '2']\n"
     ]
    }
   ],
   "source": [
    "#Write a Python function that takes a list and returns a new list with unique elements of the first list\n",
    "ls1=[]\n",
    "ls2 = []\n",
    "n=int(input(\"enter the number of elements:\"))\n",
    "for i in range(n):\n",
    "    w=input(\"enter the elements:\")\n",
    "    ls1.append(w)\n",
    "\n",
    "for item in ls1:\n",
    "    if item not in ls2:\n",
    "        ls2.append(item)\n",
    "\n",
    "print(ls1)\n",
    "print(ls2)\n",
    "        \n"
   ]
  },
  {
   "cell_type": "code",
   "execution_count": 11,
   "metadata": {},
   "outputs": [
    {
     "name": "stdout",
     "output_type": "stream",
     "text": [
      "{'jerry': 3476, 'mickey': 4578, 'tom': 3456}\n",
      "<class 'dict'>\n",
      "{'jerry': 3476, 'mickey': 4578, 'tom': 3456}\n",
      "<class 'str'>\n"
     ]
    }
   ],
   "source": [
    "#pretty printing\n",
    "import pprint\n",
    "d={'tom':3456, 'jerry':3476, 'mickey':4578}\n",
    "pprint.pprint(d)\n",
    "print(type(d))\n",
    "\n",
    "s=pprint.pformat(d)\n",
    "print(s)\n",
    "print(type(s))\n",
    "\n",
    "\n"
   ]
  },
  {
   "cell_type": "code",
   "execution_count": 32,
   "metadata": {},
   "outputs": [
    {
     "name": "stdout",
     "output_type": "stream",
     "text": [
      "Enter number of elements : 4\n",
      "enter the string:apples \n",
      "enter the string:banana\n",
      "enter the string:tofu\n",
      "enter the string:cats\n",
      "apples ,banana,tofu,and cats\n"
     ]
    }
   ],
   "source": [
    "#program to separate string by comma\n",
    "spam=[]\n",
    "n = int(input(\"Enter number of elements : \")) \n",
    "for i in range(0, n): \n",
    "    ele = (input(\"enter the string:\"))\n",
    "    spam.append(ele)\n",
    "def arg(spam):\n",
    "    str1=\"\"\n",
    "    for item in spam:\n",
    "        str1 += item\n",
    "        if item == spam[-1]:\n",
    "            break\n",
    "        str1 += \",\"\n",
    "        if item == spam[-2]:\n",
    "            str1 += \"and \"\n",
    "    return str1\n",
    "s1=arg(spam)\n",
    "print(s1)\n"
   ]
  },
  {
   "cell_type": "code",
   "execution_count": 13,
   "metadata": {},
   "outputs": [
    {
     "name": "stdout",
     "output_type": "stream",
     "text": [
      "enter even number of elements:4\n",
      "enter the item:hell\n",
      "enter the item:no\n",
      "enter the item:mine\n",
      "enter the item:world\n",
      "['hell', 'no', 'mine', 'world']\n",
      "['hell', 'no']\n",
      "['mine', 'world']\n"
     ]
    }
   ],
   "source": [
    "#2 lists \n",
    "ls=[]\n",
    "\n",
    "n=int(input(\"enter even number of elements:\"))\n",
    "if n%2==1:\n",
    "    print(\"odd numbers not possible:\")\n",
    "else:\n",
    "        for i in range(0,n):\n",
    "            ele=input(\"enter the item:\")\n",
    "            ls.append(ele)\n",
    "        num=int(n/2)\n",
    "        ls1=ls[:num]\n",
    "        ls2=ls[num:]\n",
    "        print(ls)\n",
    "        print(ls1)\n",
    "        print(ls2)\n"
   ]
  },
  {
   "cell_type": "code",
   "execution_count": 3,
   "metadata": {},
   "outputs": [
    {
     "name": "stdout",
     "output_type": "stream",
     "text": [
      "enter element:6\n",
      "enter element:6\n",
      "enter element:4\n",
      "enter element:5\n",
      "enter element:8\n",
      "enter element:9\n",
      "enter element:5\n",
      "enter element:6\n",
      "enter element:3\n",
      "enter element:7\n",
      "[7, 3, 6, 5, 9, 8, 5, 4, 6, 6]\n"
     ]
    }
   ],
   "source": [
    "#Write a python program to create a list and print all the items in reverse index order(without using reverse()\n",
    "#method) ?\n",
    "#program to print items in reverse order without reverse\n",
    "#method\n",
    "ls=[]\n",
    "n=1\n",
    "while(n<=10):\n",
    "    x=input(\"enter element:\")\n",
    "    ls.append(int(x))\n",
    "    n=n+1\n",
    "print(ls[::-1])"
   ]
  },
  {
   "cell_type": "code",
   "execution_count": 5,
   "metadata": {},
   "outputs": [
    {
     "name": "stdout",
     "output_type": "stream",
     "text": [
      "range=4\n",
      "0 element=2\n",
      "1 element=3\n",
      "2 element=4\n",
      "3 element=5\n",
      "0 element=6\n",
      "1 element=6\n",
      "2 element=7\n",
      "3 element=8\n",
      "None\n"
     ]
    }
   ],
   "source": [
    "#Write a Python function that takes two lists and returns True if they have at least one common member\n",
    "\n",
    "def common(list1, list2):\n",
    "    result = False\n",
    "    for x in list1:\n",
    "        for y in list2:\n",
    "            if x == y:\n",
    "                result = True\n",
    "                return result\n",
    "lst1 = []\n",
    "lst2 = []\n",
    "n = int(input(\"range=\"))\n",
    "for i in range(0, n):\n",
    "    ele = int(input(\"%d element=\" %i))\n",
    "    lst1.append(ele)\n",
    "for i in range(0, n):\n",
    "    ele = int(input(\"%d element=\" %i))\n",
    "    lst2.append(ele)\n",
    "print(common(lst1, lst2))"
   ]
  },
  {
   "cell_type": "code",
   "execution_count": 8,
   "metadata": {},
   "outputs": [
    {
     "name": "stdout",
     "output_type": "stream",
     "text": [
      "queue originally: [20, -9, -3, 2, 1]\n",
      "queue after push operation: [20, -9, -3, 2, 1, 15, 100]\n",
      "queue after pop operation: [-9, -3, 2, 1, 15, 100]\n",
      "value obtained after peek operation: 100\n"
     ]
    }
   ],
   "source": [
    "#Write a Python program to illustrate operations of queues using list\n",
    "\n",
    "queue = [20,-9,-3,2,1]\n",
    "print(\"queue originally:\", queue)\n",
    "queue.append(15)\n",
    "queue.append(100)\n",
    "print(\"queue after push operation:\", queue)\n",
    "queue.pop(0)\n",
    "print(\"queue after pop operation:\", queue)\n",
    "print(\"value obtained after peek operation:\",\n",
    "queue[len(queue)-1])"
   ]
  },
  {
   "cell_type": "code",
   "execution_count": 10,
   "metadata": {},
   "outputs": [
    {
     "name": "stdout",
     "output_type": "stream",
     "text": [
      "stack originally: [20, -9, -3, 2, 1]\n",
      "stack after push operation: [20, -9, -3, 2, 1, 15, 100]\n",
      "stack after pop operation: [20, -9, -3, 2, 1, 15]\n",
      "value obtained after peek operation: 15\n"
     ]
    }
   ],
   "source": [
    "#Write a Python program to illustrate operations of stacks using list\n",
    "stack = [20,-9,-3,2,1]\n",
    "print(\"stack originally:\", stack)\n",
    "stack.append(15)\n",
    "stack.append(100)\n",
    "print(\"stack after push operation:\", stack)\n",
    "stack.pop()\n",
    "print(\"stack after pop operation:\", stack)\n",
    "print(\"value obtained after peek operation:\", stack[len(stack)-1])"
   ]
  },
  {
   "cell_type": "code",
   "execution_count": 12,
   "metadata": {},
   "outputs": [
    {
     "name": "stdout",
     "output_type": "stream",
     "text": [
      "sum of even numbers: 20\n",
      "sum of odd numbers: 10\n"
     ]
    }
   ],
   "source": [
    "#Write a Python Program that finds the sum of all even numbers and odd numbers in a predefined list\n",
    "ls=[2,3,4,6,7,8]\n",
    "sum1=0\n",
    "sum2=0\n",
    "for item in ls:\n",
    "    if(item%2==0):\n",
    "        sum1=sum1+item\n",
    "    else:\n",
    "        sum2=sum2+item\n",
    "print(\"sum of even numbers:\",sum1)\n",
    "print(\"sum of odd numbers:\",sum2)"
   ]
  },
  {
   "cell_type": "code",
   "execution_count": 13,
   "metadata": {},
   "outputs": [
    {
     "name": "stdout",
     "output_type": "stream",
     "text": [
      "1 st Element: 1\n",
      "2 st Element: 2\n",
      "3 st Element: 3\n",
      "4 st Element: 4\n",
      "5 st Element: 4\n",
      "6 st Element: 5\n",
      "7 st Element: 6\n",
      "8 st Element: 6\n",
      "9 st Element: 4\n",
      "10 st Element: 2\n",
      "list of even numbers=  [2, 4, 4, 6, 6, 4, 2]\n",
      "list of odd numbers=  [1, 3, 5]\n"
     ]
    }
   ],
   "source": [
    "#Write a Python Program that creates a list of 10 integers. Then create two lists-Odd List and Even List that has all odd\n",
    "#and even values in the list respectively\n",
    "List=[]\n",
    "even = []\n",
    "odd = []\n",
    "a = 10\n",
    "n=int(a)\n",
    "for i in range(1, n+1):\n",
    "    value=int(input(\"%d st Element: \" %i))\n",
    "    List.append(value)\n",
    "for i in range(n):\n",
    "    if(List[i]%2==0):\n",
    "        even.append(List[i])\n",
    "    else:\n",
    "        odd.append(List[i])\n",
    "print(\"list of even numbers= \",even)\n",
    "print(\"list of odd numbers= \",odd)\n"
   ]
  },
  {
   "cell_type": "code",
   "execution_count": 15,
   "metadata": {},
   "outputs": [
    {
     "name": "stdout",
     "output_type": "stream",
     "text": [
      "total number of list elements:5\n",
      "1 st Eleement:4\n",
      "2 st Eleement:5\n",
      "3 st Eleement:6\n",
      "4 st Eleement:6\n",
      "5 st Eleement:7\n",
      "element to be searched:4\n",
      "the number of times 4 has repeated in the list is 1\n"
     ]
    }
   ],
   "source": [
    "#Write a Python Program that counts the number of times a value appears in the list without using built in function\n",
    "n=int(input(\"total number of list elements:\"))\n",
    "List = []\n",
    "for i in range(1, n+1):\n",
    "    value=int(input(\"%d st Eleement:\" %i))\n",
    "    List.append(value)\n",
    "y = int(input(\"element to be searched:\"))\n",
    "count = 0\n",
    "for item in List:\n",
    "    if(item == y):\n",
    "        count = count + 1\n",
    "print(\"the number of times\", y ,\"has repeated in the list is\",\n",
    "count)"
   ]
  },
  {
   "cell_type": "code",
   "execution_count": 16,
   "metadata": {},
   "outputs": [
    {
     "name": "stdout",
     "output_type": "stream",
     "text": [
      "total number of list elements: 4\n",
      "0 st Element: 4\n",
      "1 st Element: 6\n",
      "2 st Element: 8\n",
      "3 st Element: 3\n",
      "3\n"
     ]
    }
   ],
   "source": [
    "# Python program to find smallest number from list\n",
    "n=int(input(\"total number of list elements: \"))\n",
    "List = []\n",
    "for i in range(0, n):\n",
    "    value=int(input(\"%d st Element: \" %i))\n",
    "    List.append(value)\n",
    "List.sort()\n",
    "print(List[0])"
   ]
  },
  {
   "cell_type": "code",
   "execution_count": 17,
   "metadata": {},
   "outputs": [
    {
     "name": "stdout",
     "output_type": "stream",
     "text": [
      "enter A:20\n",
      "enter B:50\n",
      "a: 20 b: 50\n",
      "after swapping\n",
      "a: 50 b: 20\n"
     ]
    }
   ],
   "source": [
    "#Write Python program to swap two numbers using functions. (Write without using intermediate/temporary variables).\n",
    "#Prompt the user for input.\n",
    "def swap(A,B):\n",
    "    A,B = B,A\n",
    "    print(\"after swapping\")\n",
    "    print(\"a:\", A, \"b:\", B)\n",
    "a = int(input(\"enter A:\"))\n",
    "b = int(input(\"enter B:\"))\n",
    "print(\"a:\", a, \"b:\", b)\n",
    "swap(a,b)"
   ]
  },
  {
   "cell_type": "code",
   "execution_count": 18,
   "metadata": {},
   "outputs": [
    {
     "name": "stdout",
     "output_type": "stream",
     "text": [
      "enter radius:4\n",
      "area of circle: 50.26548245743669\n",
      "perimeter of circle: 25.132741228718345\n"
     ]
    }
   ],
   "source": [
    "#Find the area and perimeter of a circle using functions. Prompt the user for input\n",
    "#find area and perimeter of circle using functions\n",
    "import math\n",
    "def circle(r):\n",
    "    area=math.pi*r*r\n",
    "    print(\"area of circle:\",area)\n",
    "    p=2*math.pi*r\n",
    "    print(\"perimeter of circle:\",p)\n",
    "r=eval(input(\"enter radius:\"))\n",
    "circle(r)\n"
   ]
  },
  {
   "cell_type": "code",
   "execution_count": 21,
   "metadata": {},
   "outputs": [
    {
     "name": "stdout",
     "output_type": "stream",
     "text": [
      "enter a number:7\n",
      "7 is a prime number\n"
     ]
    }
   ],
   "source": [
    "#Write a Python Program to check whether the number is prime or not\n",
    "#to check wether the number is prime or not\n",
    "n=eval(input(\"enter a number:\"))\n",
    "if(n>1):\n",
    "    for i in range(2,n):\n",
    "        if(n%i==0):\n",
    "            print(n,\"is not a prime number(composite)\")\n",
    "            break\n",
    "    else:\n",
    "        print(n,\"is a prime number\")\n",
    "else:\n",
    "    print(\"neither prime nor composite\")"
   ]
  },
  {
   "cell_type": "code",
   "execution_count": 22,
   "metadata": {},
   "outputs": [
    {
     "name": "stdout",
     "output_type": "stream",
     "text": [
      "enter number of elements to be entered:5\n",
      "enter element:5\n",
      "enter element:7\n",
      "enter element:6\n",
      "enter element:4\n",
      "enter element:5\n",
      "the average of numbers entered: 5.4\n"
     ]
    }
   ],
   "source": [
    "#Implement a python program using lists to store and display the average of ‘n’ numbers accepted from the user\n",
    "n=eval(input(\"enter number of elements to be entered:\"))\n",
    "ls=[]\n",
    "sum=0\n",
    "for i in range(1,n+1):\n",
    "    x=eval(input(\"enter element:\"))\n",
    "    ls.append(x)\n",
    "    sum=sum+x\n",
    "avg=sum/len(ls)\n",
    "ls1=[avg]\n",
    "print(\"the average of numbers entered:\",avg)"
   ]
  },
  {
   "cell_type": "code",
   "execution_count": 24,
   "metadata": {},
   "outputs": [
    {
     "name": "stdout",
     "output_type": "stream",
     "text": [
      "enter number of elements to be entered:5\n",
      "enter element:3\n",
      "enter element:4\n",
      "enter element:5\n",
      "enter element:6\n",
      "enter element:7\n",
      "the sum of even numbers entered: 10\n",
      "the product of odd numbers entered: 105\n"
     ]
    }
   ],
   "source": [
    "#Write a python program to accept ‘n’ numbers from the user, find sum of all even numbers and product of all odd numbers\n",
    "#in the entered list\n",
    "n=eval(input(\"enter number of elements to be entered:\"))\n",
    "ls=[]\n",
    "sum1=0\n",
    "product=1\n",
    "for i in range(1,n+1):\n",
    "    x=eval(input(\"enter element:\"))\n",
    "    ls.append(x)\n",
    "    if(x%2==0):\n",
    "        sum1=sum1+x\n",
    "    else:\n",
    "        product=product*x\n",
    "print(\"the sum of even numbers entered:\",sum1)\n",
    "print(\"the product of odd numbers entered:\",product)"
   ]
  },
  {
   "cell_type": "code",
   "execution_count": 25,
   "metadata": {},
   "outputs": [
    {
     "name": "stdout",
     "output_type": "stream",
     "text": [
      "enter number of elements to be entered:4\n",
      "enter element:2\n",
      "enter element:3\n",
      "enter element:4\n",
      "enter element:5\n",
      "[2, 3, 4, 5]\n"
     ]
    }
   ],
   "source": [
    "#Write a Python Program that reads ‘n’ elements from the user and creates a list, and then display the same\n",
    "n=eval(input(\"enter number of elements to be entered:\"))\n",
    "ls=[]\n",
    "for i in range(1,n+1):\n",
    "    x=eval(input(\"enter element:\"))\n",
    "    ls.append(x)\n",
    "print(ls)"
   ]
  },
  {
   "cell_type": "code",
   "execution_count": 27,
   "metadata": {},
   "outputs": [
    {
     "name": "stdout",
     "output_type": "stream",
     "text": [
      "sum of even numbers in the list: 20\n",
      "sum of odd numbers in the list: 12\n"
     ]
    }
   ],
   "source": [
    "#Write a Python Program that finds the sum of all even numbers and odd numbers in a predefined list\n",
    "l1=[2,4,5,6,7,8]\n",
    "adde=0\n",
    "addo=0\n",
    "for x in l1:\n",
    "    if x%2==0:\n",
    "        adde+=x\n",
    "    else:\n",
    "        addo+=x\n",
    "print(\"sum of even numbers in the list:\",adde)\n",
    "print(\"sum of odd numbers in the list:\",addo)"
   ]
  },
  {
   "cell_type": "code",
   "execution_count": 28,
   "metadata": {},
   "outputs": [
    {
     "name": "stdout",
     "output_type": "stream",
     "text": [
      "even list= [2, 4, 6, 8, 10]\n",
      "odd list= [1, 3, 5, 7, 9]\n"
     ]
    }
   ],
   "source": [
    "\"\"\"Write a Python Program that creates a list of 10 integers. Then create two\n",
    "lists-Odd List and Even List that has all odd and even values in the list\n",
    "respectively\"\"\"\n",
    "l1=[1,2,3,4,5,6,7,8,9,10]\n",
    "l2=[]\n",
    "l3=[]\n",
    "for x in l1:\n",
    "    if x%2==0:\n",
    "        l2.append(x)\n",
    "    else:\n",
    "        l3.append(x)\n",
    "print(\"even list=\",l2)\n",
    "print(\"odd list=\",l3)"
   ]
  },
  {
   "cell_type": "code",
   "execution_count": 29,
   "metadata": {},
   "outputs": [
    {
     "name": "stdout",
     "output_type": "stream",
     "text": [
      "orginal list= [1, 2, 3, 4, 5, 6, 7, 8, 9, 10]\n",
      "list divible by 3= [3, 6, 9]\n"
     ]
    }
   ],
   "source": [
    "#Write a Python Program that creates a list of 10 numbers and then create a list that contains all the numbers from the original list that are divisible by\n",
    "# 3\n",
    "l1=[1,2,3,4,5,6,7,8,9,10]\n",
    "l2=[]\n",
    "for x in l1:\n",
    "    if x%3==0:\n",
    "        l2.append(x)\n",
    "print(\"orginal list=\",l1)\n",
    "print(\"list divible by 3=\",l2)\n"
   ]
  },
  {
   "cell_type": "code",
   "execution_count": 31,
   "metadata": {},
   "outputs": [
    {
     "name": "stdout",
     "output_type": "stream",
     "text": [
      "enter the value2\n",
      "the number of times 2 appeard in the list is: 2\n"
     ]
    }
   ],
   "source": [
    "#Write a Python Program that counts the number of times a value appears in the list without using built in function\n",
    "l1=[1,1,2,2,3,3]\n",
    "count=0\n",
    "val=int(input(\"enter the value\"))\n",
    "for x in l1:\n",
    "    if x == val:\n",
    "        count+=1\n",
    "print(\"the number of times\",val,\"appeard in the list is:\",count)\n",
    "    "
   ]
  },
  {
   "cell_type": "code",
   "execution_count": 2,
   "metadata": {},
   "outputs": [
    {
     "name": "stdout",
     "output_type": "stream",
     "text": [
      "enter the sentence:hello hello world\n",
      "{'hello': 2, 'world': 1}\n"
     ]
    }
   ],
   "source": [
    "#python program to print the occuarnce of words in a sentence\n",
    "s=input(\"enter the sentence:\")\n",
    "d=dict()\n",
    "ls=s.split()\n",
    "for w in ls:\n",
    "    if w not in d:\n",
    "        d[w]=1\n",
    "    else:\n",
    "        d[w]+=1\n",
    "print(d)\n"
   ]
  },
  {
   "cell_type": "code",
   "execution_count": 5,
   "metadata": {},
   "outputs": [
    {
     "name": "stdout",
     "output_type": "stream",
     "text": [
      "enter the number of elements for list 1:3\n",
      "enter the elements:3\n",
      "enter the elements:2\n",
      "enter the elements:1\n",
      "enter the number of elements for list 2:3\n",
      "enter the elements:6\n",
      "enter the elements:4\n",
      "enter the elements:5\n",
      "['1', '2', '3', '4', '5', '6']\n"
     ]
    }
   ],
   "source": [
    "#merge 2 list\n",
    "ls1=[]\n",
    "ls2 = []\n",
    "ls = []\n",
    "n=int(input(\"enter the number of elements for list 1:\"))\n",
    "for i in range(n):\n",
    "    u=input(\"enter the elements:\")\n",
    "    ls1.append(u)\n",
    "\n",
    "n=int(input(\"enter the number of elements for list 2:\"))\n",
    "for i in range(n):\n",
    "    w=input(\"enter the elements:\")\n",
    "    ls2.append(w)\n",
    "\n",
    "ls1.sort()\n",
    "ls2.sort()\n",
    "ls = ls1 + ls2\n",
    "ls.sort()\n",
    "print(ls)\n"
   ]
  },
  {
   "cell_type": "code",
   "execution_count": 8,
   "metadata": {},
   "outputs": [
    {
     "name": "stdout",
     "output_type": "stream",
     "text": [
      "Enter the string:welcome-to-my-class\n",
      "['welcome', 'to', 'my', 'class']\n",
      "class-my-to-welcome\n"
     ]
    }
   ],
   "source": [
    "#Write a Python program that accepts a hyphen-separated sequence of words as input and prints the words in a hyphen-separated sequence after sorting them alphabetically\n",
    "Str = list(input(\"Enter the string:\").split('-'))\n",
    "print(Str)\n",
    "Str.sort()\n",
    "str1 = []\n",
    "for element in Str:\n",
    "    str1.append(element)\n",
    "    if element != Str[-1]:\n",
    "        str1.append('-')\n",
    "\n",
    "print(''.join(word for word in str1))\n",
    "\n",
    "\n"
   ]
  },
  {
   "cell_type": "code",
   "execution_count": 10,
   "metadata": {},
   "outputs": [
    {
     "name": "stdout",
     "output_type": "stream",
     "text": [
      "2\n"
     ]
    }
   ],
   "source": [
    "#Write a Program to count the elements in a list until an element is a tuple\n",
    "num =[10,20,(10,20),30,40]\n",
    "ctr = 0\n",
    "for n in num:\n",
    "    if isinstance(n, tuple):\n",
    "        break\n",
    "    ctr += 1\n",
    "print(ctr)"
   ]
  },
  {
   "cell_type": "code",
   "execution_count": null,
   "metadata": {},
   "outputs": [],
   "source": []
  }
 ],
 "metadata": {
  "kernelspec": {
   "display_name": "Python 3",
   "language": "python",
   "name": "python3"
  },
  "language_info": {
   "codemirror_mode": {
    "name": "ipython",
    "version": 3
   },
   "file_extension": ".py",
   "mimetype": "text/x-python",
   "name": "python",
   "nbconvert_exporter": "python",
   "pygments_lexer": "ipython3",
   "version": "3.9.0"
  }
 },
 "nbformat": 4,
 "nbformat_minor": 4
}
