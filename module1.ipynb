{
 "cells": [
  {
   "cell_type": "markdown",
   "metadata": {},
   "source": [
    "# module1 programs"
   ]
  },
  {
   "cell_type": "code",
   "execution_count": 1,
   "metadata": {},
   "outputs": [
    {
     "name": "stdout",
     "output_type": "stream",
     "text": [
      "0\n",
      "1\n",
      "2\n",
      "3\n",
      "4\n",
      "5\n",
      "6\n",
      "7\n",
      "8\n",
      "9\n"
     ]
    }
   ],
   "source": [
    "#program to print 1st 10 numbers\n",
    "for i in range(10):\n",
    "    print(i)\n",
    "\n"
   ]
  },
  {
   "cell_type": "code",
   "execution_count": 3,
   "metadata": {},
   "outputs": [
    {
     "name": "stdout",
     "output_type": "stream",
     "text": [
      "enter 1st number:4\n",
      "enter 2nd number:2\n",
      "sum of 4 and 2 is: 6\n"
     ]
    }
   ],
   "source": [
    "#program to add 2 numbers\n",
    "def add(x,y):\n",
    "    sum=x+y\n",
    "    return sum\n",
    "x=int(input(\"enter 1st number:\"))\n",
    "y=int(input(\"enter 2nd number:\"))\n",
    "res=add(x,y)\n",
    "print(\"sum of\",x,\"and\",y,'is:',res)\n"
   ]
  },
  {
   "cell_type": "code",
   "execution_count": 4,
   "metadata": {},
   "outputs": [
    {
     "name": "stdout",
     "output_type": "stream",
     "text": [
      "enter your age:20\n",
      "eligible for voting:\n"
     ]
    }
   ],
   "source": [
    "#program to determine the age for vote\n",
    "age=int(input(\"enter your age:\"))\n",
    "if age>=18:\n",
    "    print(\"eligible for voting:\")\n",
    "else:\n",
    "    print(\"not eligible for voting:\")\n",
    "    n=18-age\n",
    "    print(\"the remaing years left to be eligible is:\",n)\n"
   ]
  },
  {
   "cell_type": "code",
   "execution_count": 5,
   "metadata": {},
   "outputs": [
    {
     "name": "stdout",
     "output_type": "stream",
     "text": [
      "Program to find the area of circle\n",
      "Enter radius: 6\n",
      "Area of circle is:  113.04\n"
     ]
    }
   ],
   "source": [
    "#Program to find the area of circle\n",
    "print(\"Program to find the area of circle\")\n",
    "num = int(input(\"Enter radius: \"))\n",
    "result = num*num*3.14\n",
    "print(\"Area of circle is: \",result)\n"
   ]
  },
  {
   "cell_type": "code",
   "execution_count": 8,
   "metadata": {},
   "outputs": [
    {
     "name": "stdout",
     "output_type": "stream",
     "text": [
      "Program to find the area of triangle using herons formula\n",
      "Enter first side: 6\n",
      "Enter second side: 8\n",
      "Enter third side: 9\n",
      "The area of the triangle is: 23.525252389719434\n"
     ]
    }
   ],
   "source": [
    "#Program to find the area of triangle using herons formula\n",
    "print(\"Program to find the area of triangle using herons formula\")\n",
    "import math\n",
    "# Three sides of the triangle is a, b and c:  \n",
    "a = float(input('Enter first side: '))  \n",
    "b = float(input('Enter second side: '))  \n",
    "c = float(input('Enter third side: '))  \n",
    "  \n",
    "# calculate the semi-perimeter  \n",
    "s = (a + b + c) / 2  \n",
    "  \n",
    "# calculate the area  \n",
    "area = (math.sqrt(s*(s-a)*(s-b)*(s-c)))\n",
    "print('The area of the triangle is:',area)   \n"
   ]
  },
  {
   "cell_type": "code",
   "execution_count": 9,
   "metadata": {},
   "outputs": [
    {
     "name": "stdout",
     "output_type": "stream",
     "text": [
      "enter 3 tests marks:\n",
      "enter 1st test marks:2\n",
      "enter 2nd test marks:4\n",
      "enter 3rd test marks:5\n",
      "average of num1 and num2=: 3.0\n",
      "average of num1 and num3=: 3.5\n",
      "average of num2 and num3=: 4.5\n",
      "average marks is: 4.5\n"
     ]
    }
   ],
   "source": [
    "#program to find best average marks\n",
    "\n",
    "print(\"enter 3 tests marks:\")\n",
    "num1=int(input(\"enter 1st test marks:\"))\n",
    "num2=int(input(\"enter 2nd test marks:\"))\n",
    "num3=int(input(\"enter 3rd test marks:\"))\n",
    "\n",
    "avg1=(num1+num2)/ 2\n",
    "print(\"average of num1 and num2=:\",avg1)\n",
    "avg2=(num1+num3)/ 2\n",
    "print(\"average of num1 and num3=:\",avg2)\n",
    "avg3=(num2+num3)/ 2\n",
    "print(\"average of num2 and num3=:\",avg3)\n",
    "\n",
    "print(\"average marks is:\",max(avg1,avg2,avg3))\n"
   ]
  },
  {
   "cell_type": "code",
   "execution_count": 10,
   "metadata": {},
   "outputs": [
    {
     "name": "stdout",
     "output_type": "stream",
     "text": [
      "enter a num:5\n",
      "5\n",
      "4\n",
      "3\n",
      "2\n",
      "1\n",
      "0\n",
      "over\n"
     ]
    }
   ],
   "source": [
    "#count down numbers\n",
    "n=int(input(\"enter a num:\")) \n",
    "while n>=0: #number greater than and =0 is printed\n",
    "    print(n)\n",
    "    n=n-1   \n",
    "print(\"over\")\n"
   ]
  },
  {
   "cell_type": "code",
   "execution_count": 11,
   "metadata": {},
   "outputs": [
    {
     "name": "stdout",
     "output_type": "stream",
     "text": [
      "program to calculate the distance between 2 points\n",
      "Enter x1:4\n",
      "Enter y1:2\n",
      "Enter x2:6\n",
      "Enter y2:4\n",
      "Distance is: 2.8284271247461903\n"
     ]
    }
   ],
   "source": [
    "#program to calculate the distance between 2 points\n",
    "print(\"program to calculate the distance between 2 points\")\n",
    "import math\n",
    "x1=float(input(\"Enter x1:\"))\n",
    "y1=float(input(\"Enter y1:\"))\n",
    "x2=float(input(\"Enter x2:\"))\n",
    "y2=float(input(\"Enter y2:\"))\n",
    "c1=(x2-x1)\n",
    "c2=(y2-y1)\n",
    "print(\"Distance is:\",(math.sqrt((c1**2)+(c2**2))))\n"
   ]
  },
  {
   "cell_type": "code",
   "execution_count": 13,
   "metadata": {},
   "outputs": [
    {
     "name": "stdout",
     "output_type": "stream",
     "text": [
      "enter a number:4\n",
      "con true\n"
     ]
    }
   ],
   "source": [
    "#if else\n",
    "i=int(input(\"enter a number:\"))\n",
    "if i<=10:\n",
    "    print(\"con true\")\n",
    "else:\n",
    "    print(\"con false\")\n",
    "    \n"
   ]
  },
  {
   "cell_type": "code",
   "execution_count": 14,
   "metadata": {},
   "outputs": [
    {
     "name": "stdout",
     "output_type": "stream",
     "text": [
      "Program to find the largest of 3 numbers\n",
      "Enter first number: 10\n",
      "Enter second number: 9\n",
      "Enter third number: 6\n",
      "The largest number is 10.0\n"
     ]
    }
   ],
   "source": [
    "#Program to find the largest of 3 numbers\n",
    "print(\"Program to find the largest of 3 numbers\")\n",
    "num1 = float(input(\"Enter first number: \"))\n",
    "num2 = float(input(\"Enter second number: \"))\n",
    "num3 = float(input(\"Enter third number: \"))\n",
    "\n",
    "if (num1 >= num2) and (num1 >= num3):\n",
    "   largest = num1\n",
    "elif (num2 >= num1) and (num2 >= num3):\n",
    "   largest = num2\n",
    "else:\n",
    "   largest = num3\n",
    "\n",
    "print(\"The largest number is\", largest)\n",
    "\n"
   ]
  },
  {
   "cell_type": "code",
   "execution_count": 15,
   "metadata": {},
   "outputs": [
    {
     "name": "stdout",
     "output_type": "stream",
     "text": [
      "enter a year:2020\n",
      "the year is leap year:\n"
     ]
    }
   ],
   "source": [
    "#program to find wether the year is leap year or not\n",
    "y=int(input(\"enter a year:\"))\n",
    "if(y%4==0 and y%100!=0 or y%400==0):\n",
    "    print(\"the year is leap year:\")\n",
    "else:\n",
    "    print(\"the year is not a leap year:\")\n",
    "\n"
   ]
  },
  {
   "cell_type": "code",
   "execution_count": 16,
   "metadata": {},
   "outputs": [
    {
     "name": "stdout",
     "output_type": "stream",
     "text": [
      "enter the 2 points:\n",
      "enter the 1st point:2\n",
      "enter the 2nd point:4\n",
      "lies in 1st qudrant:\n"
     ]
    }
   ],
   "source": [
    "#program to see in which qudrant it lies\n",
    "print(\"enter the 2 points:\")\n",
    "x=int(input(\"enter the 1st point:\"))\n",
    "y=int(input(\"enter the 2nd point:\"))\n",
    "\n",
    "if(x>0 and y>0):\n",
    "    print(\"lies in 1st qudrant:\")\n",
    "elif(x<0 and y>0):\n",
    "     print(\"lies in 2nd qudrant:\")\n",
    "elif(x<0 and y<0):\n",
    "     print(\"lies in 3rd qudrant:\")\n",
    "elif(x>0 and y<0):\n",
    "     print(\"lies in 4th qudrant:\")\n",
    "elif(x==0 and y==0):\n",
    "     print(\"lies in origin:\")\n",
    "    \n"
   ]
  },
  {
   "cell_type": "code",
   "execution_count": 17,
   "metadata": {},
   "outputs": [
    {
     "name": "stdout",
     "output_type": "stream",
     "text": [
      "True\n",
      "None\n"
     ]
    }
   ],
   "source": [
    "def common_data(list1, list2):\n",
    "     result = False\n",
    "     for x in list1:\n",
    "         for y in list2:\n",
    "             if x == y:\n",
    "                 result = True\n",
    "                 return result\n",
    "print(common_data([1,2,3,4,5], [5,6,7,8,9]))\n",
    "print(common_data([1,2,3,4,5], [6,7,8,9]))\n"
   ]
  },
  {
   "cell_type": "code",
   "execution_count": 18,
   "metadata": {},
   "outputs": [
    {
     "name": "stdout",
     "output_type": "stream",
     "text": [
      "enter the number:4\n",
      "n is positive:\n"
     ]
    }
   ],
   "source": [
    "#program to check wether the number is +ve, -ve or 0\n",
    "n=int(input(\"enter the number:\"))\n",
    "if(n>0):\n",
    "    print(\"n is positive:\")\n",
    "elif(n<0):\n",
    "    print(\"n is negative:\")\n",
    "else:\n",
    "    print(\"n is 0:\")\n",
    "\n"
   ]
  },
  {
   "cell_type": "code",
   "execution_count": 19,
   "metadata": {},
   "outputs": [
    {
     "name": "stdout",
     "output_type": "stream",
     "text": [
      "enter a number:456\n",
      "reverse of the number: 654\n"
     ]
    }
   ],
   "source": [
    "#program to find a reverse of a number\n",
    "n=int(input(\"enter a number:\"))\n",
    "rev=0\n",
    "while(n>0):\n",
    "    dig=n%10\n",
    "    rev=rev*10+dig\n",
    "    n=n//10\n",
    "print(\"reverse of the number:\",rev)\n"
   ]
  },
  {
   "cell_type": "code",
   "execution_count": 20,
   "metadata": {},
   "outputs": [
    {
     "name": "stdout",
     "output_type": "stream",
     "text": [
      "enter a value of a quadratic equation:4\n",
      "enter a value of a quadratic equation:6\n",
      "enter a value of a quadratic equation:2\n",
      "two distinct real roots exists: root1=-5.75 and root2=-6.25\n"
     ]
    }
   ],
   "source": [
    "#program to claculate the roots of quadratic equations\n",
    "\n",
    "#quadratic equation = ax^2+bx^2+c=0\n",
    "\n",
    "#if discriminant > 0 then it is distinct\n",
    "#root1=-b+square root of b^2-4ac/2a\n",
    "#root2=-b-square root of b^2-4ac/2a\n",
    "\n",
    "#if discriminant=0 equal and real roots\n",
    "#root1=root2=-b/a\n",
    "\n",
    "#if discriminant<0 complex roots\n",
    "#root1=-b/2a+i(sqrt of -(b^2-4ac)/2a))\n",
    "#root2=-b/2a-i(sqrt of -(b^2-4ac)/2a))\n",
    "\n",
    "import math\n",
    "a=int(input(\"enter a value of a quadratic equation:\"))\n",
    "b=int(input(\"enter a value of a quadratic equation:\"))\n",
    "c=int(input(\"enter a value of a quadratic equation:\"))\n",
    "\n",
    "discriminant=(b*b)-(4*a*c)\n",
    "\n",
    "if(discriminant>0):\n",
    "    root1=(-b+math.sqrt(discriminant)/(2*a))\n",
    "    root2=(-b-math.sqrt(discriminant)/(2*a))\n",
    "    print(\"two distinct real roots exists: root1=%.2f and root2=%.2f\" %(root1,root2))\n",
    "elif(discriminant==0):\n",
    "    root1=root2=-b/(2*a)\n",
    "    print(\"two equal and real roots exists: root1=%.2f and root2=%.2f\" %(root1,root2))\n",
    "elif(discriminant<0):\n",
    "    root1=root2=-b/(2*a)\n",
    "    imaginary = math.sqrt(-discriminant)/(2*a)\n",
    "    print(\"two distinct complex roots exists: root1=%.2f+%.2f and root2=%.2f-%.2f\" %(root1,imaginary,root2,imaginary))"
   ]
  },
  {
   "cell_type": "code",
   "execution_count": 21,
   "metadata": {},
   "outputs": [
    {
     "name": "stdout",
     "output_type": "stream",
     "text": [
      "select operation\n",
      "1 add\n",
      "2 sub\n",
      "3 mul\n",
      "4 div\n",
      "Enter choice(1/2/3/4): 2\n",
      "Enter first number: 4\n",
      "Enter second number: 7\n",
      "4 - 7 = -3\n"
     ]
    }
   ],
   "source": [
    "#program to simulate a simple calculator\n",
    "\n",
    "def add(x,y):\n",
    "    return x+y\n",
    "\n",
    "def subtract(x,y):\n",
    "    return x-y\n",
    "\n",
    "def mulitply(x,y):\n",
    "    return x*y\n",
    "\n",
    "def divide(x,y):\n",
    "    return x/y\n",
    "\n",
    "print(\"select operation\")\n",
    "print(\"1 add\")\n",
    "print(\"2 sub\")\n",
    "print(\"3 mul\")\n",
    "print(\"4 div\")\n",
    "\n",
    "while True:\n",
    "    choice = input(\"Enter choice(1/2/3/4): \")\n",
    "\n",
    "    # Check if choice is one of the four options\n",
    "    if choice in ('1', '2', '3', '4'):\n",
    "        num1 = int(input(\"Enter first number: \"))\n",
    "        num2 = int(input(\"Enter second number: \"))\n",
    "\n",
    "        if choice == '1':\n",
    "            print(num1, \"+\", num2, \"=\", add(num1, num2))\n",
    "\n",
    "        elif choice == '2':\n",
    "            print(num1, \"-\", num2, \"=\", subtract(num1, num2))\n",
    "\n",
    "        elif choice == '3':\n",
    "            print(num1, \"*\", num2, \"=\", multiply(num1, num2))\n",
    "\n",
    "        elif choice == '4':\n",
    "            print(num1, \"/\", num2, \"=\", divide(num1, num2))\n",
    "        break\n",
    "    else:\n",
    "        print(\"Invalid Input\")\n",
    "\n",
    "        \n",
    "#otherwise:\n",
    "        # if choice == '1':\n",
    "         #   num0=num1+num2\n",
    "         #   print(num1, \"+\", num2, \"=\",num0)\n",
    "\n",
    "        #elif choice == '2':\n",
    "         #   num0=num1-num2\n",
    "         #   print(num1, \"-\", num2, \"=\",num0)\n",
    "\n",
    "        #elif choice == '3':\n",
    "         #   num0=num1*num2\n",
    "         #   print(num1, \"*\", num2, \"=\", num0)\n",
    "\n",
    "       # elif choice == '4':\n",
    "        #    num0=num1/num2\n",
    "        #    print(num1, \"/\", num2, \"=\", num0)\n"
   ]
  },
  {
   "cell_type": "code",
   "execution_count": 22,
   "metadata": {},
   "outputs": [
    {
     "name": "stdout",
     "output_type": "stream",
     "text": [
      "sum 45\n",
      "avg 4.5\n"
     ]
    }
   ],
   "source": [
    "#program to calculate sum and average of 1st 10 numbers\n",
    "sum=0\n",
    "for i in range(10):\n",
    "    sum=sum+i\n",
    "    avg=sum/10\n",
    "print(\"sum\",sum)\n",
    "print(\"avg\",avg)\n"
   ]
  },
  {
   "cell_type": "code",
   "execution_count": 24,
   "metadata": {},
   "outputs": [
    {
     "name": "stdout",
     "output_type": "stream",
     "text": [
      "enter a number234\n",
      "sum of the digits 9\n"
     ]
    }
   ],
   "source": [
    "#program to calculate the digits of a number\n",
    "num=int(input(\"enter a number\"))\n",
    "sum=0\n",
    "while num!=0:\n",
    "    digit=num%10  #extracts unit place digit of num\n",
    "    num=num//10    #obtains other place digit except unit place of num\n",
    "    sum=sum+digit\n",
    "print(\"sum of the digits\",sum)\n"
   ]
  },
  {
   "cell_type": "code",
   "execution_count": 26,
   "metadata": {},
   "outputs": [
    {
     "name": "stdout",
     "output_type": "stream",
     "text": [
      "enter two num2 4\n",
      "sum of num1 and num2 = 6\n",
      "sum of num1 and num2 = -2\n",
      "sum of num1 and num2 = 8\n",
      "sum of num1 and num2 = 0.5\n",
      "sum of num1 and num2 = 2\n",
      "sum of num1 and num2 = 0\n"
     ]
    }
   ],
   "source": [
    "#Program to add 2 integers\n",
    "\n",
    "num1,num2=input(\"enter two num\").split()\n",
    "num1=int(num1)\n",
    "num2=int(num2)\n",
    "res=num1+num2\n",
    "p=num1-num2\n",
    "r=num1*num2\n",
    "e=num1/num2\n",
    "s=num1%num2\n",
    "ress=num1//num2\n",
    "print(\"sum of num1 and num2 =\",res)\n",
    "print(\"sum of num1 and num2 =\",p)\n",
    "print(\"sum of num1 and num2 =\",r)\n",
    "print(\"sum of num1 and num2 =\",e)\n",
    "print(\"sum of num1 and num2 =\",s)\n",
    "print(\"sum of num1 and num2 =\",ress)\n",
    "\n"
   ]
  },
  {
   "cell_type": "code",
   "execution_count": 27,
   "metadata": {},
   "outputs": [
    {
     "name": "stdout",
     "output_type": "stream",
     "text": [
      "enter 3 sides of a triangle:\n",
      "enter the 1st side of the traiangle:4\n",
      "enter the 2nd side of the traiangle:2\n",
      "enter the 3rd side of the traiangle:6\n",
      "it is a scalene triangle:\n"
     ]
    }
   ],
   "source": [
    "#program to find the type of triangle\n",
    "print(\"enter 3 sides of a triangle:\")\n",
    "x=int(input(\"enter the 1st side of the traiangle:\"))\n",
    "y=int(input(\"enter the 2nd side of the traiangle:\"))\n",
    "z=int(input(\"enter the 3rd side of the traiangle:\"))\n",
    "\n",
    "if x==y==z:\n",
    "    print(\"it is an equilateral triangle:\")\n",
    "elif x==y or x==z or y==z:\n",
    "    print(\"it is an isosceles triangle:\")\n",
    "else:\n",
    "    print(\"it is a scalene triangle:\")\n"
   ]
  },
  {
   "cell_type": "code",
   "execution_count": 30,
   "metadata": {},
   "outputs": [
    {
     "name": "stdout",
     "output_type": "stream",
     "text": [
      "enter a character:e\n",
      "it is a vowel:\n"
     ]
    }
   ],
   "source": [
    "#program to check wether the character entered is vowel or not\n",
    "n=input(\"enter a character:\")\n",
    "\n",
    "if(n==\"a\" or n==\"A\"  or n==\"e\"  or n==\"E\" or n==\"i\"  or n==\"I\"\n",
    "   or n==\"o\"  or n==\"O\" or n==\"u\"  or n==\"U\"):\n",
    "    print(\"it is a vowel:\")\n",
    "else:\n",
    "    print(\"it's a consonant:\")\n"
   ]
  },
  {
   "cell_type": "code",
   "execution_count": 1,
   "metadata": {},
   "outputs": [
    {
     "name": "stdout",
     "output_type": "stream",
     "text": [
      "program to print the digit at one's place:\n",
      "enter a number236\n",
      "the digit at one's place = 6\n"
     ]
    }
   ],
   "source": [
    "#program to print the digit at one's place of number\n",
    "print(\"program to print the digit at one's place:\")\n",
    "x=int(input(\"enter a number\"))\n",
    "y=x%10\n",
    "print(\"the digit at one's place =\",y)"
   ]
  },
  {
   "cell_type": "code",
   "execution_count": 2,
   "metadata": {},
   "outputs": [
    {
     "name": "stdout",
     "output_type": "stream",
     "text": [
      "enter the temperature:99\n",
      "temperature in celsius= 37.22222222222222\n"
     ]
    }
   ],
   "source": [
    "#program to convert fahernheit into celisus\n",
    "fahernheit=float(input(\"enter the temperature:\"))\n",
    "celsius=(fahernheit-32)*5/9\n",
    "print(\"temperature in celsius=\",celsius)"
   ]
  },
  {
   "cell_type": "code",
   "execution_count": 3,
   "metadata": {},
   "outputs": [
    {
     "name": "stdout",
     "output_type": "stream",
     "text": [
      "enetr the number4\n",
      "result= 257\n"
     ]
    }
   ],
   "source": [
    "#program to compute the expression to 2^2n+1\n",
    "n=int(input(\"enetr the number\"))\n",
    "e=2**(2*n)+1\n",
    "print(\"result=\",e)"
   ]
  },
  {
   "cell_type": "code",
   "execution_count": 5,
   "metadata": {},
   "outputs": [
    {
     "name": "stdout",
     "output_type": "stream",
     "text": [
      "Enter a number: 153\n",
      "153 is an Armstrong number\n"
     ]
    }
   ],
   "source": [
    "\n",
    "#Program to find whether a 3-digit number is armstrong number or not.\n",
    "num = int(input(\"Enter a number: \"))\n",
    "org,sum=num,0\n",
    "while num > 0:\n",
    "    digit = num % 10\n",
    "    sum += digit ** 3\n",
    "    num //= 10\n",
    "#end of while\n",
    "if org == sum:\n",
    "    print(org,\"is an Armstrong number\")\n",
    "else:\n",
    "    print(org,\"is not an Armstrong number\")\n",
    "#end"
   ]
  },
  {
   "cell_type": "code",
   "execution_count": 8,
   "metadata": {},
   "outputs": [
    {
     "name": "stdout",
     "output_type": "stream",
     "text": [
      "enter the range of numbers u want to enter:3\n",
      "enter a number:6\n",
      "enter a number:9\n",
      "enter a number:1\n",
      "sum= 15\n"
     ]
    }
   ],
   "source": [
    "#program to read \"n\" numbers from the user and computes the sum of numbers that are divisble by 3\n",
    "n=int(input(\"enter the range of numbers u want to enter:\"))\n",
    "sum=0\n",
    "for i in range(1,n+1):\n",
    "    x=int(input(\"enter a number:\"))\n",
    "    if x%3!=0:\n",
    "        continue\n",
    "    else:\n",
    "        sum+=x\n",
    "print(\"sum=\",sum)"
   ]
  },
  {
   "cell_type": "code",
   "execution_count": 10,
   "metadata": {},
   "outputs": [
    {
     "name": "stdout",
     "output_type": "stream",
     "text": [
      "Enter a number:5\n",
      "Enter a number:2\n",
      "Enter a number:3\n",
      "Enter a number:4\n",
      "Enter a number:5\n",
      "Enter a number:6\n",
      "Enter a number:2\n",
      "Enter a number:2\n",
      "Enter a number:3\n",
      "Enter a number:3\n",
      "Sum=  19\n"
     ]
    }
   ],
   "source": [
    "#Write a Program that keeps reading numbers from the user and terminates when it computes sum\n",
    "#of 5 odd numbers\n",
    "sum=0\n",
    "\n",
    "count=0\n",
    "\n",
    "while True:\n",
    "\n",
    "    x=int(input(\"Enter a number:\"))\n",
    "\n",
    "    if x%2==0:\n",
    "\n",
    "        continue\n",
    "\n",
    "    else:\n",
    "\n",
    "        sum+=x\n",
    "\n",
    "        count+=1\n",
    "\n",
    "        if count==5:\n",
    "\n",
    "            break\n",
    "\n",
    "print(\"Sum= \", sum)"
   ]
  },
  {
   "cell_type": "code",
   "execution_count": 12,
   "metadata": {},
   "outputs": [
    {
     "name": "stdout",
     "output_type": "stream",
     "text": [
      "enter a number:2\n",
      "enter a number:3\n",
      "enter a number:4\n",
      "enter a number:5\n",
      "enter a number:6\n",
      "enter a number:7\n",
      "enter a number:8\n",
      "enter a number:-1\n",
      "enter a number:2\n",
      "enter a number:3\n",
      "sum: 40\n"
     ]
    }
   ],
   "source": [
    "# Write a Program to calculate the sum of 10 numbers read from the user. If the user enters a\n",
    "#negative number, it's not added to the result\n",
    "sum=0\n",
    "for i in range(1,11):\n",
    "    x=int(input(\"enter a number:\"))\n",
    "    if x<0:\n",
    "        continue\n",
    "    else:\n",
    "        sum+=x\n",
    "print(\"sum:\",sum)"
   ]
  },
  {
   "cell_type": "code",
   "execution_count": 14,
   "metadata": {},
   "outputs": [
    {
     "name": "stdout",
     "output_type": "stream",
     "text": [
      "Enter a number\n",
      "4\n",
      "Factorial of 4 = 24\n"
     ]
    }
   ],
   "source": [
    "#Program to find factorial of a number\n",
    "n=int(input(\"Enter a number\\n\"))\n",
    "fact,i=1,1\n",
    "while i<=n:\n",
    "    fact=fact*i\n",
    "    i=i+1\n",
    "print(\"Factorial of\",n,\"=\",fact)\n"
   ]
  },
  {
   "cell_type": "code",
   "execution_count": 16,
   "metadata": {},
   "outputs": [
    {
     "name": "stdout",
     "output_type": "stream",
     "text": [
      "enter n value4\n",
      "sum is  10\n"
     ]
    }
   ],
   "source": [
    "#Program to find sum of n natural numbers.\n",
    "n=int(input(\"enter n value\"))\n",
    "sum=0\n",
    "for i in range(n+1):\n",
    "    sum=sum+i\n",
    "print(\"sum is \",sum)"
   ]
  },
  {
   "cell_type": "code",
   "execution_count": 18,
   "metadata": {},
   "outputs": [
    {
     "name": "stdout",
     "output_type": "stream",
     "text": [
      "enter the number:4\n",
      "square of 4 is 16\n"
     ]
    }
   ],
   "source": [
    "# Python Program to calculate the square root\n",
    "def sqr(num):\n",
    "    square=num*num\n",
    "    return square\n",
    "num=int(input(\"enter the number:\"))\n",
    "res=sqr(num)\n",
    "print(\"square of\",num,\"is\",res)\n"
   ]
  },
  {
   "cell_type": "code",
   "execution_count": 19,
   "metadata": {},
   "outputs": [
    {
     "name": "stdout",
     "output_type": "stream",
     "text": [
      "enter the length:4\n",
      "enter the breadth:6\n",
      "area of rectangle is 24\n"
     ]
    }
   ],
   "source": [
    "#Python Program to calculate area of rectangle\n",
    "def arearect(length,breadth):\n",
    "    area=length*breadth\n",
    "    return area\n",
    "l=int(input(\"enter the length:\"))\n",
    "b=int(input(\"enter the breadth:\"))\n",
    "res=arearect(l,b)\n",
    "print(\"area of rectangle is\",res)"
   ]
  },
  {
   "cell_type": "code",
   "execution_count": 20,
   "metadata": {},
   "outputs": [
    {
     "name": "stdout",
     "output_type": "stream",
     "text": [
      "enter the radius:4\n",
      "area of circle is 50.26548245743669\n"
     ]
    }
   ],
   "source": [
    "#Python Program to calculate area of circle\n",
    "import math\n",
    "def areacir(radius):\n",
    "    area=math.pi*radius*radius\n",
    "    return area\n",
    "num=int(input(\"enter the radius:\"))\n",
    "res=areacir(num)\n",
    "print(\"area of circle is\",res)\n"
   ]
  },
  {
   "cell_type": "code",
   "execution_count": 22,
   "metadata": {},
   "outputs": [
    {
     "name": "stdout",
     "output_type": "stream",
     "text": [
      "Enter a number\n",
      "4\n",
      "4 is even\n"
     ]
    }
   ],
   "source": [
    "#Write a function that finds whether a number is odd or even\n",
    "def odd_even(n):\n",
    "    if n%2==0:\n",
    "        print(n,\"is even\")\n",
    "    else:\n",
    "        print(n,\"is odd\")\n",
    "#end of function\n",
    "n=int(input(\"Enter a number\\n\"))\n",
    "odd_even(n)"
   ]
  },
  {
   "cell_type": "code",
   "execution_count": 23,
   "metadata": {},
   "outputs": [
    {
     "name": "stdout",
     "output_type": "stream",
     "text": [
      "Enter the first number: 10\n",
      "Enter the second number: 3\n",
      "Quotient is: 3\n",
      "Remainder is: 1\n"
     ]
    }
   ],
   "source": [
    "#Write a function named solve that returns reminder and quotient of two numbers on division\n",
    "def solve(a,b):\n",
    "    quotient=a//b\n",
    "    remainder=a%b\n",
    "    return (quotient,remainder)\n",
    "#end of function\n",
    "a=int(input(\"Enter the first number: \"))\n",
    "b=int(input(\"Enter the second number: \"))\n",
    "q,r=solve(a,b)\n",
    "print(\"Quotient is:\",q)\n",
    "print(\"Remainder is:\",r)"
   ]
  },
  {
   "cell_type": "code",
   "execution_count": 24,
   "metadata": {},
   "outputs": [
    {
     "name": "stdout",
     "output_type": "stream",
     "text": [
      "Input a number: 5\n",
      "5 x 1 = 5\n",
      "5 x 2 = 10\n",
      "5 x 3 = 15\n",
      "5 x 4 = 20\n",
      "5 x 5 = 25\n",
      "5 x 6 = 30\n",
      "5 x 7 = 35\n",
      "5 x 8 = 40\n",
      "5 x 9 = 45\n",
      "5 x 10 = 50\n"
     ]
    }
   ],
   "source": [
    "#Program to create the multiplication table (from 1 to 10) of a number\n",
    "n = int(input(\"Input a number: \"))\n",
    "\n",
    "# use for loop to iterate 10 times\n",
    "for i in range(1,11):\n",
    "   print(n,'x',i,'=',n*i)"
   ]
  },
  {
   "cell_type": "code",
   "execution_count": 25,
   "metadata": {},
   "outputs": [
    {
     "name": "stdout",
     "output_type": "stream",
     "text": [
      "enter your genderfemale\n",
      "enter your age16\n",
      "not eligible for marriage\n"
     ]
    }
   ],
   "source": [
    "#Program to check eligibility for marriage based on gender.\n",
    "gen=input(\"enter your gender\")\n",
    "age=int(input(\"enter your age\"))\n",
    "if gen=='M' :\n",
    "    if age>21 :\n",
    "        print(\"eligible for marriage\")\n",
    "    else :\n",
    "        print(\"not eligible for marriage\")\n",
    "else :\n",
    "    if age>18 :\n",
    "        print(\"eligible for marriage\")\n",
    "    else :\n",
    "        print(\"not eligible for marriage\")"
   ]
  },
  {
   "cell_type": "code",
   "execution_count": 27,
   "metadata": {},
   "outputs": [
    {
     "name": "stdout",
     "output_type": "stream",
     "text": [
      "Enter marks\n",
      "85\n",
      "FCD\n"
     ]
    }
   ],
   "source": [
    "##Program that accepts a marks from user and prints FCD,FC,...\n",
    "marks=int(input(\"Enter marks\\n\"))\n",
    "if marks>=80 :\n",
    "    print(\"FCD\")\n",
    "elif marks >= 60:\n",
    "    print(\"FC\")\n",
    "elif marks >= 35:\n",
    "    print(\"SC\")\n",
    "else :\n",
    "    print(\"Fail\")"
   ]
  },
  {
   "cell_type": "code",
   "execution_count": 28,
   "metadata": {},
   "outputs": [
    {
     "name": "stdout",
     "output_type": "stream",
     "text": [
      "Enter a number\n",
      "-4\n",
      "Negative\n"
     ]
    }
   ],
   "source": [
    "#Program that accepts a marks from user and prints FCD,FC,...\n",
    "x=int(input(\"Enter a number\\n\"))\n",
    "if x==0:\n",
    "    print(\"Zero\")\n",
    "elif x>0:\n",
    "    print(\"Positive\")\n",
    "else:\n",
    "    print(\"Negative\")"
   ]
  },
  {
   "cell_type": "code",
   "execution_count": 29,
   "metadata": {},
   "outputs": [
    {
     "name": "stdout",
     "output_type": "stream",
     "text": [
      "Enter a number:2\n",
      "Enter another number:4\n",
      "Sum of two numbers: 6\n"
     ]
    }
   ],
   "source": [
    "# Program to add two numbers using functions\n",
    "def sum(a,b):\n",
    "    return a+b\n",
    "\n",
    "x=int(input(\"Enter a number:\"))\n",
    "y=int(input(\"Enter another number:\"))\n",
    "s=sum(x,y)\n",
    "print(\"Sum of two numbers:\",s)"
   ]
  },
  {
   "cell_type": "code",
   "execution_count": 2,
   "metadata": {},
   "outputs": [
    {
     "name": "stdout",
     "output_type": "stream",
     "text": [
      "Enter first number\n",
      "2\n",
      "Enter second number\n",
      "3\n",
      "GCD is 1\n"
     ]
    }
   ],
   "source": [
    "m=int(input(\"Enter first number\\n\"))\n",
    "n=int(input(\"Enter second number\\n\"))\n",
    "while n!=0:\n",
    "    m,n=n,m%n\n",
    "#end of while\n",
    "gcd=m\n",
    "print(\"GCD is\",gcd)"
   ]
  },
  {
   "cell_type": "code",
   "execution_count": null,
   "metadata": {},
   "outputs": [],
   "source": []
  }
 ],
 "metadata": {
  "kernelspec": {
   "display_name": "Python 3",
   "language": "python",
   "name": "python3"
  },
  "language_info": {
   "codemirror_mode": {
    "name": "ipython",
    "version": 3
   },
   "file_extension": ".py",
   "mimetype": "text/x-python",
   "name": "python",
   "nbconvert_exporter": "python",
   "pygments_lexer": "ipython3",
   "version": "3.9.0"
  }
 },
 "nbformat": 4,
 "nbformat_minor": 4
}
